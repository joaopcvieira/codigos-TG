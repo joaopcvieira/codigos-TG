{
 "cells": [
  {
   "cell_type": "code",
   "execution_count": 15,
   "id": "2621051f",
   "metadata": {},
   "outputs": [
    {
     "name": "stdout",
     "output_type": "stream",
     "text": [
      "[\n",
      "  [0, 3, 7, 0, 0, 4, 5, 0, 3, 3, 0, 7], \n",
      "  [7, 0, 7, 3, 3, 7, 7, 3, 5, 6, 0, 7], \n",
      "  [7, 7, 0, 5, 0, 4, 0, 0, 0, 3, 0, 7], \n",
      "  [0, 3, 6, 0, 0, 3, 0, 0, 0, 4, 0, 7], \n",
      "  [0, 3, 0, 0, 0, 0, 7, 3, 5, 5, 0, 7], \n",
      "  [3, 0, 0, 0, 0, 0, 5, 0, 7, 0, 0, 7], \n",
      "  [3, 3, 0, 0, 3, 5, 0, 3, 5, 2, 0, 7], \n",
      "  [0, 0, 0, 0, 0, 0, 5, 0, 2, 0, 0, 6], \n",
      "  [3, 0, 0, 0, 2, 3, 5, 0, 0, 3, 0, 7], \n",
      "  [0, 0, 0, 2, 2, 0, 3, 0, 0, 0, 0, 6], \n",
      "  [0, 0, 0, 0, 0, 0, 3, 3, 0, 3, 0, 5], \n",
      "  [3, 3, 3, 3, 3, 3, 5, 0, 0, 0, 0, 0], \n",
      "]\n"
     ]
    }
   ],
   "source": [
    "# read file ../matriz_dematel.txt e retorne a matriz num formato numpy array\n",
    "import numpy as np\n",
    "def read_matriz_dematel(file_path):\n",
    "    with open(file_path, 'r') as f:\n",
    "        lines = f.readlines()\n",
    "    matriz = []\n",
    "    print(\"[\")\n",
    "    for line in lines:\n",
    "        row = list(map(int, line.replace(',', ' ').strip().split()))\n",
    "        matriz.append(row)\n",
    "        print(f'  {row}, ')\n",
    "    print(\"]\")\n",
    "\n",
    "\n",
    "read_matriz_dematel('../matriz_dematel.txt')"
   ]
  }
 ],
 "metadata": {
  "kernelspec": {
   "display_name": "Python 3",
   "language": "python",
   "name": "python3"
  },
  "language_info": {
   "codemirror_mode": {
    "name": "ipython",
    "version": 3
   },
   "file_extension": ".py",
   "mimetype": "text/x-python",
   "name": "python",
   "nbconvert_exporter": "python",
   "pygments_lexer": "ipython3",
   "version": "3.12.8"
  }
 },
 "nbformat": 4,
 "nbformat_minor": 5
}
