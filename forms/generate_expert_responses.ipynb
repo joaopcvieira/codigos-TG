{
 "cells": [
  {
   "cell_type": "code",
   "execution_count": 28,
   "id": "842c463e",
   "metadata": {},
   "outputs": [
    {
     "name": "stdout",
     "output_type": "stream",
     "text": [
      "✅ Carregamento concluído: 12 fatores, 50 perguntas geradas\n"
     ]
    }
   ],
   "source": [
    "# =============================================================================\n",
    "# 1. CARREGAMENTO E PRÉ-PROCESSAMENTO DOS DADOS\n",
    "# =============================================================================\n",
    "\n",
    "import pandas as pd\n",
    "import gspread\n",
    "import google.auth\n",
    "from pathlib import Path\n",
    "\n",
    "# Carrega dados base\n",
    "df_fatores = pd.read_csv(\"Fatores.csv\")\n",
    "df_relacao = pd.read_csv(\"relacao_fatores.csv\")\n",
    "\n",
    "# Normaliza textos\n",
    "def norm(s): return ' '.join(str(s).strip().split()).replace('\\n', ' ')\n",
    "df_fatores['Fator'] = df_fatores['Fator'].apply(norm)\n",
    "df_relacao.rename(columns={df_relacao.columns[0]: 'Fatores'}, inplace=True)\n",
    "df_relacao['Fatores'] = df_relacao['Fatores'].apply(norm)\n",
    "df_relacao.columns = [c if c=='Fatores' else norm(c) for c in df_relacao.columns]\n",
    "\n",
    "# Identifica fatores causa (não podem ser influenciados)\n",
    "fatores_causa = df_fatores.loc[\n",
    "    df_fatores['Categoria'].isin(['Fator Externo', 'Qualitativo']), 'Fator'\n",
    "].tolist()\n",
    "\n",
    "# Cria matriz de relações e dicionário de artigos\n",
    "artigos = df_fatores.set_index('Fator')['Artigo'].to_dict()\n",
    "M = df_relacao.set_index('Fatores').loc[:, [c for c in df_relacao.columns if c in df_relacao['Fatores'].values]]\n",
    "\n",
    "# Gera perguntas de influência (apenas triângulo inferior com 'sim')\n",
    "perguntas = []\n",
    "for i, f1 in enumerate(M.index):\n",
    "    for j, f2 in enumerate(M.columns):\n",
    "        if j >= i or str(M.iat[i, j]).strip().lower() != 'sim': continue\n",
    "        a1, a2 = artigos.get(f1, ''), artigos.get(f2, '')\n",
    "\n",
    "        # f1 -> f2\n",
    "        if f2 not in fatores_causa and f1 != 'Sucesso do Lançamento':\n",
    "            perguntas.append({'f1': f1, 'f2': f2, 'pergunta': f\"O quanto **{a1} {f1}** influencia **{a2} {f2}**?\"})\n",
    "\n",
    "        # f2 -> f1\n",
    "        if f1 not in fatores_causa and f2 != 'Sucesso do Lançamento':\n",
    "            perguntas.append({'f1': f2, 'f2': f1, 'pergunta': f\"O quanto **{a2} {f2}** influencia **{a1} {f1}**?\"})\n",
    "\n",
    "df_perguntas = pd.DataFrame(perguntas)\n",
    "\n",
    "# Ordena perguntas e adiciona IDs\n",
    "df_perguntas = (df_perguntas\n",
    "    .merge(df_fatores[['Fator', 'Ordem']], left_on='f1', right_on='Fator')\n",
    "    .drop(columns=['Fator'])\n",
    "    .merge(df_fatores[['Fator', 'Ordem']], left_on='f2', right_on='Fator', suffixes=('_f1', '_f2'))\n",
    "    .drop(columns=['Fator'])\n",
    "    .sort_values(['Ordem_f1', 'Ordem_f2'])\n",
    "    .reset_index(drop=True))\n",
    "\n",
    "df_perguntas['id'] = 'P' + (df_perguntas.index + 1).astype(str).str.zfill(2)\n",
    "\n",
    "print(f\"✅ Carregamento concluído: {len(df_fatores)} fatores, {len(df_perguntas)} perguntas geradas\")"
   ]
  },
  {
   "cell_type": "code",
   "execution_count": 33,
   "id": "8fa1088e",
   "metadata": {},
   "outputs": [
    {
     "name": "stdout",
     "output_type": "stream",
     "text": [
      "✅ Respostas carregadas: 850 registros de 17 especialistas\n"
     ]
    }
   ],
   "source": [
    "# =============================================================================\n",
    "# 2. BUSCA E PROCESSAMENTO DAS RESPOSTAS DO GOOGLE SHEETS\n",
    "# =============================================================================\n",
    "\n",
    "# Conecta ao Google Sheets\n",
    "creds, _ = google.auth.default(scopes=['https://www.googleapis.com/auth/spreadsheets'])\n",
    "gc = gspread.authorize(creds)\n",
    "sheet = gc.open_by_url('https://docs.google.com/spreadsheets/d/1utzXUl0Kr405S1simj41rLYMAmFKOlA16SSejq1ELbQ/edit?resourcekey=&gid=859696412#gid=859696412').worksheet('export')\n",
    "\n",
    "# Carrega e filtra dados das respostas\n",
    "df_raw = pd.DataFrame(sheet.get_all_records())\n",
    "cols_perguntas = [c for c in df_raw.columns if c.startswith('P') and c[1:].isdigit()]\n",
    "df_respostas = df_raw[cols_perguntas].apply(pd.to_numeric, errors='coerce')\n",
    "\n",
    "# Transforma para formato longo (expert_id, pergunta, resposta)\n",
    "df_long = (df_respostas\n",
    "    .melt(var_name='pergunta', value_name='resposta', ignore_index=False)\n",
    "    .reset_index()\n",
    "    .rename(columns={'index': 'expert_id'})\n",
    "    .merge(df_perguntas[['id', 'f1', 'f2']], left_on='pergunta', right_on='id', how='left')\n",
    "    .drop(columns=['id'])\n",
    "    .rename(columns={'f1': 'factor_source', 'f2': 'factor_target', 'resposta': 'influence_score'})\n",
    "    [['expert_id', 'factor_source', 'factor_target', 'influence_score']])\n",
    "\n",
    "print(f\"✅ Respostas carregadas: {len(df_long)} registros de {df_long['expert_id'].nunique()} especialistas\")"
   ]
  },
  {
   "cell_type": "code",
   "execution_count": 35,
   "id": "ffe45605",
   "metadata": {},
   "outputs": [
    {
     "name": "stdout",
     "output_type": "stream",
     "text": [
      "💾 Arquivo exportado: /Users/joaovieira/Documents/TG/codigos-TG/forms/../Delphi/inputs/expert_responses.csv\n",
      "📊 Dimensões: 2448 linhas × 4 colunas\n",
      "👥 Especialistas: 17\n",
      "🔢 Scores não-zero: 616\n"
     ]
    }
   ],
   "source": [
    "# =============================================================================\n",
    "# 3. CRIAÇÃO DA MATRIZ COMPLETA E EXPORTAÇÃO\n",
    "# =============================================================================\n",
    "\n",
    "# Cria esqueleto com todas as combinações possíveis de fatores\n",
    "from itertools import product\n",
    "esqueleto = pd.DataFrame(list(product(df_fatores['Fator'], df_fatores['Fator'])),\n",
    "                        columns=['factor_source', 'factor_target'])\n",
    "esqueleto['influence_score'] = 0\n",
    "\n",
    "# Para cada especialista, completa respostas faltantes com 0\n",
    "respostas_completas = []\n",
    "for expert_id in df_long['expert_id'].unique():\n",
    "    expert_data = df_long[df_long['expert_id'] == expert_id]\n",
    "    faltantes = (esqueleto\n",
    "        .merge(expert_data, on=['factor_source', 'factor_target'], how='left', indicator=True)\n",
    "        .query('_merge == \"left_only\"')\n",
    "        .drop(columns=['influence_score_y', '_merge']))\n",
    "    faltantes['expert_id'] = expert_id\n",
    "    faltantes['influence_score'] = 0\n",
    "    respostas_completas.extend([expert_data, faltantes[['expert_id', 'factor_source', 'factor_target', 'influence_score']]])\n",
    "\n",
    "df_final = (pd.concat(respostas_completas, ignore_index=True)\n",
    "    .sort_values(['expert_id', 'factor_source', 'factor_target'])\n",
    "    .reset_index(drop=True))\n",
    "\n",
    "# Exporta resultado\n",
    "output_path = Path('../Delphi/inputs/expert_responses.csv')\n",
    "output_path.parent.mkdir(parents=True, exist_ok=True)\n",
    "df_final.to_csv(output_path, index=False)\n",
    "\n",
    "print(f\"💾 Arquivo exportado: {output_path.absolute()}\")\n",
    "print(f\"📊 Dimensões: {df_final.shape[0]} linhas × {df_final.shape[1]} colunas\")\n",
    "print(f\"👥 Especialistas: {df_final['expert_id'].nunique()}\")\n",
    "print(f\"🔢 Scores não-zero: {(df_final['influence_score'] > 0).sum()}\")"
   ]
  }
 ],
 "metadata": {
  "kernelspec": {
   "display_name": "Python 3",
   "language": "python",
   "name": "python3"
  },
  "language_info": {
   "codemirror_mode": {
    "name": "ipython",
    "version": 3
   },
   "file_extension": ".py",
   "mimetype": "text/x-python",
   "name": "python",
   "nbconvert_exporter": "python",
   "pygments_lexer": "ipython3",
   "version": "3.12.8"
  }
 },
 "nbformat": 4,
 "nbformat_minor": 5
}
