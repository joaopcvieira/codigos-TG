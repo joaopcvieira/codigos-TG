{
 "cells": [
  {
   "cell_type": "code",
   "execution_count": 1,
   "id": "7100c2b2",
   "metadata": {},
   "outputs": [],
   "source": [
    "import pandas as pd\n",
    "import numpy as np\n",
    "import plotly.express as px\n",
    "\n",
    "df_fatores = pd.read_csv(\"Fatores.csv\", sep=\",\", header=0)\n",
    "df_relacao_fatores = pd.read_csv(\"relacao_fatores.csv\", sep=\",\", header=0)"
   ]
  },
  {
   "cell_type": "code",
   "execution_count": 2,
   "id": "5a46cc84",
   "metadata": {},
   "outputs": [],
   "source": [
    "df_fatores_causa = df_fatores.loc[\n",
    "    (df_fatores['Categoria'] == 'Fator Externo')\n",
    "    | (df_fatores['Categoria'] == 'Qualitativo'), 'Fator'].values.tolist()\n",
    "\n",
    "\n",
    "# df_fatores.head()"
   ]
  },
  {
   "cell_type": "code",
   "execution_count": 3,
   "id": "49b1104d",
   "metadata": {},
   "outputs": [],
   "source": [
    "import pandas as pd\n",
    "\n",
    "# --- normalização leve ---\n",
    "def norm(s): \n",
    "    return ' '.join(str(s).strip().split()).replace('\\n', ' ')\n",
    "\n",
    "df_fatores = df_fatores.copy()\n",
    "df_fatores['Fator'] = df_fatores['Fator'].map(norm)\n",
    "df_fatores['Artigo'] = df_fatores['Artigo'].str.strip()\n",
    "\n",
    "df_relacao_fatores = df_relacao_fatores.copy()\n",
    "df_relacao_fatores.rename(columns={df_relacao_fatores.columns[0]: 'Fatores'}, inplace=True)\n",
    "df_relacao_fatores['Fatores'] = df_relacao_fatores['Fatores'].map(norm)\n",
    "df_relacao_fatores.columns = [c if c=='Fatores' else norm(c) for c in df_relacao_fatores.columns]\n",
    "\n",
    "# dicionário fator -> artigo (\"o\"/\"a\")\n",
    "artigos = df_fatores.set_index('Fator')['Artigo'].to_dict()\n",
    "\n",
    "# matriz M com índice = fatores e colunas = fatores (alinhadas e no MESMO conjunto)\n",
    "M = df_relacao_fatores.set_index('Fatores')\n",
    "M = M.loc[:, [c for c in M.columns if c in M.index]]  # interseção para garantir igualdade\n",
    "\n",
    "# --- gera perguntas só onde há \"sim\" no triângulo inferior ---\n",
    "df_perguntas = pd.DataFrame(columns=['f1', 'f2', 'pergunta'])\n",
    "for i, f1 in enumerate(M.index):\n",
    "    for j, f2 in enumerate(M.columns):\n",
    "        if j >= i:                   # pula diagonal e triângulo superior\n",
    "            continue\n",
    "        if str(M.iat[i, j]).strip().lower() == 'sim':\n",
    "            a1 = artigos.get(f1, '')\n",
    "            a2 = artigos.get(f2, '')\n",
    "            \n",
    "            # adiciona pergunta (f1 influencia f2)\n",
    "            if (f2 not in df_fatores_causa) and (f1 != 'Sucesso do Lançamento'):\n",
    "                df_perguntas = pd.concat([df_perguntas, pd.DataFrame({\n",
    "                    'f1': f1, \n",
    "                    'f2': f2, \n",
    "                    'pergunta': f\"O quanto **{a1} {f1}** influencia **{a2} {f2}**?\"\n",
    "                }, index=[0])], ignore_index=True)\n",
    "\n",
    "            # adiciona pergunta (f2 influencia f1)\n",
    "            if f1 not in df_fatores_causa and (f2 != 'Sucesso do Lançamento'):\n",
    "                df_perguntas = pd.concat([df_perguntas, pd.DataFrame({\n",
    "                    'f1': f2, \n",
    "                    'f2': f1, \n",
    "                    'pergunta': f\"O quanto **{a2} {f2}** influencia **{a1} {f1}**?\"\n",
    "                }, index=[0])], ignore_index=True)\n",
    "\n",
    "\n",
    "df_perguntas.shape\n",
    "df_perguntas = (df_perguntas\n",
    "        .merge(df_fatores[['Fator', 'Ordem']], left_on='f1', right_on='Fator')\n",
    "        .drop(columns=['Fator'])\n",
    "        .merge(df_fatores[['Fator', 'Ordem']], left_on='f2', right_on='Fator', suffixes=('_f1', '_f2'))\n",
    "        .drop(columns=['Fator'])\n",
    "        .sort_values(by=['Ordem_f1', 'Ordem_f2'])\n",
    "        .reset_index(drop=True))"
   ]
  },
  {
   "cell_type": "code",
   "execution_count": 4,
   "id": "113a9589",
   "metadata": {},
   "outputs": [
    {
     "name": "stdout",
     "output_type": "stream",
     "text": [
      "|    | f1                      | f2                                                   | pergunta                                                                                                      |   Ordem_f1 |   Ordem_f2 | id   |\n",
      "|---:|:------------------------|:-----------------------------------------------------|:--------------------------------------------------------------------------------------------------------------|-----------:|-----------:|:-----|\n",
      "|  0 | Documentação de Projeto | Volume da Câmara                                     | O quanto **a Documentação de Projeto** influencia **o Volume da Câmara**?                                     |          1 |          6 | P01  |\n",
      "|  1 | Documentação de Projeto | Razão de mistura O/F e controle de vazão do oxigênio | O quanto **a Documentação de Projeto** influencia **a Razão de mistura O/F e controle de vazão do oxigênio**? |          1 |          7 | P02  |\n",
      "|  2 | Documentação de Projeto | Temperatura do Oxigênio                              | O quanto **a Documentação de Projeto** influencia **a Temperatura do Oxigênio**?                              |          1 |          8 | P03  |\n",
      "|  3 | Documentação de Projeto | Massa de Parafina                                    | O quanto **a Documentação de Projeto** influencia **a Massa de Parafina**?                                    |          1 |          9 | P04  |\n",
      "|  4 | Documentação de Projeto | Acabamento Superficial do Grão e pureza da parafina  | O quanto **a Documentação de Projeto** influencia **o Acabamento Superficial do Grão e pureza da parafina**?  |          1 |         10 | P05  |\n"
     ]
    }
   ],
   "source": [
    "df_perguntas['id'] = 'P' + (df_perguntas.index + 1).map(lambda x: f'{x:02d}')\n",
    "print(df_perguntas.head().to_markdown())\n",
    "df_perguntas.to_markdown('perguntas.md', index=False)\n"
   ]
  },
  {
   "cell_type": "markdown",
   "id": "cc1d53d1",
   "metadata": {},
   "source": [
    "# Buscando as respostas do Sheets"
   ]
  },
  {
   "cell_type": "code",
   "execution_count": 5,
   "id": "0139b604",
   "metadata": {},
   "outputs": [],
   "source": [
    "import pandas as pd\n",
    "import numpy as np\n",
    "from datetime import date\n",
    "\n",
    "import gspread\n",
    "from google.cloud import bigquery\n",
    "from google.oauth2.service_account import Credentials\n",
    "\n",
    "\n",
    "# Inicializar o cliente do BigQuery\n",
    "client = bigquery.Client()\n",
    "\n",
    "# Define the scope for the Google Sheets API\n",
    "scope = [\n",
    "    'https://www.googleapis.com/auth/spreadsheets',\n",
    "    'https://www.googleapis.com/auth/drive',\n",
    "]\n",
    "\n",
    "# Create a credentials instance from a service account file\n",
    "import google.auth\n",
    "creds, project = google.auth.default(scopes=scope)\n",
    "\n",
    "# Open the Google Spreadsheet\n",
    "gc = gspread.authorize(creds)\n",
    "spreadsheet = gc.open_by_url('https://docs.google.com/spreadsheets/d/1utzXUl0Kr405S1simj41rLYMAmFKOlA16SSejq1ELbQ/edit?resourcekey=&gid=859696412#gid=859696412')"
   ]
  },
  {
   "cell_type": "code",
   "execution_count": 6,
   "id": "3cfb13d5",
   "metadata": {},
   "outputs": [
    {
     "data": {
      "text/html": [
       "<div>\n",
       "<style scoped>\n",
       "    .dataframe tbody tr th:only-of-type {\n",
       "        vertical-align: middle;\n",
       "    }\n",
       "\n",
       "    .dataframe tbody tr th {\n",
       "        vertical-align: top;\n",
       "    }\n",
       "\n",
       "    .dataframe thead th {\n",
       "        text-align: right;\n",
       "    }\n",
       "</style>\n",
       "<table border=\"1\" class=\"dataframe\">\n",
       "  <thead>\n",
       "    <tr style=\"text-align: right;\">\n",
       "      <th></th>\n",
       "      <th>P01</th>\n",
       "      <th>P02</th>\n",
       "      <th>P03</th>\n",
       "      <th>P04</th>\n",
       "      <th>P05</th>\n",
       "      <th>P06</th>\n",
       "      <th>P07</th>\n",
       "      <th>P08</th>\n",
       "      <th>P09</th>\n",
       "      <th>P10</th>\n",
       "      <th>...</th>\n",
       "      <th>P41</th>\n",
       "      <th>P42</th>\n",
       "      <th>P43</th>\n",
       "      <th>P44</th>\n",
       "      <th>P45</th>\n",
       "      <th>P46</th>\n",
       "      <th>P47</th>\n",
       "      <th>P48</th>\n",
       "      <th>P49</th>\n",
       "      <th>P50</th>\n",
       "    </tr>\n",
       "  </thead>\n",
       "  <tbody>\n",
       "    <tr>\n",
       "      <th>0</th>\n",
       "      <td>2.0</td>\n",
       "      <td>2.0</td>\n",
       "      <td>3.0</td>\n",
       "      <td>3.0</td>\n",
       "      <td>2.0</td>\n",
       "      <td>4.0</td>\n",
       "      <td>0.0</td>\n",
       "      <td>0.0</td>\n",
       "      <td>0.0</td>\n",
       "      <td>1.0</td>\n",
       "      <td>...</td>\n",
       "      <td>2.0</td>\n",
       "      <td>0.0</td>\n",
       "      <td>1</td>\n",
       "      <td>4.0</td>\n",
       "      <td>0.0</td>\n",
       "      <td>0.0</td>\n",
       "      <td>4.0</td>\n",
       "      <td>0.0</td>\n",
       "      <td>0.0</td>\n",
       "      <td>1.0</td>\n",
       "    </tr>\n",
       "    <tr>\n",
       "      <th>1</th>\n",
       "      <td>3.0</td>\n",
       "      <td>3.0</td>\n",
       "      <td>3.0</td>\n",
       "      <td>3.0</td>\n",
       "      <td>2.0</td>\n",
       "      <td>4.0</td>\n",
       "      <td>2.0</td>\n",
       "      <td>3.0</td>\n",
       "      <td>3.0</td>\n",
       "      <td>2.0</td>\n",
       "      <td>...</td>\n",
       "      <td>1.0</td>\n",
       "      <td>0.0</td>\n",
       "      <td>2</td>\n",
       "      <td>2.0</td>\n",
       "      <td>3.0</td>\n",
       "      <td>2.0</td>\n",
       "      <td>0.0</td>\n",
       "      <td>0.0</td>\n",
       "      <td>0.0</td>\n",
       "      <td>3.0</td>\n",
       "    </tr>\n",
       "    <tr>\n",
       "      <th>2</th>\n",
       "      <td>3.0</td>\n",
       "      <td>3.0</td>\n",
       "      <td>3.0</td>\n",
       "      <td>3.0</td>\n",
       "      <td>2.0</td>\n",
       "      <td>3.0</td>\n",
       "      <td>0.0</td>\n",
       "      <td>0.0</td>\n",
       "      <td>2.0</td>\n",
       "      <td>0.0</td>\n",
       "      <td>...</td>\n",
       "      <td>1.0</td>\n",
       "      <td>1.0</td>\n",
       "      <td>0</td>\n",
       "      <td>2.0</td>\n",
       "      <td>1.0</td>\n",
       "      <td>4.0</td>\n",
       "      <td>3.0</td>\n",
       "      <td>0.0</td>\n",
       "      <td>1.0</td>\n",
       "      <td>2.0</td>\n",
       "    </tr>\n",
       "    <tr>\n",
       "      <th>3</th>\n",
       "      <td>3.0</td>\n",
       "      <td>3.0</td>\n",
       "      <td>2.0</td>\n",
       "      <td>3.0</td>\n",
       "      <td>NaN</td>\n",
       "      <td>2.0</td>\n",
       "      <td>1.0</td>\n",
       "      <td>3.0</td>\n",
       "      <td>1.0</td>\n",
       "      <td>3.0</td>\n",
       "      <td>...</td>\n",
       "      <td>0.0</td>\n",
       "      <td>0.0</td>\n",
       "      <td>0</td>\n",
       "      <td>1.0</td>\n",
       "      <td>1.0</td>\n",
       "      <td>1.0</td>\n",
       "      <td>3.0</td>\n",
       "      <td>1.0</td>\n",
       "      <td>1.0</td>\n",
       "      <td>1.0</td>\n",
       "    </tr>\n",
       "    <tr>\n",
       "      <th>4</th>\n",
       "      <td>4.0</td>\n",
       "      <td>4.0</td>\n",
       "      <td>1.0</td>\n",
       "      <td>4.0</td>\n",
       "      <td>NaN</td>\n",
       "      <td>4.0</td>\n",
       "      <td>2.0</td>\n",
       "      <td>1.0</td>\n",
       "      <td>2.0</td>\n",
       "      <td>1.0</td>\n",
       "      <td>...</td>\n",
       "      <td>NaN</td>\n",
       "      <td>NaN</td>\n",
       "      <td>0</td>\n",
       "      <td>4.0</td>\n",
       "      <td>0.0</td>\n",
       "      <td>0.0</td>\n",
       "      <td>1.0</td>\n",
       "      <td>0.0</td>\n",
       "      <td>0.0</td>\n",
       "      <td>0.0</td>\n",
       "    </tr>\n",
       "    <tr>\n",
       "      <th>5</th>\n",
       "      <td>NaN</td>\n",
       "      <td>NaN</td>\n",
       "      <td>NaN</td>\n",
       "      <td>NaN</td>\n",
       "      <td>NaN</td>\n",
       "      <td>2.0</td>\n",
       "      <td>NaN</td>\n",
       "      <td>NaN</td>\n",
       "      <td>NaN</td>\n",
       "      <td>NaN</td>\n",
       "      <td>...</td>\n",
       "      <td>3.0</td>\n",
       "      <td>NaN</td>\n",
       "      <td>3</td>\n",
       "      <td>2.0</td>\n",
       "      <td>NaN</td>\n",
       "      <td>NaN</td>\n",
       "      <td>NaN</td>\n",
       "      <td>NaN</td>\n",
       "      <td>NaN</td>\n",
       "      <td>NaN</td>\n",
       "    </tr>\n",
       "    <tr>\n",
       "      <th>6</th>\n",
       "      <td>4.0</td>\n",
       "      <td>4.0</td>\n",
       "      <td>4.0</td>\n",
       "      <td>4.0</td>\n",
       "      <td>3.0</td>\n",
       "      <td>2.0</td>\n",
       "      <td>2.0</td>\n",
       "      <td>1.0</td>\n",
       "      <td>3.0</td>\n",
       "      <td>1.0</td>\n",
       "      <td>...</td>\n",
       "      <td>0.0</td>\n",
       "      <td>0.0</td>\n",
       "      <td>3</td>\n",
       "      <td>4.0</td>\n",
       "      <td>4.0</td>\n",
       "      <td>1.0</td>\n",
       "      <td>4.0</td>\n",
       "      <td>2.0</td>\n",
       "      <td>0.0</td>\n",
       "      <td>3.0</td>\n",
       "    </tr>\n",
       "    <tr>\n",
       "      <th>7</th>\n",
       "      <td>4.0</td>\n",
       "      <td>4.0</td>\n",
       "      <td>0.0</td>\n",
       "      <td>2.0</td>\n",
       "      <td>0.0</td>\n",
       "      <td>NaN</td>\n",
       "      <td>1.0</td>\n",
       "      <td>1.0</td>\n",
       "      <td>0.0</td>\n",
       "      <td>3.0</td>\n",
       "      <td>...</td>\n",
       "      <td>3.0</td>\n",
       "      <td>0.0</td>\n",
       "      <td>2</td>\n",
       "      <td>NaN</td>\n",
       "      <td>0.0</td>\n",
       "      <td>0.0</td>\n",
       "      <td>NaN</td>\n",
       "      <td>0.0</td>\n",
       "      <td>2.0</td>\n",
       "      <td>NaN</td>\n",
       "    </tr>\n",
       "    <tr>\n",
       "      <th>8</th>\n",
       "      <td>0.0</td>\n",
       "      <td>0.0</td>\n",
       "      <td>0.0</td>\n",
       "      <td>0.0</td>\n",
       "      <td>0.0</td>\n",
       "      <td>4.0</td>\n",
       "      <td>2.0</td>\n",
       "      <td>3.0</td>\n",
       "      <td>2.0</td>\n",
       "      <td>2.0</td>\n",
       "      <td>...</td>\n",
       "      <td>4.0</td>\n",
       "      <td>3.0</td>\n",
       "      <td>4</td>\n",
       "      <td>3.0</td>\n",
       "      <td>NaN</td>\n",
       "      <td>3.0</td>\n",
       "      <td>3.0</td>\n",
       "      <td>0.0</td>\n",
       "      <td>2.0</td>\n",
       "      <td>4.0</td>\n",
       "    </tr>\n",
       "    <tr>\n",
       "      <th>9</th>\n",
       "      <td>1.0</td>\n",
       "      <td>1.0</td>\n",
       "      <td>1.0</td>\n",
       "      <td>1.0</td>\n",
       "      <td>1.0</td>\n",
       "      <td>3.0</td>\n",
       "      <td>2.0</td>\n",
       "      <td>2.0</td>\n",
       "      <td>2.0</td>\n",
       "      <td>2.0</td>\n",
       "      <td>...</td>\n",
       "      <td>2.0</td>\n",
       "      <td>0.0</td>\n",
       "      <td>2</td>\n",
       "      <td>NaN</td>\n",
       "      <td>1.0</td>\n",
       "      <td>1.0</td>\n",
       "      <td>4.0</td>\n",
       "      <td>0.0</td>\n",
       "      <td>0.0</td>\n",
       "      <td>1.0</td>\n",
       "    </tr>\n",
       "  </tbody>\n",
       "</table>\n",
       "<p>10 rows × 50 columns</p>\n",
       "</div>"
      ],
      "text/plain": [
       "   P01  P02  P03  P04  P05  P06  P07  P08  P09  P10  ...  P41  P42  P43  P44  \\\n",
       "0  2.0  2.0  3.0  3.0  2.0  4.0  0.0  0.0  0.0  1.0  ...  2.0  0.0    1  4.0   \n",
       "1  3.0  3.0  3.0  3.0  2.0  4.0  2.0  3.0  3.0  2.0  ...  1.0  0.0    2  2.0   \n",
       "2  3.0  3.0  3.0  3.0  2.0  3.0  0.0  0.0  2.0  0.0  ...  1.0  1.0    0  2.0   \n",
       "3  3.0  3.0  2.0  3.0  NaN  2.0  1.0  3.0  1.0  3.0  ...  0.0  0.0    0  1.0   \n",
       "4  4.0  4.0  1.0  4.0  NaN  4.0  2.0  1.0  2.0  1.0  ...  NaN  NaN    0  4.0   \n",
       "5  NaN  NaN  NaN  NaN  NaN  2.0  NaN  NaN  NaN  NaN  ...  3.0  NaN    3  2.0   \n",
       "6  4.0  4.0  4.0  4.0  3.0  2.0  2.0  1.0  3.0  1.0  ...  0.0  0.0    3  4.0   \n",
       "7  4.0  4.0  0.0  2.0  0.0  NaN  1.0  1.0  0.0  3.0  ...  3.0  0.0    2  NaN   \n",
       "8  0.0  0.0  0.0  0.0  0.0  4.0  2.0  3.0  2.0  2.0  ...  4.0  3.0    4  3.0   \n",
       "9  1.0  1.0  1.0  1.0  1.0  3.0  2.0  2.0  2.0  2.0  ...  2.0  0.0    2  NaN   \n",
       "\n",
       "   P45  P46  P47  P48  P49  P50  \n",
       "0  0.0  0.0  4.0  0.0  0.0  1.0  \n",
       "1  3.0  2.0  0.0  0.0  0.0  3.0  \n",
       "2  1.0  4.0  3.0  0.0  1.0  2.0  \n",
       "3  1.0  1.0  3.0  1.0  1.0  1.0  \n",
       "4  0.0  0.0  1.0  0.0  0.0  0.0  \n",
       "5  NaN  NaN  NaN  NaN  NaN  NaN  \n",
       "6  4.0  1.0  4.0  2.0  0.0  3.0  \n",
       "7  0.0  0.0  NaN  0.0  2.0  NaN  \n",
       "8  NaN  3.0  3.0  0.0  2.0  4.0  \n",
       "9  1.0  1.0  4.0  0.0  0.0  1.0  \n",
       "\n",
       "[10 rows x 50 columns]"
      ]
     },
     "execution_count": 6,
     "metadata": {},
     "output_type": "execute_result"
    }
   ],
   "source": [
    "sheet = spreadsheet.worksheet('export')\n",
    "\n",
    "df_respostas = pd.DataFrame(sheet.get_all_records())\n",
    "df_respostas\n",
    "\n",
    "# faça um regex para manter apenas as colunas de perguntas (P##)\n",
    "cols_manter = [x for x in df_respostas.columns if pd.Series(x).str.contains(r'^P\\d+$').any()]\n",
    "\n",
    "df_respostas = df_respostas[cols_manter].copy()\n",
    "df_respostas[cols_manter] = df_respostas[cols_manter].apply(pd.to_numeric, errors='coerce')\n",
    "\n",
    "df_silvs = df_respostas.iloc[0, :].copy()\n",
    "df_silvs\n",
    "\n",
    "df_respostas"
   ]
  },
  {
   "cell_type": "code",
   "execution_count": 7,
   "id": "d9a6f971",
   "metadata": {},
   "outputs": [
    {
     "data": {
      "text/html": [
       "<div>\n",
       "<style scoped>\n",
       "    .dataframe tbody tr th:only-of-type {\n",
       "        vertical-align: middle;\n",
       "    }\n",
       "\n",
       "    .dataframe tbody tr th {\n",
       "        vertical-align: top;\n",
       "    }\n",
       "\n",
       "    .dataframe thead th {\n",
       "        text-align: right;\n",
       "    }\n",
       "</style>\n",
       "<table border=\"1\" class=\"dataframe\">\n",
       "  <thead>\n",
       "    <tr style=\"text-align: right;\">\n",
       "      <th></th>\n",
       "      <th>Pergunta</th>\n",
       "      <th>Valor</th>\n",
       "    </tr>\n",
       "  </thead>\n",
       "  <tbody>\n",
       "    <tr>\n",
       "      <th>0</th>\n",
       "      <td>P01</td>\n",
       "      <td>2.0</td>\n",
       "    </tr>\n",
       "    <tr>\n",
       "      <th>1</th>\n",
       "      <td>P01</td>\n",
       "      <td>3.0</td>\n",
       "    </tr>\n",
       "    <tr>\n",
       "      <th>2</th>\n",
       "      <td>P01</td>\n",
       "      <td>3.0</td>\n",
       "    </tr>\n",
       "    <tr>\n",
       "      <th>3</th>\n",
       "      <td>P01</td>\n",
       "      <td>3.0</td>\n",
       "    </tr>\n",
       "    <tr>\n",
       "      <th>4</th>\n",
       "      <td>P01</td>\n",
       "      <td>4.0</td>\n",
       "    </tr>\n",
       "    <tr>\n",
       "      <th>...</th>\n",
       "      <td>...</td>\n",
       "      <td>...</td>\n",
       "    </tr>\n",
       "    <tr>\n",
       "      <th>495</th>\n",
       "      <td>P50</td>\n",
       "      <td>NaN</td>\n",
       "    </tr>\n",
       "    <tr>\n",
       "      <th>496</th>\n",
       "      <td>P50</td>\n",
       "      <td>3.0</td>\n",
       "    </tr>\n",
       "    <tr>\n",
       "      <th>497</th>\n",
       "      <td>P50</td>\n",
       "      <td>NaN</td>\n",
       "    </tr>\n",
       "    <tr>\n",
       "      <th>498</th>\n",
       "      <td>P50</td>\n",
       "      <td>4.0</td>\n",
       "    </tr>\n",
       "    <tr>\n",
       "      <th>499</th>\n",
       "      <td>P50</td>\n",
       "      <td>1.0</td>\n",
       "    </tr>\n",
       "  </tbody>\n",
       "</table>\n",
       "<p>500 rows × 2 columns</p>\n",
       "</div>"
      ],
      "text/plain": [
       "    Pergunta  Valor\n",
       "0        P01    2.0\n",
       "1        P01    3.0\n",
       "2        P01    3.0\n",
       "3        P01    3.0\n",
       "4        P01    4.0\n",
       "..       ...    ...\n",
       "495      P50    NaN\n",
       "496      P50    3.0\n",
       "497      P50    NaN\n",
       "498      P50    4.0\n",
       "499      P50    1.0\n",
       "\n",
       "[500 rows x 2 columns]"
      ]
     },
     "execution_count": 7,
     "metadata": {},
     "output_type": "execute_result"
    }
   ],
   "source": [
    "df_respostas.melt(var_name='Pergunta', value_name='Valor')"
   ]
  },
  {
   "cell_type": "code",
   "execution_count": 8,
   "id": "87fcc57d",
   "metadata": {},
   "outputs": [
    {
     "data": {
      "application/vnd.plotly.v1+json": {
       "config": {
        "plotlyServerURL": "https://plot.ly"
       },
       "data": [
        {
         "alignmentgroup": "True",
         "hovertemplate": "Pergunta=%{x}<br>Proporção=%{y}<br>Resposta=%{marker.color}<extra></extra>",
         "legendgroup": "",
         "marker": {
          "color": [
           0,
           1,
           2,
           3,
           4,
           0,
           1,
           2,
           3,
           4,
           0,
           1,
           2,
           3,
           4,
           0,
           1,
           2,
           3,
           4,
           0,
           1,
           2,
           3,
           2,
           3,
           4,
           0,
           1,
           2,
           0,
           1,
           2,
           3,
           0,
           1,
           2,
           3,
           0,
           1,
           2,
           3,
           2,
           3,
           4,
           3,
           4,
           0,
           1,
           2,
           3,
           4,
           0,
           1,
           2,
           3,
           4,
           2,
           3,
           4,
           0,
           1,
           2,
           3,
           2,
           3,
           4,
           1,
           2,
           3,
           4,
           0,
           1,
           2,
           3,
           4,
           0,
           2,
           3,
           4,
           1,
           2,
           3,
           4,
           2,
           3,
           4,
           2,
           3,
           4,
           1,
           2,
           3,
           4,
           0,
           2,
           3,
           4,
           0,
           1,
           2,
           1,
           2,
           3,
           4,
           0,
           1,
           2,
           3,
           4,
           0,
           1,
           2,
           3,
           4,
           0,
           1,
           2,
           3,
           0,
           2,
           3,
           4,
           1,
           2,
           0,
           1,
           0,
           1,
           2,
           0,
           1,
           2,
           3,
           1,
           3,
           4,
           0,
           1,
           2,
           3,
           4,
           0,
           1,
           2,
           0,
           1,
           2,
           3,
           0,
           1,
           2,
           3,
           0,
           1,
           2,
           3,
           4,
           0,
           1,
           3,
           0,
           1,
           2,
           3,
           4,
           1,
           2,
           3,
           4,
           0,
           1,
           3,
           4,
           0,
           1,
           2,
           3,
           4,
           0,
           1,
           3,
           4,
           0,
           1,
           2,
           0,
           1,
           2,
           0,
           1,
           2,
           3,
           4
          ],
          "coloraxis": "coloraxis",
          "pattern": {
           "shape": ""
          }
         },
         "name": "",
         "offsetgroup": "",
         "orientation": "v",
         "showlegend": false,
         "textposition": "auto",
         "type": "bar",
         "x": [
          "P01",
          "P01",
          "P01",
          "P01",
          "P01",
          "P02",
          "P02",
          "P02",
          "P02",
          "P02",
          "P03",
          "P03",
          "P03",
          "P03",
          "P03",
          "P04",
          "P04",
          "P04",
          "P04",
          "P04",
          "P05",
          "P05",
          "P05",
          "P05",
          "P06",
          "P06",
          "P06",
          "P07",
          "P07",
          "P07",
          "P08",
          "P08",
          "P08",
          "P08",
          "P09",
          "P09",
          "P09",
          "P09",
          "P10",
          "P10",
          "P10",
          "P10",
          "P11",
          "P11",
          "P11",
          "P12",
          "P12",
          "P13",
          "P13",
          "P13",
          "P13",
          "P13",
          "P14",
          "P14",
          "P14",
          "P14",
          "P14",
          "P15",
          "P15",
          "P15",
          "P16",
          "P16",
          "P16",
          "P16",
          "P17",
          "P17",
          "P17",
          "P18",
          "P18",
          "P18",
          "P18",
          "P19",
          "P19",
          "P19",
          "P19",
          "P19",
          "P20",
          "P20",
          "P20",
          "P20",
          "P21",
          "P21",
          "P21",
          "P21",
          "P22",
          "P22",
          "P22",
          "P23",
          "P23",
          "P23",
          "P24",
          "P24",
          "P24",
          "P24",
          "P25",
          "P25",
          "P25",
          "P25",
          "P26",
          "P26",
          "P26",
          "P27",
          "P27",
          "P27",
          "P27",
          "P28",
          "P28",
          "P28",
          "P28",
          "P28",
          "P29",
          "P29",
          "P29",
          "P29",
          "P29",
          "P30",
          "P30",
          "P30",
          "P30",
          "P31",
          "P31",
          "P31",
          "P31",
          "P32",
          "P32",
          "P33",
          "P33",
          "P34",
          "P34",
          "P34",
          "P35",
          "P35",
          "P35",
          "P35",
          "P36",
          "P36",
          "P36",
          "P37",
          "P37",
          "P37",
          "P37",
          "P37",
          "P38",
          "P38",
          "P38",
          "P39",
          "P39",
          "P39",
          "P39",
          "P40",
          "P40",
          "P40",
          "P40",
          "P41",
          "P41",
          "P41",
          "P41",
          "P41",
          "P42",
          "P42",
          "P42",
          "P43",
          "P43",
          "P43",
          "P43",
          "P43",
          "P44",
          "P44",
          "P44",
          "P44",
          "P45",
          "P45",
          "P45",
          "P45",
          "P46",
          "P46",
          "P46",
          "P46",
          "P46",
          "P47",
          "P47",
          "P47",
          "P47",
          "P48",
          "P48",
          "P48",
          "P49",
          "P49",
          "P49",
          "P50",
          "P50",
          "P50",
          "P50",
          "P50"
         ],
         "xaxis": "x",
         "y": [
          0.1,
          0.1,
          0.1,
          0.3,
          0.3,
          0.1,
          0.1,
          0.1,
          0.3,
          0.3,
          0.2,
          0.2,
          0.1,
          0.3,
          0.1,
          0.1,
          0.1,
          0.1,
          0.4,
          0.2,
          0.2,
          0.1,
          0.3,
          0.1,
          0.3,
          0.2,
          0.4,
          0.2,
          0.2,
          0.5,
          0.2,
          0.3,
          0.1,
          0.3,
          0.2,
          0.1,
          0.4,
          0.2,
          0.1,
          0.3,
          0.3,
          0.2,
          0.1,
          0.4,
          0.3,
          0.3,
          0.4,
          0.3,
          0.3,
          0.2,
          0.1,
          0.1,
          0.1,
          0.1,
          0.3,
          0.1,
          0.3,
          0.2,
          0.3,
          0.4,
          0.2,
          0.4,
          0.2,
          0.1,
          0.1,
          0.4,
          0.3,
          0.1,
          0.2,
          0.5,
          0.1,
          0.1,
          0.1,
          0.2,
          0.3,
          0.3,
          0.1,
          0.1,
          0.3,
          0.5,
          0.3,
          0.3,
          0.1,
          0.3,
          0.2,
          0.2,
          0.5,
          0.3,
          0.2,
          0.4,
          0.2,
          0.1,
          0.4,
          0.1,
          0.1,
          0.1,
          0.3,
          0.5,
          0.3,
          0.3,
          0.2,
          0.3,
          0.5,
          0.1,
          0.1,
          0.4,
          0.1,
          0.1,
          0.1,
          0.2,
          0.1,
          0.1,
          0.3,
          0.1,
          0.4,
          0.4,
          0.1,
          0.1,
          0.2,
          0.1,
          0.5,
          0.1,
          0.2,
          0.5,
          0.3,
          0.5,
          0.4,
          0.4,
          0.1,
          0.2,
          0.2,
          0.3,
          0.2,
          0.1,
          0.2,
          0.4,
          0.4,
          0.1,
          0.2,
          0.1,
          0.3,
          0.3,
          0.4,
          0.3,
          0.1,
          0.3,
          0.2,
          0.3,
          0.1,
          0.1,
          0.2,
          0.3,
          0.3,
          0.2,
          0.2,
          0.2,
          0.2,
          0.1,
          0.6,
          0.1,
          0.1,
          0.3,
          0.1,
          0.3,
          0.2,
          0.1,
          0.1,
          0.3,
          0.1,
          0.3,
          0.3,
          0.3,
          0.1,
          0.1,
          0.3,
          0.3,
          0.1,
          0.1,
          0.1,
          0.1,
          0.1,
          0.3,
          0.3,
          0.7,
          0.1,
          0.1,
          0.5,
          0.2,
          0.2,
          0.1,
          0.3,
          0.1,
          0.2,
          0.1
         ],
         "yaxis": "y"
        }
       ],
       "layout": {
        "barmode": "stack",
        "coloraxis": {
         "cmax": 4,
         "cmin": 0,
         "colorbar": {
          "title": {
           "text": "Resposta"
          }
         },
         "colorscale": [
          [
           0,
           "#8B0000"
          ],
          [
           1,
           "green"
          ]
         ]
        },
        "legend": {
         "tracegroupgap": 0
        },
        "template": {
         "data": {
          "bar": [
           {
            "error_x": {
             "color": "#2a3f5f"
            },
            "error_y": {
             "color": "#2a3f5f"
            },
            "marker": {
             "line": {
              "color": "#E5ECF6",
              "width": 0.5
             },
             "pattern": {
              "fillmode": "overlay",
              "size": 10,
              "solidity": 0.2
             }
            },
            "type": "bar"
           }
          ],
          "barpolar": [
           {
            "marker": {
             "line": {
              "color": "#E5ECF6",
              "width": 0.5
             },
             "pattern": {
              "fillmode": "overlay",
              "size": 10,
              "solidity": 0.2
             }
            },
            "type": "barpolar"
           }
          ],
          "carpet": [
           {
            "aaxis": {
             "endlinecolor": "#2a3f5f",
             "gridcolor": "white",
             "linecolor": "white",
             "minorgridcolor": "white",
             "startlinecolor": "#2a3f5f"
            },
            "baxis": {
             "endlinecolor": "#2a3f5f",
             "gridcolor": "white",
             "linecolor": "white",
             "minorgridcolor": "white",
             "startlinecolor": "#2a3f5f"
            },
            "type": "carpet"
           }
          ],
          "choropleth": [
           {
            "colorbar": {
             "outlinewidth": 0,
             "ticks": ""
            },
            "type": "choropleth"
           }
          ],
          "contour": [
           {
            "colorbar": {
             "outlinewidth": 0,
             "ticks": ""
            },
            "colorscale": [
             [
              0,
              "#0d0887"
             ],
             [
              0.1111111111111111,
              "#46039f"
             ],
             [
              0.2222222222222222,
              "#7201a8"
             ],
             [
              0.3333333333333333,
              "#9c179e"
             ],
             [
              0.4444444444444444,
              "#bd3786"
             ],
             [
              0.5555555555555556,
              "#d8576b"
             ],
             [
              0.6666666666666666,
              "#ed7953"
             ],
             [
              0.7777777777777778,
              "#fb9f3a"
             ],
             [
              0.8888888888888888,
              "#fdca26"
             ],
             [
              1,
              "#f0f921"
             ]
            ],
            "type": "contour"
           }
          ],
          "contourcarpet": [
           {
            "colorbar": {
             "outlinewidth": 0,
             "ticks": ""
            },
            "type": "contourcarpet"
           }
          ],
          "heatmap": [
           {
            "colorbar": {
             "outlinewidth": 0,
             "ticks": ""
            },
            "colorscale": [
             [
              0,
              "#0d0887"
             ],
             [
              0.1111111111111111,
              "#46039f"
             ],
             [
              0.2222222222222222,
              "#7201a8"
             ],
             [
              0.3333333333333333,
              "#9c179e"
             ],
             [
              0.4444444444444444,
              "#bd3786"
             ],
             [
              0.5555555555555556,
              "#d8576b"
             ],
             [
              0.6666666666666666,
              "#ed7953"
             ],
             [
              0.7777777777777778,
              "#fb9f3a"
             ],
             [
              0.8888888888888888,
              "#fdca26"
             ],
             [
              1,
              "#f0f921"
             ]
            ],
            "type": "heatmap"
           }
          ],
          "heatmapgl": [
           {
            "colorbar": {
             "outlinewidth": 0,
             "ticks": ""
            },
            "colorscale": [
             [
              0,
              "#0d0887"
             ],
             [
              0.1111111111111111,
              "#46039f"
             ],
             [
              0.2222222222222222,
              "#7201a8"
             ],
             [
              0.3333333333333333,
              "#9c179e"
             ],
             [
              0.4444444444444444,
              "#bd3786"
             ],
             [
              0.5555555555555556,
              "#d8576b"
             ],
             [
              0.6666666666666666,
              "#ed7953"
             ],
             [
              0.7777777777777778,
              "#fb9f3a"
             ],
             [
              0.8888888888888888,
              "#fdca26"
             ],
             [
              1,
              "#f0f921"
             ]
            ],
            "type": "heatmapgl"
           }
          ],
          "histogram": [
           {
            "marker": {
             "pattern": {
              "fillmode": "overlay",
              "size": 10,
              "solidity": 0.2
             }
            },
            "type": "histogram"
           }
          ],
          "histogram2d": [
           {
            "colorbar": {
             "outlinewidth": 0,
             "ticks": ""
            },
            "colorscale": [
             [
              0,
              "#0d0887"
             ],
             [
              0.1111111111111111,
              "#46039f"
             ],
             [
              0.2222222222222222,
              "#7201a8"
             ],
             [
              0.3333333333333333,
              "#9c179e"
             ],
             [
              0.4444444444444444,
              "#bd3786"
             ],
             [
              0.5555555555555556,
              "#d8576b"
             ],
             [
              0.6666666666666666,
              "#ed7953"
             ],
             [
              0.7777777777777778,
              "#fb9f3a"
             ],
             [
              0.8888888888888888,
              "#fdca26"
             ],
             [
              1,
              "#f0f921"
             ]
            ],
            "type": "histogram2d"
           }
          ],
          "histogram2dcontour": [
           {
            "colorbar": {
             "outlinewidth": 0,
             "ticks": ""
            },
            "colorscale": [
             [
              0,
              "#0d0887"
             ],
             [
              0.1111111111111111,
              "#46039f"
             ],
             [
              0.2222222222222222,
              "#7201a8"
             ],
             [
              0.3333333333333333,
              "#9c179e"
             ],
             [
              0.4444444444444444,
              "#bd3786"
             ],
             [
              0.5555555555555556,
              "#d8576b"
             ],
             [
              0.6666666666666666,
              "#ed7953"
             ],
             [
              0.7777777777777778,
              "#fb9f3a"
             ],
             [
              0.8888888888888888,
              "#fdca26"
             ],
             [
              1,
              "#f0f921"
             ]
            ],
            "type": "histogram2dcontour"
           }
          ],
          "mesh3d": [
           {
            "colorbar": {
             "outlinewidth": 0,
             "ticks": ""
            },
            "type": "mesh3d"
           }
          ],
          "parcoords": [
           {
            "line": {
             "colorbar": {
              "outlinewidth": 0,
              "ticks": ""
             }
            },
            "type": "parcoords"
           }
          ],
          "pie": [
           {
            "automargin": true,
            "type": "pie"
           }
          ],
          "scatter": [
           {
            "fillpattern": {
             "fillmode": "overlay",
             "size": 10,
             "solidity": 0.2
            },
            "type": "scatter"
           }
          ],
          "scatter3d": [
           {
            "line": {
             "colorbar": {
              "outlinewidth": 0,
              "ticks": ""
             }
            },
            "marker": {
             "colorbar": {
              "outlinewidth": 0,
              "ticks": ""
             }
            },
            "type": "scatter3d"
           }
          ],
          "scattercarpet": [
           {
            "marker": {
             "colorbar": {
              "outlinewidth": 0,
              "ticks": ""
             }
            },
            "type": "scattercarpet"
           }
          ],
          "scattergeo": [
           {
            "marker": {
             "colorbar": {
              "outlinewidth": 0,
              "ticks": ""
             }
            },
            "type": "scattergeo"
           }
          ],
          "scattergl": [
           {
            "marker": {
             "colorbar": {
              "outlinewidth": 0,
              "ticks": ""
             }
            },
            "type": "scattergl"
           }
          ],
          "scattermapbox": [
           {
            "marker": {
             "colorbar": {
              "outlinewidth": 0,
              "ticks": ""
             }
            },
            "type": "scattermapbox"
           }
          ],
          "scatterpolar": [
           {
            "marker": {
             "colorbar": {
              "outlinewidth": 0,
              "ticks": ""
             }
            },
            "type": "scatterpolar"
           }
          ],
          "scatterpolargl": [
           {
            "marker": {
             "colorbar": {
              "outlinewidth": 0,
              "ticks": ""
             }
            },
            "type": "scatterpolargl"
           }
          ],
          "scatterternary": [
           {
            "marker": {
             "colorbar": {
              "outlinewidth": 0,
              "ticks": ""
             }
            },
            "type": "scatterternary"
           }
          ],
          "surface": [
           {
            "colorbar": {
             "outlinewidth": 0,
             "ticks": ""
            },
            "colorscale": [
             [
              0,
              "#0d0887"
             ],
             [
              0.1111111111111111,
              "#46039f"
             ],
             [
              0.2222222222222222,
              "#7201a8"
             ],
             [
              0.3333333333333333,
              "#9c179e"
             ],
             [
              0.4444444444444444,
              "#bd3786"
             ],
             [
              0.5555555555555556,
              "#d8576b"
             ],
             [
              0.6666666666666666,
              "#ed7953"
             ],
             [
              0.7777777777777778,
              "#fb9f3a"
             ],
             [
              0.8888888888888888,
              "#fdca26"
             ],
             [
              1,
              "#f0f921"
             ]
            ],
            "type": "surface"
           }
          ],
          "table": [
           {
            "cells": {
             "fill": {
              "color": "#EBF0F8"
             },
             "line": {
              "color": "white"
             }
            },
            "header": {
             "fill": {
              "color": "#C8D4E3"
             },
             "line": {
              "color": "white"
             }
            },
            "type": "table"
           }
          ]
         },
         "layout": {
          "annotationdefaults": {
           "arrowcolor": "#2a3f5f",
           "arrowhead": 0,
           "arrowwidth": 1
          },
          "autotypenumbers": "strict",
          "coloraxis": {
           "colorbar": {
            "outlinewidth": 0,
            "ticks": ""
           }
          },
          "colorscale": {
           "diverging": [
            [
             0,
             "#8e0152"
            ],
            [
             0.1,
             "#c51b7d"
            ],
            [
             0.2,
             "#de77ae"
            ],
            [
             0.3,
             "#f1b6da"
            ],
            [
             0.4,
             "#fde0ef"
            ],
            [
             0.5,
             "#f7f7f7"
            ],
            [
             0.6,
             "#e6f5d0"
            ],
            [
             0.7,
             "#b8e186"
            ],
            [
             0.8,
             "#7fbc41"
            ],
            [
             0.9,
             "#4d9221"
            ],
            [
             1,
             "#276419"
            ]
           ],
           "sequential": [
            [
             0,
             "#0d0887"
            ],
            [
             0.1111111111111111,
             "#46039f"
            ],
            [
             0.2222222222222222,
             "#7201a8"
            ],
            [
             0.3333333333333333,
             "#9c179e"
            ],
            [
             0.4444444444444444,
             "#bd3786"
            ],
            [
             0.5555555555555556,
             "#d8576b"
            ],
            [
             0.6666666666666666,
             "#ed7953"
            ],
            [
             0.7777777777777778,
             "#fb9f3a"
            ],
            [
             0.8888888888888888,
             "#fdca26"
            ],
            [
             1,
             "#f0f921"
            ]
           ],
           "sequentialminus": [
            [
             0,
             "#0d0887"
            ],
            [
             0.1111111111111111,
             "#46039f"
            ],
            [
             0.2222222222222222,
             "#7201a8"
            ],
            [
             0.3333333333333333,
             "#9c179e"
            ],
            [
             0.4444444444444444,
             "#bd3786"
            ],
            [
             0.5555555555555556,
             "#d8576b"
            ],
            [
             0.6666666666666666,
             "#ed7953"
            ],
            [
             0.7777777777777778,
             "#fb9f3a"
            ],
            [
             0.8888888888888888,
             "#fdca26"
            ],
            [
             1,
             "#f0f921"
            ]
           ]
          },
          "colorway": [
           "#636efa",
           "#EF553B",
           "#00cc96",
           "#ab63fa",
           "#FFA15A",
           "#19d3f3",
           "#FF6692",
           "#B6E880",
           "#FF97FF",
           "#FECB52"
          ],
          "font": {
           "color": "#2a3f5f"
          },
          "geo": {
           "bgcolor": "white",
           "lakecolor": "white",
           "landcolor": "#E5ECF6",
           "showlakes": true,
           "showland": true,
           "subunitcolor": "white"
          },
          "hoverlabel": {
           "align": "left"
          },
          "hovermode": "closest",
          "mapbox": {
           "style": "light"
          },
          "paper_bgcolor": "white",
          "plot_bgcolor": "#E5ECF6",
          "polar": {
           "angularaxis": {
            "gridcolor": "white",
            "linecolor": "white",
            "ticks": ""
           },
           "bgcolor": "#E5ECF6",
           "radialaxis": {
            "gridcolor": "white",
            "linecolor": "white",
            "ticks": ""
           }
          },
          "scene": {
           "xaxis": {
            "backgroundcolor": "#E5ECF6",
            "gridcolor": "white",
            "gridwidth": 2,
            "linecolor": "white",
            "showbackground": true,
            "ticks": "",
            "zerolinecolor": "white"
           },
           "yaxis": {
            "backgroundcolor": "#E5ECF6",
            "gridcolor": "white",
            "gridwidth": 2,
            "linecolor": "white",
            "showbackground": true,
            "ticks": "",
            "zerolinecolor": "white"
           },
           "zaxis": {
            "backgroundcolor": "#E5ECF6",
            "gridcolor": "white",
            "gridwidth": 2,
            "linecolor": "white",
            "showbackground": true,
            "ticks": "",
            "zerolinecolor": "white"
           }
          },
          "shapedefaults": {
           "line": {
            "color": "#2a3f5f"
           }
          },
          "ternary": {
           "aaxis": {
            "gridcolor": "white",
            "linecolor": "white",
            "ticks": ""
           },
           "baxis": {
            "gridcolor": "white",
            "linecolor": "white",
            "ticks": ""
           },
           "bgcolor": "#E5ECF6",
           "caxis": {
            "gridcolor": "white",
            "linecolor": "white",
            "ticks": ""
           }
          },
          "title": {
           "x": 0.05
          },
          "xaxis": {
           "automargin": true,
           "gridcolor": "white",
           "linecolor": "white",
           "ticks": "",
           "title": {
            "standoff": 15
           },
           "zerolinecolor": "white",
           "zerolinewidth": 2
          },
          "yaxis": {
           "automargin": true,
           "gridcolor": "white",
           "linecolor": "white",
           "ticks": "",
           "title": {
            "standoff": 15
           },
           "zerolinecolor": "white",
           "zerolinewidth": 2
          }
         }
        },
        "title": {
         "text": "Proporção de respostas por pergunta"
        },
        "xaxis": {
         "anchor": "y",
         "domain": [
          0,
          1
         ],
         "title": {
          "text": "Pergunta"
         }
        },
        "yaxis": {
         "anchor": "x",
         "domain": [
          0,
          1
         ],
         "title": {
          "text": "Proporção"
         }
        }
       }
      }
     },
     "metadata": {},
     "output_type": "display_data"
    }
   ],
   "source": [
    "# Cria uma versão \"long\" dos dados de respostas\n",
    "df_melt = df_respostas.melt(var_name='Pergunta', value_name='Valor')\n",
    "\n",
    "# Calcula a contagem de cada resposta por pergunta e a proporção\n",
    "df_counts = df_melt.groupby(['Pergunta', 'Valor']).size().reset_index(name='count')\n",
    "df_totals = df_melt.groupby('Pergunta').size().reset_index(name='total')\n",
    "df_counts = df_counts.merge(df_totals, on='Pergunta')\n",
    "df_counts['proportion'] = df_counts['count'] / df_counts['total']\n",
    "\n",
    "# Cria o gráfico de barras empilhadas para visualizar a proporção de respostas diferentes por pergunta\n",
    "fig = px.bar(\n",
    "    df_counts,\n",
    "    x='Pergunta',\n",
    "    y='proportion',\n",
    "    color='Valor',\n",
    "    title='Proporção de respostas por pergunta',\n",
    "    labels={'proportion': 'Proporção', 'Valor': 'Resposta'},\n",
    "    barmode='stack',\n",
    "    color_continuous_scale=[(0.0, '#8B0000'), (1.0, 'green')],\n",
    "    range_color=[0, 4]\n",
    ")\n",
    "\n",
    "df_media = df_respostas[cols_manter].mean().reset_index()\n",
    "# fig.add_trace(px.line(df_media, x='index', y=0, title='Média das Respostas').data[0])\n",
    "\n",
    "fig.show()"
   ]
  },
  {
   "cell_type": "markdown",
   "id": "b01a05ba",
   "metadata": {},
   "source": [
    "## Conferindo respostas e montando matriz do DEMATEL"
   ]
  },
  {
   "cell_type": "code",
   "execution_count": 30,
   "id": "f05bc6cf",
   "metadata": {},
   "outputs": [
    {
     "data": {
      "text/html": [
       "<div>\n",
       "<style scoped>\n",
       "    .dataframe tbody tr th:only-of-type {\n",
       "        vertical-align: middle;\n",
       "    }\n",
       "\n",
       "    .dataframe tbody tr th {\n",
       "        vertical-align: top;\n",
       "    }\n",
       "\n",
       "    .dataframe thead th {\n",
       "        text-align: right;\n",
       "    }\n",
       "</style>\n",
       "<table border=\"1\" class=\"dataframe\">\n",
       "  <thead>\n",
       "    <tr style=\"text-align: right;\">\n",
       "      <th></th>\n",
       "      <th>Pergunta</th>\n",
       "      <th>Valor</th>\n",
       "    </tr>\n",
       "  </thead>\n",
       "  <tbody>\n",
       "    <tr>\n",
       "      <th>0</th>\n",
       "      <td>P01</td>\n",
       "      <td>2.0</td>\n",
       "    </tr>\n",
       "    <tr>\n",
       "      <th>1</th>\n",
       "      <td>P01</td>\n",
       "      <td>3.0</td>\n",
       "    </tr>\n",
       "    <tr>\n",
       "      <th>2</th>\n",
       "      <td>P01</td>\n",
       "      <td>3.0</td>\n",
       "    </tr>\n",
       "    <tr>\n",
       "      <th>3</th>\n",
       "      <td>P01</td>\n",
       "      <td>3.0</td>\n",
       "    </tr>\n",
       "    <tr>\n",
       "      <th>4</th>\n",
       "      <td>P01</td>\n",
       "      <td>4.0</td>\n",
       "    </tr>\n",
       "    <tr>\n",
       "      <th>...</th>\n",
       "      <td>...</td>\n",
       "      <td>...</td>\n",
       "    </tr>\n",
       "    <tr>\n",
       "      <th>495</th>\n",
       "      <td>P50</td>\n",
       "      <td>NaN</td>\n",
       "    </tr>\n",
       "    <tr>\n",
       "      <th>496</th>\n",
       "      <td>P50</td>\n",
       "      <td>3.0</td>\n",
       "    </tr>\n",
       "    <tr>\n",
       "      <th>497</th>\n",
       "      <td>P50</td>\n",
       "      <td>NaN</td>\n",
       "    </tr>\n",
       "    <tr>\n",
       "      <th>498</th>\n",
       "      <td>P50</td>\n",
       "      <td>4.0</td>\n",
       "    </tr>\n",
       "    <tr>\n",
       "      <th>499</th>\n",
       "      <td>P50</td>\n",
       "      <td>1.0</td>\n",
       "    </tr>\n",
       "  </tbody>\n",
       "</table>\n",
       "<p>500 rows × 2 columns</p>\n",
       "</div>"
      ],
      "text/plain": [
       "    Pergunta  Valor\n",
       "0        P01    2.0\n",
       "1        P01    3.0\n",
       "2        P01    3.0\n",
       "3        P01    3.0\n",
       "4        P01    4.0\n",
       "..       ...    ...\n",
       "495      P50    NaN\n",
       "496      P50    3.0\n",
       "497      P50    NaN\n",
       "498      P50    4.0\n",
       "499      P50    1.0\n",
       "\n",
       "[500 rows x 2 columns]"
      ]
     },
     "execution_count": 30,
     "metadata": {},
     "output_type": "execute_result"
    }
   ],
   "source": [
    "df_respostas.melt(var_name='Pergunta', value_name='Valor')"
   ]
  },
  {
   "cell_type": "code",
   "execution_count": 35,
   "id": "ddceb4f9",
   "metadata": {},
   "outputs": [
    {
     "name": "stdout",
     "output_type": "stream",
     "text": [
      "| Fator_f1                                             | Fator_f2                                             | id   |   resposta_silvs |   resposta_media |   desvio_respostas |     diff |\n",
      "|:-----------------------------------------------------|:-----------------------------------------------------|:-----|-----------------:|-----------------:|-------------------:|---------:|\n",
      "| Razão de mistura O/F e controle de vazão do oxigênio | Temperatura do Oxigênio                              | P28  |                0 |         1.55556  |           1.74005  | 1.55556  |\n",
      "| Temperatura Ambiente                                 | Volume da Câmara                                     | P45  |                0 |         1.25     |           1.48805  | 1.25     |\n",
      "| Temperatura Ambiente                                 | Temperatura do Oxigênio                              | P47  |                4 |         2.75     |           1.48805  | 1.25     |\n",
      "| Documentação de Projeto                              | Temperatura do Oxigênio                              | P03  |                3 |         1.88889  |           1.45297  | 1.11111  |\n",
      "| Massa de Parafina                                    | Razão de mistura O/F e controle de vazão do oxigênio | P37  |                3 |         2.5      |           1.43372  | 0.5      |\n",
      "| Razão de mistura O/F e controle de vazão do oxigênio | Massa de Parafina                                    | P29  |                0 |         2.6      |           1.42984  | 2.6      |\n",
      "| Qualidade da Comunicação                             | Acabamento Superficial do Grão e pureza da parafina  | P14  |                2 |         2.44444  |           1.424    | 0.444444 |\n",
      "| Acabamento Superficial do Grão e pureza da parafina  | Massa de Parafina                                    | P43  |                1 |         1.7      |           1.41814  | 0.7      |\n",
      "| Documentação de Projeto                              | Volume da Câmara                                     | P01  |                2 |         2.66667  |           1.41421  | 0.666667 |\n",
      "| Documentação de Projeto                              | Razão de mistura O/F e controle de vazão do oxigênio | P02  |                2 |         2.66667  |           1.41421  | 0.666667 |\n",
      "| Temperatura Ambiente                                 | Razão de mistura O/F e controle de vazão do oxigênio | P46  |                0 |         1.33333  |           1.41421  | 1.33333  |\n",
      "| Acabamento Superficial do Grão e pureza da parafina  | Razão de mistura O/F e controle de vazão do oxigênio | P41  |                2 |         1.77778  |           1.39443  | 0.222222 |\n",
      "| Temperatura Ambiente                                 | Sucesso do Lançamento                                | P50  |                1 |         1.875    |           1.3562   | 0.875    |\n",
      "| Razão de mistura O/F e controle de vazão do oxigênio | Acabamento Superficial do Grão e pureza da parafina  | P30  |                0 |         1.125    |           1.3562   | 1.125    |\n",
      "| Qualidade da Comunicação                             | Volume da Câmara                                     | P13  |                0 |         1.4      |           1.3499   | 1.4      |\n",
      "| Orçamento Disponível                                 | Razão de mistura O/F e controle de vazão do oxigênio | P19  |                3 |         2.6      |           1.3499   | 0.4      |\n",
      "| Documentação de Projeto                              | Massa de Parafina                                    | P04  |                3 |         2.55556  |           1.33333  | 0.444444 |\n",
      "| Volume da Câmara                                     | Massa de Parafina                                    | P25  |                3 |         3.1      |           1.28668  | 0.1      |\n",
      "| Orçamento Disponível                                 | Temperatura do Oxigênio                              | P20  |                4 |         3.1      |           1.28668  | 0.9      |\n",
      "| Orçamento Disponível                                 | Massa de Parafina                                    | P21  |                4 |         2.4      |           1.26491  | 1.6      |\n",
      "| Experiência da Equipe                                | Razão de mistura O/F e controle de vazão do oxigênio | P08  |                0 |         1.55556  |           1.23603  | 1.55556  |\n",
      "| Razão de mistura O/F e controle de vazão do oxigênio | Sucesso do Lançamento                                | P31  |                2 |         2.33333  |           1.22474  | 0.333333 |\n",
      "| Acabamento Superficial do Grão e pureza da parafina  | Sucesso do Lançamento                                | P44  |                4 |         2.75     |           1.16496  | 1.25     |\n",
      "| Massa de Parafina                                    | Volume da Câmara                                     | P36  |                1 |         3        |           1.1547   | 2        |\n",
      "| Documentação de Projeto                              | Acabamento Superficial do Grão e pureza da parafina  | P05  |                2 |         1.42857  |           1.13389  | 0.571429 |\n",
      "| Experiência da Equipe                                | Temperatura do Oxigênio                              | P09  |                0 |         1.66667  |           1.11803  | 1.66667  |\n",
      "| Massa de Parafina                                    | Acabamento Superficial do Grão e pureza da parafina  | P39  |                2 |         1.22222  |           1.09291  | 0.777778 |\n",
      "| Acabamento Superficial do Grão e pureza da parafina  | Temperatura do Oxigênio                              | P42  |                0 |         0.5      |           1.06904  | 0.5      |\n",
      "| Volume da Câmara                                     | Razão de mistura O/F e controle de vazão do oxigênio | P24  |                2 |         2.5      |           1.06904  | 0.5      |\n",
      "| Massa de Parafina                                    | Sucesso do Lançamento                                | P40  |                2 |         1.88889  |           1.05409  | 0.111111 |\n",
      "| Temperatura do Oxigênio                              | Sucesso do Lançamento                                | P35  |                0 |         1.25     |           1.0351   | 1.25     |\n",
      "| Experiência da Equipe                                | Massa de Parafina                                    | P10  |                1 |         1.66667  |           1        | 0.666667 |\n",
      "| Disponibilidade de Tempo                             | Volume da Câmara                                     | P16  |                1 |         1.22222  |           0.971825 | 0.222222 |\n",
      "| Temperatura do Oxigênio                              | Acabamento Superficial do Grão e pureza da parafina  | P34  |                1 |         0.714286 |           0.95119  | 0.285714 |\n",
      "| Razão de mistura O/F e controle de vazão do oxigênio | Volume da Câmara                                     | P27  |                1 |         2        |           0.942809 | 1        |\n",
      "| Orçamento Disponível                                 | Sucesso do Lançamento                                | P23  |                4 |         3.11111  |           0.927961 | 0.888889 |\n",
      "| Documentação de Projeto                              | Sucesso do Lançamento                                | P06  |                4 |         3.11111  |           0.927961 | 0.888889 |\n",
      "| Disponibilidade de Tempo                             | Sucesso do Lançamento                                | P18  |                2 |         2.66667  |           0.866025 | 0.666667 |\n",
      "| Orçamento Disponível                                 | Acabamento Superficial do Grão e pureza da parafina  | P22  |                4 |         3.33333  |           0.866025 | 0.666667 |\n",
      "| Experiência da Equipe                                | Volume da Câmara                                     | P07  |                0 |         1.33333  |           0.866025 | 1.33333  |\n",
      "| Temperatura Ambiente                                 | Acabamento Superficial do Grão e pureza da parafina  | P49  |                0 |         0.666667 |           0.866025 | 0.666667 |\n",
      "| Volume da Câmara                                     | Sucesso do Lançamento                                | P26  |                0 |         0.875    |           0.834523 | 0.875    |\n",
      "| Qualidade da Comunicação                             | Sucesso do Lançamento                                | P15  |                4 |         3.22222  |           0.833333 | 0.777778 |\n",
      "| Massa de Parafina                                    | Temperatura do Oxigênio                              | P38  |                0 |         0.625    |           0.744024 | 0.625    |\n",
      "| Experiência da Equipe                                | Acabamento Superficial do Grão e pureza da parafina  | P11  |                3 |         3.25     |           0.707107 | 0.25     |\n",
      "| Disponibilidade de Tempo                             | Acabamento Superficial do Grão e pureza da parafina  | P17  |                4 |         3.25     |           0.707107 | 0.75     |\n",
      "| Temperatura Ambiente                                 | Massa de Parafina                                    | P48  |                0 |         0.333333 |           0.707107 | 0.333333 |\n",
      "| Experiência da Equipe                                | Sucesso do Lançamento                                | P12  |                4 |         3.57143  |           0.534522 | 0.428571 |\n",
      "| Temperatura do Oxigênio                              | Massa de Parafina                                    | P33  |                0 |         0.444444 |           0.527046 | 0.444444 |\n",
      "| Temperatura do Oxigênio                              | Razão de mistura O/F e controle de vazão do oxigênio | P32  |                1 |         1.375    |           0.517549 | 0.375    |\n"
     ]
    }
   ],
   "source": [
    "df_fatores['cross_join_key'] = 1\n",
    "df_esqueleto = df_fatores.merge(df_fatores, on='cross_join_key', how='left', suffixes=('_f1', '_f2'))\n",
    "\n",
    "df_esqueleto = df_esqueleto.loc[df_esqueleto['Fator_f1'] != df_esqueleto['Fator_f2'], ['Fator_f1', 'Fator_f2']].copy()\n",
    "\n",
    "df_esqueleto = df_esqueleto.merge(\n",
    "    df_perguntas[['f1', 'f2', 'id']],\n",
    "    left_on=['Fator_f1', 'Fator_f2'],\n",
    "    right_on=['f1', 'f2'],\n",
    "    how='left'\n",
    ").drop(columns=['f1', 'f2'])\n",
    "\n",
    "df_esqueleto\n",
    "\n",
    "\n",
    "df_esqueleto['resposta_silvs'] = df_esqueleto.merge(\n",
    "    df_silvs.rename_axis('Pergunta').reset_index(name='resposta_silvs'),\n",
    "    left_on='id',\n",
    "    right_on='Pergunta',\n",
    "    how='left'\n",
    ")['resposta_silvs']\n",
    "\n",
    "\n",
    "df_esqueleto[['resposta_media', 'desvio_respostas']] = df_esqueleto.merge(\n",
    "    df_respostas.melt(var_name='Pergunta', value_name='Valor').groupby('Pergunta').agg(\n",
    "        resposta_media = ('Valor', 'mean'), \n",
    "        desvio_respostas = ('Valor', 'std') \n",
    "        \n",
    "        ),\n",
    "    left_on='id',\n",
    "    right_on='Pergunta',\n",
    "    how='left'\n",
    ")[['resposta_media', 'desvio_respostas']]\n",
    "\n",
    "\n",
    "df_esqueleto[['resposta_silvs', 'resposta_media']] = df_esqueleto[['resposta_silvs', 'resposta_media']].fillna(0)\n",
    "\n",
    "df_esqueleto['diff'] = abs(df_esqueleto['resposta_silvs'] - df_esqueleto['resposta_media'])\n",
    "print(df_esqueleto.loc[~df_esqueleto['id'].isna()].sort_values('desvio_respostas', ascending=False).to_markdown(index=False))"
   ]
  },
  {
   "cell_type": "markdown",
   "id": "19f21905",
   "metadata": {},
   "source": [
    "### Conclusões que foram pensadas aqui\n",
    "\n",
    "1. As respostas não foram muito diferentes das minhas repostas, o que possivelmente indica que:\n",
    "\n",
    "    a. não seriam necessários tantos inputs (especialistas reponsdendo o forms)\n",
    "\n",
    "    b. Existe um consenso na avaliação\n",
    "\n",
    "2. A variância entre as repostas pode indicar que algumas perguntas não ficaram tão claras, ou que ficaram vagas, em que há mais de uma interpretação possível cuja resposta de influência é diferente. \n",
    "\n",
    "    a. Estas podem ser preocupantes para o LLM\n",
    "    \n",
    "    b. Estas podem não ser úteis para o médodo considerando que vai ser necessário definir CTPs para elas\n"
   ]
  },
  {
   "cell_type": "markdown",
   "id": "3821c7ee",
   "metadata": {},
   "source": [
    "# Método DEMATEL"
   ]
  },
  {
   "cell_type": "markdown",
   "id": "b4e46ac3",
   "metadata": {},
   "source": [
    "### Passo 1: Definir a matriz de relações diretas (A)"
   ]
  },
  {
   "cell_type": "code",
   "execution_count": 10,
   "id": "63b61f56",
   "metadata": {},
   "outputs": [
    {
     "name": "stdout",
     "output_type": "stream",
     "text": [
      "['Documentação de Projeto', 'Experiência da Equipe', 'Qualidade da Comunicação', 'Disponibilidade de Tempo', 'Orçamento Disponível', 'Volume da Câmara', 'Razão de mistura O/F e controle de vazão do oxigênio', 'Temperatura do Oxigênio', 'Massa de Parafina', 'Acabamento Superficial do Grão e pureza da parafina', 'Temperatura Ambiente', 'Sucesso do Lançamento']\n"
     ]
    },
    {
     "data": {
      "text/plain": [
       "array([[0., 0., 0., 0., 0., 2., 2., 3., 3., 2., 0., 4.],\n",
       "       [0., 0., 0., 0., 0., 0., 0., 0., 1., 3., 0., 4.],\n",
       "       [0., 0., 0., 0., 0., 0., 0., 0., 0., 2., 0., 4.],\n",
       "       [0., 0., 0., 0., 0., 1., 0., 0., 0., 4., 0., 2.],\n",
       "       [0., 0., 0., 0., 0., 0., 3., 4., 4., 4., 0., 4.],\n",
       "       [0., 0., 0., 0., 0., 0., 2., 0., 3., 0., 0., 0.],\n",
       "       [0., 0., 0., 0., 0., 1., 0., 0., 0., 0., 0., 2.],\n",
       "       [0., 0., 0., 0., 0., 0., 1., 0., 0., 1., 0., 0.],\n",
       "       [0., 0., 0., 0., 0., 1., 3., 0., 0., 2., 0., 2.],\n",
       "       [0., 0., 0., 0., 0., 0., 2., 0., 1., 0., 0., 4.],\n",
       "       [0., 0., 0., 0., 0., 0., 0., 4., 0., 0., 0., 1.],\n",
       "       [0., 0., 0., 0., 0., 0., 0., 0., 0., 0., 0., 0.]])"
      ]
     },
     "execution_count": 10,
     "metadata": {},
     "output_type": "execute_result"
    }
   ],
   "source": [
    "fatores = df_fatores.sort_values(by='Ordem')['Fator'].values.tolist()\n",
    "print(fatores)\n",
    "A_silvs = np.zeros((len(fatores), len(fatores)))\n",
    "A_media = np.zeros((len(fatores), len(fatores)))\n",
    "# A_professor = np.zeros((len(fatores), len(fatores)))\n",
    "\n",
    "\n",
    "df_esqueleto['Fator_f1'] = pd.Categorical(df_esqueleto['Fator_f1'], categories=fatores, ordered=True)\n",
    "df_esqueleto['Fator_f2'] = pd.Categorical(df_esqueleto['Fator_f2'], categories=fatores, ordered=True)\n",
    "\n",
    "A_silvs = df_esqueleto.pivot(index='Fator_f1', columns='Fator_f2', values='resposta_silvs').fillna(0).values\n",
    "A_media = df_esqueleto.pivot(index='Fator_f1', columns='Fator_f2', values='resposta_media').fillna(0).values\n",
    "# A_professor = df_esqueleto.pivot(index='Fator_f1', columns='Fator_f2', values='resposta_professor').fillna(0).values\n",
    "A_silvs"
   ]
  },
  {
   "cell_type": "code",
   "execution_count": 37,
   "id": "6c93ee83",
   "metadata": {},
   "outputs": [
    {
     "name": "stdout",
     "output_type": "stream",
     "text": [
      "| Fator                                                |         R-C |      R+C |\n",
      "|:-----------------------------------------------------|------------:|---------:|\n",
      "| Documentação de Projeto                              |  0.686955   | 0.686955 |\n",
      "| Experiência da Equipe                                |  0.340037   | 0.340037 |\n",
      "| Qualidade da Comunicação                             |  0.243013   | 0.243013 |\n",
      "| Disponibilidade de Tempo                             |  0.309423   | 0.309423 |\n",
      "| Orçamento Disponível                                 |  0.821973   | 0.821973 |\n",
      "| Volume da Câmara                                     |  0.00512385 | 0.458305 |\n",
      "| Razão de mistura O/F e controle de vazão do oxigênio | -0.502022   | 0.741408 |\n",
      "| Temperatura do Oxigênio                              | -0.318505   | 0.49631  |\n",
      "| Massa de Parafina                                    | -0.157264   | 0.835201 |\n",
      "| Acabamento Superficial do Grão e pureza da parafina  | -0.437834   | 0.999194 |\n",
      "| Temperatura Ambiente                                 |  0.198356   | 0.198356 |\n",
      "| Sucesso do Lançamento                                | -1.18926    | 1.18926  |\n"
     ]
    },
    {
     "data": {
      "image/png": "[encoded data removed]",
      "text/plain": [
       "<Figure size 1200x600 with 1 Axes>"
      ]
     },
     "metadata": {},
     "output_type": "display_data"
    },
    {
     "data": {
      "image/png": "[encoded data removed]",
      "text/plain": [
       "<Figure size 1200x600 with 1 Axes>"
      ]
     },
     "metadata": {},
     "output_type": "display_data"
    }
   ],
   "source": [
    "import textwrap\n",
    "\n",
    "# ---------- PASSO 2: normalização (M) e matriz de relação total (T) -----\n",
    "def _dematel(A, verbose=False) -> None:\n",
    "    \n",
    "    n = A.shape[0]\n",
    "    \n",
    "    row_sums = A.sum(axis=1)\n",
    "    col_sums = A.sum(axis=0)\n",
    "    k = min(1/row_sums.max(), 1/col_sums.max())\n",
    "    M = A * k\n",
    "    T = M @ np.linalg.inv(np.eye(n) - M)\n",
    "    R = T.sum(axis=1)            # influência exercida\n",
    "    C = T.sum(axis=0)            # influência recebida\n",
    "    rc_diff = R - C\n",
    "    rc_sum = R + C\n",
    "    \n",
    "    if verbose:\n",
    "        df_print = pd.DataFrame(\n",
    "            data = {\n",
    "                \"Fator\": fatores, \n",
    "                \"R-C\":rc_diff, \n",
    "                \"R+C\":rc_sum\n",
    "                }\n",
    "        )\n",
    "        print(df_print.to_markdown(index=False))\n",
    "\n",
    "    return T\n",
    "\n",
    "\n",
    "\n",
    "# __________ Gráfico DEMATEL __________\n",
    "def plot_influence_diagram(T, factors, title=\"Diagrama de influências DEMATEL\"):\n",
    "    \"\"\"\n",
    "    Cria um gráfico de dispersão usando matplotlib.\n",
    "    x: R + C (importância/prominence)\n",
    "    y: R - C (efeito líquido)\n",
    "    O tamanho de cada ponto é proporcional a R+C.\n",
    "    \"\"\"\n",
    "    import matplotlib.pyplot as plt\n",
    "\n",
    "    # Calculando parâmetros\n",
    "    R = T.sum(axis=1)  # influência exercida\n",
    "    C = T.sum(axis=0)  # influência recebida\n",
    "    rc_sum = R + C\n",
    "    rc_diff = R - C\n",
    "\n",
    "    x = rc_sum  # Prominence\n",
    "    y = rc_diff # Net effect\n",
    "    sizes = (x - x.min()) / (x.max() - x.min() + 1e-9) * 2000 + 300\n",
    "\n",
    "    # Função para quebrar o texto\n",
    "    def _wrap(label, width=18):\n",
    "        label = ' '.join(label.split())\n",
    "        return label if len(label) <= width else '\\n'.join(textwrap.wrap(label, width=width))\n",
    "\n",
    "    wrapped_factors = [_wrap(f, width=18) for f in factors]\n",
    "\n",
    "    # Criação do gráfico\n",
    "    fig, ax = plt.subplots(figsize=(12,6))\n",
    "    scatter = ax.scatter(x, y, \n",
    "                        #  s=sizes, \n",
    "                         color='blue', alpha=1)\n",
    "\n",
    "    # Adiciona rótulos aos pontos\n",
    "    for i, txt in enumerate(wrapped_factors):\n",
    "        # Rótulo acima do ponto sem sobreposição\n",
    "        if not hasattr(ax, \"_placed_labels\"):\n",
    "            ax._placed_labels = []\n",
    "        range_x = (x.max() - x.min()) or 1.0\n",
    "        range_y = (y.max() - y.min()) or 1.0\n",
    "        dx_tol = 0.035 * range_x      # tolerância horizontal para colisão\n",
    "        dy_tol = 0.05 * range_y       # tolerância vertical para colisão\n",
    "        base_offset = 0.02 * range_y  # deslocamento vertical incremental\n",
    "        label_y = y[i] - base_offset\n",
    "        # Eleva o rótulo enquanto houver interseção aproximada\n",
    "        while any(abs(x[i] - px) < dx_tol and abs(label_y - py) < dy_tol for px, py in ax._placed_labels):\n",
    "            label_y += base_offset\n",
    "        ax.annotate(\n",
    "            txt,\n",
    "            (x[i], label_y),\n",
    "            fontsize=9,\n",
    "            ha='center',\n",
    "            va='top'\n",
    "        )\n",
    "        ax._placed_labels.append((x[i], label_y))\n",
    "\n",
    "    # Linhas de referência em x=0 e y=0\n",
    "    ax.axhline(0, color='gray', linewidth=1)\n",
    "    ax.axvline(0, color='gray', linewidth=1)\n",
    "\n",
    "    ax.set_xlabel(\"R + C  (importância)\")\n",
    "    ax.set_ylabel(\"R − C  (efeito líquido)\")\n",
    "    ax.set_title(title)\n",
    "    ax.grid(True)\n",
    "\n",
    "    plt.show()\n",
    "    \n",
    "    \n",
    "    \n",
    "plot_influence_diagram(\n",
    "    _dematel(A_silvs, True),\n",
    "    fatores,\n",
    "    title=\"Diagrama de influências DEMATEL - Análise SILVS\"\n",
    ")\n",
    "plot_influence_diagram(\n",
    "    _dematel(A_silvs),\n",
    "    fatores,\n",
    "    title=\"Diagrama de influências DEMATEL - Respostas\"\n",
    ")\n",
    "\n"
   ]
  },
  {
   "cell_type": "code",
   "execution_count": 12,
   "id": "eb128a7c",
   "metadata": {},
   "outputs": [
    {
     "ename": "IndexError",
     "evalue": "too many indices for array: array is 1-dimensional, but 2 were indexed",
     "output_type": "error",
     "traceback": [
      "\u001b[0;31m---------------------------------------------------------------------------\u001b[0m",
      "\u001b[0;31mIndexError\u001b[0m                                Traceback (most recent call last)",
      "Cell \u001b[0;32mIn[12], line 97\u001b[0m\n\u001b[1;32m     93\u001b[0m     \u001b[38;5;28;01mreturn\u001b[39;00m G\n\u001b[1;32m     96\u001b[0m T \u001b[38;5;241m=\u001b[39m _dematel(A_silvs)[\u001b[38;5;241m1\u001b[39m]\n\u001b[0;32m---> 97\u001b[0m G \u001b[38;5;241m=\u001b[39m \u001b[43mbuild_graph\u001b[49m\u001b[43m(\u001b[49m\n\u001b[1;32m     98\u001b[0m \u001b[43m    \u001b[49m\u001b[43mT\u001b[49m\u001b[43m,\u001b[49m\n\u001b[1;32m     99\u001b[0m \u001b[43m    \u001b[49m\u001b[43mfatores\u001b[49m\u001b[43m,\u001b[49m\n\u001b[1;32m    100\u001b[0m \u001b[43m    \u001b[49m\u001b[43m_dematel\u001b[49m\u001b[43m(\u001b[49m\u001b[43mA_silvs\u001b[49m\u001b[43m)\u001b[49m\u001b[43m[\u001b[49m\u001b[38;5;241;43m4\u001b[39;49m\u001b[43m]\u001b[49m\u001b[43m,\u001b[49m\n\u001b[1;32m    101\u001b[0m \u001b[43m    \u001b[49m\u001b[43mthreshold\u001b[49m\u001b[38;5;241;43m=\u001b[39;49m\u001b[38;5;28;43;01mNone\u001b[39;49;00m\u001b[43m,\u001b[49m\n\u001b[1;32m    102\u001b[0m \u001b[43m    \u001b[49m\u001b[43minclude_weights\u001b[49m\u001b[38;5;241;43m=\u001b[39;49m\u001b[38;5;28;43;01mTrue\u001b[39;49;00m\u001b[43m,\u001b[49m\n\u001b[1;32m    103\u001b[0m \u001b[43m    \u001b[49m\u001b[43menforce_dag\u001b[49m\u001b[38;5;241;43m=\u001b[39;49m\u001b[38;5;28;43;01mFalse\u001b[39;49;00m\u001b[43m,\u001b[49m\n\u001b[1;32m    104\u001b[0m \u001b[43m    \u001b[49m\u001b[43mnumeric_filter\u001b[49m\u001b[38;5;241;43m=\u001b[39;49m\u001b[38;5;28;43;01mTrue\u001b[39;49;00m\n\u001b[1;32m    105\u001b[0m \u001b[43m)\u001b[49m\n\u001b[1;32m    106\u001b[0m \u001b[38;5;28mprint\u001b[39m(\u001b[38;5;124mf\u001b[39m\u001b[38;5;124m\"\u001b[39m\u001b[38;5;124mG: \u001b[39m\u001b[38;5;132;01m{\u001b[39;00mG\u001b[38;5;241m.\u001b[39mnumber_of_nodes()\u001b[38;5;132;01m}\u001b[39;00m\u001b[38;5;124m nodes, \u001b[39m\u001b[38;5;132;01m{\u001b[39;00mG\u001b[38;5;241m.\u001b[39mnumber_of_edges()\u001b[38;5;132;01m}\u001b[39;00m\u001b[38;5;124m edges\u001b[39m\u001b[38;5;124m\"\u001b[39m)\n",
      "Cell \u001b[0;32mIn[12], line 80\u001b[0m, in \u001b[0;36mbuild_graph\u001b[0;34m(T, factors, rc_sum, threshold, include_weights, enforce_dag, numeric_filter)\u001b[0m\n\u001b[1;32m     78\u001b[0m \u001b[38;5;28;01mif\u001b[39;00m i \u001b[38;5;241m==\u001b[39m j:\n\u001b[1;32m     79\u001b[0m     \u001b[38;5;28;01mcontinue\u001b[39;00m\n\u001b[0;32m---> 80\u001b[0m w_val \u001b[38;5;241m=\u001b[39m \u001b[43mT\u001b[49m\u001b[43m[\u001b[49m\u001b[43mi\u001b[49m\u001b[43m,\u001b[49m\u001b[43m \u001b[49m\u001b[43mj\u001b[49m\u001b[43m]\u001b[49m\n\u001b[1;32m     81\u001b[0m \u001b[38;5;28;01mif\u001b[39;00m w_val \u001b[38;5;241m<\u001b[39m\u001b[38;5;241m=\u001b[39m threshold:\n\u001b[1;32m     82\u001b[0m     \u001b[38;5;28;01mcontinue\u001b[39;00m\n",
      "\u001b[0;31mIndexError\u001b[0m: too many indices for array: array is 1-dimensional, but 2 were indexed"
     ]
    }
   ],
   "source": [
    "import itertools\n",
    "from networkx.algorithms.cycles import find_cycle\n",
    "import numpy as np\n",
    "import networkx as nx\n",
    "\n",
    "def ensure_dag(G):\n",
    "    \"\"\"\n",
    "    Remove arestas até que o grafo fique acíclico (mantém as de maior peso).\n",
    "    \"\"\"\n",
    "    G = G.copy()\n",
    "    # Tenta usar nx.find_cycle; fallback para import direto se não existir\n",
    "    try:\n",
    "        find_cycle_func = nx.find_cycle\n",
    "    except AttributeError:\n",
    "        from networkx.algorithms.cycles import find_cycle as find_cycle_func\n",
    "\n",
    "    while True:\n",
    "        try:\n",
    "            cycle_edges = find_cycle_func(G, orientation=\"original\")\n",
    "        except nx.exception.NetworkXNoCycle:\n",
    "            break\n",
    "        # remove a aresta de menor peso no ciclo\n",
    "        min_edge = min(\n",
    "            cycle_edges,\n",
    "            key=lambda e: G.get_edge_data(e[0], e[1]).get(\"weight\", 1)\n",
    "        )\n",
    "        G.remove_edge(*min_edge[:2])\n",
    "    return G\n",
    "\n",
    "def build_graph(\n",
    "    T: np.ndarray,\n",
    "    factors: list[str],\n",
    "    rc_sum: np.ndarray,\n",
    "    threshold: float | None = None,\n",
    "    include_weights: bool = True,\n",
    "    enforce_dag: bool = False,\n",
    "    numeric_filter: bool = False\n",
    ") -> nx.DiGraph:\n",
    "    \"\"\"\n",
    "    Constrói grafo dirigido a partir da matriz total DEMATEL T.\n",
    "\n",
    "    Parâmetros\n",
    "    ----------\n",
    "    T : np.ndarray\n",
    "        Matriz de relação total (n x n).\n",
    "    factors : list[str]\n",
    "        Nomes dos fatores (len == n).\n",
    "    rc_sum : np.ndarray\n",
    "        Vetor R + C (prominence) para cada fator (len == n).\n",
    "    threshold : float | None\n",
    "        Limite mínimo do peso (se None usa média de T).\n",
    "    include_weights : bool\n",
    "        Se True armazena pesos reais; senão usa peso = 1.\n",
    "    enforce_dag : bool\n",
    "        Se True remove ciclos.\n",
    "    numeric_filter : bool\n",
    "        Aplica filtro adicional usando mediana de rc_sum e (μ + 0.5σ) de T.\n",
    "\n",
    "    Retorna\n",
    "    -------\n",
    "    nx.DiGraph\n",
    "        Grafo de influências filtrado.\n",
    "    \"\"\"\n",
    "    n = len(factors)\n",
    "    if threshold is None:\n",
    "        threshold = T.mean()\n",
    "\n",
    "    if numeric_filter:\n",
    "        prom_threshold = np.percentile(rc_sum, 50)\n",
    "        edge_threshold = T.mean() + 0.5 * T.std()\n",
    "    else:\n",
    "        prom_threshold = edge_threshold = None\n",
    "\n",
    "    G = nx.DiGraph()\n",
    "    G.add_nodes_from(factors)\n",
    "\n",
    "    for i, j in itertools.product(range(n), repeat=2):\n",
    "        if i == j:\n",
    "            continue\n",
    "        w_val = T[i, j]\n",
    "        if w_val <= threshold:\n",
    "            continue\n",
    "        if numeric_filter:\n",
    "            if not (rc_sum[i] > prom_threshold and w_val > edge_threshold):\n",
    "                continue\n",
    "        w = round(w_val, 3) if include_weights else 1\n",
    "        G.add_edge(factors[i], factors[j], weight=w)\n",
    "\n",
    "    if enforce_dag:\n",
    "        print(\"Enforcing DAG...\")\n",
    "        G = ensure_dag(G)\n",
    "\n",
    "    return G\n",
    "\n",
    "\n",
    "T = _dematel(A_silvs)[1]\n",
    "G = build_graph(\n",
    "    T,\n",
    "    fatores,\n",
    "    _dematel(A_silvs)[4],\n",
    "    threshold=None,\n",
    "    include_weights=True,\n",
    "    enforce_dag=False,\n",
    "    numeric_filter=True\n",
    ")\n",
    "print(f\"G: {G.number_of_nodes()} nodes, {G.number_of_edges()} edges\")"
   ]
  },
  {
   "cell_type": "code",
   "execution_count": null,
   "id": "fafca2fd",
   "metadata": {},
   "outputs": [
    {
     "data": {
      "application/vnd.plotly.v1+json": {
       "config": {
        "plotlyServerURL": "https://plot.ly"
       },
       "data": [
        {
         "hoverinfo": "none",
         "line": {
          "color": "#888",
          "width": 2
         },
         "mode": "lines",
         "type": "scatter",
         "x": [
          -0.11278881552686261,
          0.010342835920997157,
          null,
          -0.11278881552686261,
          0.06663804092044816,
          null,
          -0.11278881552686261,
          0.10459247523056225,
          null,
          -0.11278881552686261,
          -0.11295863942942298,
          null,
          -0.11278881552686261,
          -0.23530899074340875,
          null,
          -0.11278881552686261,
          -0.5288609308487531,
          null,
          -0.1491006400818467,
          0.06663804092044816,
          null,
          -0.1491006400818467,
          0.10459247523056225,
          null,
          -0.1491006400818467,
          -0.11295863942942298,
          null,
          -0.1491006400818467,
          -0.23530899074340875,
          null,
          -0.1491006400818467,
          -0.5288609308487531,
          null,
          0.06663804092044816,
          -0.5288609308487531,
          null,
          -0.11295863942942298,
          0.06663804092044816,
          null,
          -0.11295863942942298,
          -0.23530899074340875,
          null,
          -0.11295863942942298,
          -0.5288609308487531,
          null,
          -0.23530899074340875,
          0.06663804092044816,
          null,
          -0.23530899074340875,
          -0.5288609308487531,
          null
         ],
         "y": [
          0.034346476765431525,
          0.8978156674260743,
          null,
          0.034346476765431525,
          0.04968525669535997,
          null,
          0.034346476765431525,
          -0.7316517289268417,
          null,
          0.034346476765431525,
          0.16991145031645985,
          null,
          0.034346476765431525,
          -0.07763050248593556,
          null,
          0.034346476765431525,
          0.08319131979712663,
          null,
          -0.19464466593110735,
          0.04968525669535997,
          null,
          -0.19464466593110735,
          -0.7316517289268417,
          null,
          -0.19464466593110735,
          0.16991145031645985,
          null,
          -0.19464466593110735,
          -0.07763050248593556,
          null,
          -0.19464466593110735,
          0.08319131979712663,
          null,
          0.04968525669535997,
          0.08319131979712663,
          null,
          0.16991145031645985,
          0.04968525669535997,
          null,
          0.16991145031645985,
          -0.07763050248593556,
          null,
          0.16991145031645985,
          0.08319131979712663,
          null,
          -0.07763050248593556,
          0.04968525669535997,
          null,
          -0.07763050248593556,
          0.08319131979712663,
          null
         ]
        },
        {
         "hoverinfo": "text",
         "marker": {
          "color": "lightblue",
          "line": {
           "width": 2
          },
          "size": 20
         },
         "mode": "markers+text",
         "text": [
          "Documentação de Projeto",
          "Experiência da Equipe",
          "Qualidade da Comunicação",
          "Disponibilidade de Tempo",
          "Orçamento Disponível",
          "Volume da Câmara",
          "Razão de mistura O/F e controle de vazão do oxigênio",
          "Temperatura do Oxigênio",
          "Massa de Parafina",
          "Acabamento Superficial do Grão e pureza da parafina",
          "Temperatura Ambiente",
          "Sucesso do Lançamento"
         ],
         "textposition": "top center",
         "type": "scatter",
         "x": [
          -0.11278881552686261,
          1,
          -0.38938265144632356,
          -0.4474736272685329,
          -0.1491006400818467,
          0.010342835920997157,
          0.06663804092044816,
          0.10459247523056225,
          -0.11295863942942298,
          -0.23530899074340875,
          0.7943009432731432,
          -0.5288609308487531
         ],
         "y": [
          0.034346476765431525,
          0.36650521776604716,
          -0.5730108647705521,
          0.5905043555895955,
          -0.19464466593110735,
          0.8978156674260743,
          0.04968525669535997,
          -0.7316517289268417,
          0.16991145031645985,
          -0.07763050248593556,
          -0.6150219822416585,
          0.08319131979712663
         ]
        }
       ],
       "layout": {
        "hovermode": "closest",
        "margin": {
         "b": 20,
         "l": 5,
         "r": 5,
         "t": 40
        },
        "showlegend": false,
        "template": {
         "data": {
          "bar": [
           {
            "error_x": {
             "color": "#2a3f5f"
            },
            "error_y": {
             "color": "#2a3f5f"
            },
            "marker": {
             "line": {
              "color": "#E5ECF6",
              "width": 0.5
             },
             "pattern": {
              "fillmode": "overlay",
              "size": 10,
              "solidity": 0.2
             }
            },
            "type": "bar"
           }
          ],
          "barpolar": [
           {
            "marker": {
             "line": {
              "color": "#E5ECF6",
              "width": 0.5
             },
             "pattern": {
              "fillmode": "overlay",
              "size": 10,
              "solidity": 0.2
             }
            },
            "type": "barpolar"
           }
          ],
          "carpet": [
           {
            "aaxis": {
             "endlinecolor": "#2a3f5f",
             "gridcolor": "white",
             "linecolor": "white",
             "minorgridcolor": "white",
             "startlinecolor": "#2a3f5f"
            },
            "baxis": {
             "endlinecolor": "#2a3f5f",
             "gridcolor": "white",
             "linecolor": "white",
             "minorgridcolor": "white",
             "startlinecolor": "#2a3f5f"
            },
            "type": "carpet"
           }
          ],
          "choropleth": [
           {
            "colorbar": {
             "outlinewidth": 0,
             "ticks": ""
            },
            "type": "choropleth"
           }
          ],
          "contour": [
           {
            "colorbar": {
             "outlinewidth": 0,
             "ticks": ""
            },
            "colorscale": [
             [
              0,
              "#0d0887"
             ],
             [
              0.1111111111111111,
              "#46039f"
             ],
             [
              0.2222222222222222,
              "#7201a8"
             ],
             [
              0.3333333333333333,
              "#9c179e"
             ],
             [
              0.4444444444444444,
              "#bd3786"
             ],
             [
              0.5555555555555556,
              "#d8576b"
             ],
             [
              0.6666666666666666,
              "#ed7953"
             ],
             [
              0.7777777777777778,
              "#fb9f3a"
             ],
             [
              0.8888888888888888,
              "#fdca26"
             ],
             [
              1,
              "#f0f921"
             ]
            ],
            "type": "contour"
           }
          ],
          "contourcarpet": [
           {
            "colorbar": {
             "outlinewidth": 0,
             "ticks": ""
            },
            "type": "contourcarpet"
           }
          ],
          "heatmap": [
           {
            "colorbar": {
             "outlinewidth": 0,
             "ticks": ""
            },
            "colorscale": [
             [
              0,
              "#0d0887"
             ],
             [
              0.1111111111111111,
              "#46039f"
             ],
             [
              0.2222222222222222,
              "#7201a8"
             ],
             [
              0.3333333333333333,
              "#9c179e"
             ],
             [
              0.4444444444444444,
              "#bd3786"
             ],
             [
              0.5555555555555556,
              "#d8576b"
             ],
             [
              0.6666666666666666,
              "#ed7953"
             ],
             [
              0.7777777777777778,
              "#fb9f3a"
             ],
             [
              0.8888888888888888,
              "#fdca26"
             ],
             [
              1,
              "#f0f921"
             ]
            ],
            "type": "heatmap"
           }
          ],
          "heatmapgl": [
           {
            "colorbar": {
             "outlinewidth": 0,
             "ticks": ""
            },
            "colorscale": [
             [
              0,
              "#0d0887"
             ],
             [
              0.1111111111111111,
              "#46039f"
             ],
             [
              0.2222222222222222,
              "#7201a8"
             ],
             [
              0.3333333333333333,
              "#9c179e"
             ],
             [
              0.4444444444444444,
              "#bd3786"
             ],
             [
              0.5555555555555556,
              "#d8576b"
             ],
             [
              0.6666666666666666,
              "#ed7953"
             ],
             [
              0.7777777777777778,
              "#fb9f3a"
             ],
             [
              0.8888888888888888,
              "#fdca26"
             ],
             [
              1,
              "#f0f921"
             ]
            ],
            "type": "heatmapgl"
           }
          ],
          "histogram": [
           {
            "marker": {
             "pattern": {
              "fillmode": "overlay",
              "size": 10,
              "solidity": 0.2
             }
            },
            "type": "histogram"
           }
          ],
          "histogram2d": [
           {
            "colorbar": {
             "outlinewidth": 0,
             "ticks": ""
            },
            "colorscale": [
             [
              0,
              "#0d0887"
             ],
             [
              0.1111111111111111,
              "#46039f"
             ],
             [
              0.2222222222222222,
              "#7201a8"
             ],
             [
              0.3333333333333333,
              "#9c179e"
             ],
             [
              0.4444444444444444,
              "#bd3786"
             ],
             [
              0.5555555555555556,
              "#d8576b"
             ],
             [
              0.6666666666666666,
              "#ed7953"
             ],
             [
              0.7777777777777778,
              "#fb9f3a"
             ],
             [
              0.8888888888888888,
              "#fdca26"
             ],
             [
              1,
              "#f0f921"
             ]
            ],
            "type": "histogram2d"
           }
          ],
          "histogram2dcontour": [
           {
            "colorbar": {
             "outlinewidth": 0,
             "ticks": ""
            },
            "colorscale": [
             [
              0,
              "#0d0887"
             ],
             [
              0.1111111111111111,
              "#46039f"
             ],
             [
              0.2222222222222222,
              "#7201a8"
             ],
             [
              0.3333333333333333,
              "#9c179e"
             ],
             [
              0.4444444444444444,
              "#bd3786"
             ],
             [
              0.5555555555555556,
              "#d8576b"
             ],
             [
              0.6666666666666666,
              "#ed7953"
             ],
             [
              0.7777777777777778,
              "#fb9f3a"
             ],
             [
              0.8888888888888888,
              "#fdca26"
             ],
             [
              1,
              "#f0f921"
             ]
            ],
            "type": "histogram2dcontour"
           }
          ],
          "mesh3d": [
           {
            "colorbar": {
             "outlinewidth": 0,
             "ticks": ""
            },
            "type": "mesh3d"
           }
          ],
          "parcoords": [
           {
            "line": {
             "colorbar": {
              "outlinewidth": 0,
              "ticks": ""
             }
            },
            "type": "parcoords"
           }
          ],
          "pie": [
           {
            "automargin": true,
            "type": "pie"
           }
          ],
          "scatter": [
           {
            "fillpattern": {
             "fillmode": "overlay",
             "size": 10,
             "solidity": 0.2
            },
            "type": "scatter"
           }
          ],
          "scatter3d": [
           {
            "line": {
             "colorbar": {
              "outlinewidth": 0,
              "ticks": ""
             }
            },
            "marker": {
             "colorbar": {
              "outlinewidth": 0,
              "ticks": ""
             }
            },
            "type": "scatter3d"
           }
          ],
          "scattercarpet": [
           {
            "marker": {
             "colorbar": {
              "outlinewidth": 0,
              "ticks": ""
             }
            },
            "type": "scattercarpet"
           }
          ],
          "scattergeo": [
           {
            "marker": {
             "colorbar": {
              "outlinewidth": 0,
              "ticks": ""
             }
            },
            "type": "scattergeo"
           }
          ],
          "scattergl": [
           {
            "marker": {
             "colorbar": {
              "outlinewidth": 0,
              "ticks": ""
             }
            },
            "type": "scattergl"
           }
          ],
          "scattermapbox": [
           {
            "marker": {
             "colorbar": {
              "outlinewidth": 0,
              "ticks": ""
             }
            },
            "type": "scattermapbox"
           }
          ],
          "scatterpolar": [
           {
            "marker": {
             "colorbar": {
              "outlinewidth": 0,
              "ticks": ""
             }
            },
            "type": "scatterpolar"
           }
          ],
          "scatterpolargl": [
           {
            "marker": {
             "colorbar": {
              "outlinewidth": 0,
              "ticks": ""
             }
            },
            "type": "scatterpolargl"
           }
          ],
          "scatterternary": [
           {
            "marker": {
             "colorbar": {
              "outlinewidth": 0,
              "ticks": ""
             }
            },
            "type": "scatterternary"
           }
          ],
          "surface": [
           {
            "colorbar": {
             "outlinewidth": 0,
             "ticks": ""
            },
            "colorscale": [
             [
              0,
              "#0d0887"
             ],
             [
              0.1111111111111111,
              "#46039f"
             ],
             [
              0.2222222222222222,
              "#7201a8"
             ],
             [
              0.3333333333333333,
              "#9c179e"
             ],
             [
              0.4444444444444444,
              "#bd3786"
             ],
             [
              0.5555555555555556,
              "#d8576b"
             ],
             [
              0.6666666666666666,
              "#ed7953"
             ],
             [
              0.7777777777777778,
              "#fb9f3a"
             ],
             [
              0.8888888888888888,
              "#fdca26"
             ],
             [
              1,
              "#f0f921"
             ]
            ],
            "type": "surface"
           }
          ],
          "table": [
           {
            "cells": {
             "fill": {
              "color": "#EBF0F8"
             },
             "line": {
              "color": "white"
             }
            },
            "header": {
             "fill": {
              "color": "#C8D4E3"
             },
             "line": {
              "color": "white"
             }
            },
            "type": "table"
           }
          ]
         },
         "layout": {
          "annotationdefaults": {
           "arrowcolor": "#2a3f5f",
           "arrowhead": 0,
           "arrowwidth": 1
          },
          "autotypenumbers": "strict",
          "coloraxis": {
           "colorbar": {
            "outlinewidth": 0,
            "ticks": ""
           }
          },
          "colorscale": {
           "diverging": [
            [
             0,
             "#8e0152"
            ],
            [
             0.1,
             "#c51b7d"
            ],
            [
             0.2,
             "#de77ae"
            ],
            [
             0.3,
             "#f1b6da"
            ],
            [
             0.4,
             "#fde0ef"
            ],
            [
             0.5,
             "#f7f7f7"
            ],
            [
             0.6,
             "#e6f5d0"
            ],
            [
             0.7,
             "#b8e186"
            ],
            [
             0.8,
             "#7fbc41"
            ],
            [
             0.9,
             "#4d9221"
            ],
            [
             1,
             "#276419"
            ]
           ],
           "sequential": [
            [
             0,
             "#0d0887"
            ],
            [
             0.1111111111111111,
             "#46039f"
            ],
            [
             0.2222222222222222,
             "#7201a8"
            ],
            [
             0.3333333333333333,
             "#9c179e"
            ],
            [
             0.4444444444444444,
             "#bd3786"
            ],
            [
             0.5555555555555556,
             "#d8576b"
            ],
            [
             0.6666666666666666,
             "#ed7953"
            ],
            [
             0.7777777777777778,
             "#fb9f3a"
            ],
            [
             0.8888888888888888,
             "#fdca26"
            ],
            [
             1,
             "#f0f921"
            ]
           ],
           "sequentialminus": [
            [
             0,
             "#0d0887"
            ],
            [
             0.1111111111111111,
             "#46039f"
            ],
            [
             0.2222222222222222,
             "#7201a8"
            ],
            [
             0.3333333333333333,
             "#9c179e"
            ],
            [
             0.4444444444444444,
             "#bd3786"
            ],
            [
             0.5555555555555556,
             "#d8576b"
            ],
            [
             0.6666666666666666,
             "#ed7953"
            ],
            [
             0.7777777777777778,
             "#fb9f3a"
            ],
            [
             0.8888888888888888,
             "#fdca26"
            ],
            [
             1,
             "#f0f921"
            ]
           ]
          },
          "colorway": [
           "#636efa",
           "#EF553B",
           "#00cc96",
           "#ab63fa",
           "#FFA15A",
           "#19d3f3",
           "#FF6692",
           "#B6E880",
           "#FF97FF",
           "#FECB52"
          ],
          "font": {
           "color": "#2a3f5f"
          },
          "geo": {
           "bgcolor": "white",
           "lakecolor": "white",
           "landcolor": "#E5ECF6",
           "showlakes": true,
           "showland": true,
           "subunitcolor": "white"
          },
          "hoverlabel": {
           "align": "left"
          },
          "hovermode": "closest",
          "mapbox": {
           "style": "light"
          },
          "paper_bgcolor": "white",
          "plot_bgcolor": "#E5ECF6",
          "polar": {
           "angularaxis": {
            "gridcolor": "white",
            "linecolor": "white",
            "ticks": ""
           },
           "bgcolor": "#E5ECF6",
           "radialaxis": {
            "gridcolor": "white",
            "linecolor": "white",
            "ticks": ""
           }
          },
          "scene": {
           "xaxis": {
            "backgroundcolor": "#E5ECF6",
            "gridcolor": "white",
            "gridwidth": 2,
            "linecolor": "white",
            "showbackground": true,
            "ticks": "",
            "zerolinecolor": "white"
           },
           "yaxis": {
            "backgroundcolor": "#E5ECF6",
            "gridcolor": "white",
            "gridwidth": 2,
            "linecolor": "white",
            "showbackground": true,
            "ticks": "",
            "zerolinecolor": "white"
           },
           "zaxis": {
            "backgroundcolor": "#E5ECF6",
            "gridcolor": "white",
            "gridwidth": 2,
            "linecolor": "white",
            "showbackground": true,
            "ticks": "",
            "zerolinecolor": "white"
           }
          },
          "shapedefaults": {
           "line": {
            "color": "#2a3f5f"
           }
          },
          "ternary": {
           "aaxis": {
            "gridcolor": "white",
            "linecolor": "white",
            "ticks": ""
           },
           "baxis": {
            "gridcolor": "white",
            "linecolor": "white",
            "ticks": ""
           },
           "bgcolor": "#E5ECF6",
           "caxis": {
            "gridcolor": "white",
            "linecolor": "white",
            "ticks": ""
           }
          },
          "title": {
           "x": 0.05
          },
          "xaxis": {
           "automargin": true,
           "gridcolor": "white",
           "linecolor": "white",
           "ticks": "",
           "title": {
            "standoff": 15
           },
           "zerolinecolor": "white",
           "zerolinewidth": 2
          },
          "yaxis": {
           "automargin": true,
           "gridcolor": "white",
           "linecolor": "white",
           "ticks": "",
           "title": {
            "standoff": 15
           },
           "zerolinecolor": "white",
           "zerolinewidth": 2
          }
         }
        },
        "title": {
         "text": "Rede de Influência dos Fatores (Silvs)"
        },
        "xaxis": {
         "showgrid": false,
         "showticklabels": false,
         "zeroline": false
        },
        "yaxis": {
         "showgrid": false,
         "showticklabels": false,
         "zeroline": false
        }
       }
      }
     },
     "metadata": {},
     "output_type": "display_data"
    }
   ],
   "source": [
    "def plot_influence_diagram(G, title=\"Rede Bayesiana\"):\n",
    "    # Use a spring layout to position the nodes\n",
    "    pos = nx.spring_layout(G, seed=42)\n",
    "    \n",
    "    # Build trace for edges\n",
    "    edge_x = []\n",
    "    edge_y = []\n",
    "    for u, v in G.edges():\n",
    "        x0, y0 = pos[u]\n",
    "        x1, y1 = pos[v]\n",
    "        edge_x.extend([x0, x1, None])\n",
    "        edge_y.extend([y0, y1, None])\n",
    "    edge_trace = go.Scatter(\n",
    "        x=edge_x, y=edge_y,\n",
    "        line=dict(width=2, color='#888'),\n",
    "        hoverinfo='none',\n",
    "        mode='lines'\n",
    "    )\n",
    "    \n",
    "    # Build trace for nodes with labels\n",
    "    node_x = []\n",
    "    node_y = []\n",
    "    for node in G.nodes():\n",
    "        x, y = pos[node]\n",
    "        node_x.append(x)\n",
    "        node_y.append(y)\n",
    "    node_trace = go.Scatter(\n",
    "        x=node_x, y=node_y,\n",
    "        mode='markers+text',\n",
    "        text=[node for node in G.nodes()],\n",
    "        textposition=\"top center\",\n",
    "        marker=dict(color='lightblue', size=20, line_width=2),\n",
    "        hoverinfo='text'\n",
    "    )\n",
    "    \n",
    "    # Create figure layout\n",
    "    fig = go.Figure(data=[edge_trace, node_trace],\n",
    "                    layout=go.Layout(\n",
    "                        title=title,\n",
    "                        showlegend=False,\n",
    "                        hovermode='closest',\n",
    "                        margin=dict(b=20, l=5, r=5, t=40),\n",
    "                        xaxis=dict(showgrid=False, zeroline=False, showticklabels=False),\n",
    "                        yaxis=dict(showgrid=False, zeroline=False, showticklabels=False)\n",
    "                    ))\n",
    "    fig.show()\n",
    "\n",
    "\n",
    "# Plote G\n",
    "import plotly.graph_objects as go\n",
    "plot_influence_diagram(G, title=\"Rede de Influência dos Fatores (Silvs)\")"
   ]
  },
  {
   "cell_type": "code",
   "execution_count": null,
   "id": "8cb91ee0",
   "metadata": {},
   "outputs": [
    {
     "data": {
      "application/vnd.plotly.v1+json": {
       "config": {
        "plotlyServerURL": "https://plot.ly"
       },
       "data": [
        {
         "hoverinfo": "none",
         "line": {
          "color": "black",
          "width": 0.249
         },
         "mode": "lines",
         "showlegend": false,
         "type": "scatter",
         "x": [
          -0.10423274987127265,
          0.003018086779885792
         ],
         "y": [
          0.09434647676543154,
          0.8464503593326808
         ]
        },
        {
         "hoverinfo": "none",
         "line": {
          "color": "black",
          "width": 0.312
         },
         "mode": "lines",
         "showlegend": false,
         "type": "scatter",
         "x": [
          -0.005788815526862598,
          -0.1545676905150788
         ],
         "y": [
          0.043493655092017774,
          0.030774899010278557
         ]
        },
        {
         "hoverinfo": "none",
         "line": {
          "color": "black",
          "width": 0.333
         },
         "mode": "lines",
         "showlegend": false,
         "type": "scatter",
         "x": [
          -0.09576152049076268,
          0.08973899310203658
         ],
         "y": [
          -0.02565352323456848,
          -0.6793117109837644
         ]
        },
        {
         "hoverinfo": "none",
         "line": {
          "color": "black",
          "width": 0.372
         },
         "mode": "lines",
         "showlegend": false,
         "type": "scatter",
         "x": [
          -0.11286397826165108,
          -0.11288517493366011
         ],
         "y": [
          0.09434647676543154,
          0.11126710005197013
         ]
        },
        {
         "hoverinfo": "none",
         "line": {
          "color": "black",
          "width": 0.261
         },
         "mode": "lines",
         "showlegend": false,
         "type": "scatter",
         "x": [
          -0.1784381173935498,
          -0.170884890628887
         ],
         "y": [
          -0.02565352323456848,
          -0.018750272278449227
         ]
        },
        {
         "hoverinfo": "none",
         "line": {
          "color": "black",
          "width": 0.534
         },
         "mode": "lines",
         "showlegend": false,
         "type": "scatter",
         "x": [
          -0.21978881552686264,
          -0.43402165200197196
         ],
         "y": [
          0.04690775643770185,
          0.07205764965216543
         ]
        },
        {
         "hoverinfo": "none",
         "line": {
          "color": "black",
          "width": 0.44099999999999995
         },
         "mode": "lines",
         "showlegend": false,
         "type": "scatter",
         "x": [
          -0.09612177969098484,
          0.015816567339609247
         ],
         "y": [
          -0.13464466593110735,
          -0.00787144407837536
         ]
        },
        {
         "hoverinfo": "none",
         "line": {
          "color": "black",
          "width": 0.44399999999999995
         },
         "mode": "lines",
         "showlegend": false,
         "type": "scatter",
         "x": [
          -0.1207554134216427,
          0.07878417972348234
         ],
         "y": [
          -0.25464466593110735,
          -0.6770217995567991
         ]
        },
        {
         "hoverinfo": "none",
         "line": {
          "color": "black",
          "width": 0.46799999999999997
         },
         "mode": "lines",
         "showlegend": false,
         "type": "scatter",
         "x": [
          -0.14315225534079137,
          -0.11854560416395409
         ],
         "y": [
          -0.13464466593110735,
          0.11355701147893552
         ]
        },
        {
         "hoverinfo": "none",
         "line": {
          "color": "black",
          "width": 0.495
         },
         "mode": "lines",
         "showlegend": false,
         "type": "scatter",
         "x": [
          -0.19330469955125745,
          -0.19196701478061362
         ],
         "y": [
          -0.13464466593110735,
          -0.13646036085148383
         ]
        },
        {
         "hoverinfo": "none",
         "line": {
          "color": "black",
          "width": 0.585
         },
         "mode": "lines",
         "showlegend": false,
         "type": "scatter",
         "x": [
          -0.23111167758762968,
          -0.45064749625063916
         ],
         "y": [
          -0.13464466593110735,
          0.025969679654408967
         ]
        },
        {
         "hoverinfo": "none",
         "line": {
          "color": "black",
          "width": 0.22499999999999998
         },
         "mode": "lines",
         "showlegend": false,
         "type": "scatter",
         "x": [
          -0.15636195907955186,
          -0.4358159205664451
         ],
         "y": [
          0.06223246907676076,
          0.07795609331711884
         ]
        },
        {
         "hoverinfo": "none",
         "line": {
          "color": "black",
          "width": 0.363
         },
         "mode": "lines",
         "showlegend": false,
         "type": "scatter",
         "x": [
          -0.02995863942942298,
          -0.021195385808654335
         ],
         "y": [
          0.11434932048693458,
          0.10848299475914897
         ]
        },
        {
         "hoverinfo": "none",
         "line": {
          "color": "black",
          "width": 0.22499999999999998
         },
         "mode": "lines",
         "showlegend": false,
         "type": "scatter",
         "x": [
          -0.14261430383592963,
          -0.20687682985004197
         ],
         "y": [
          0.10991145031645985,
          -0.020105922013959512
         ]
        },
        {
         "hoverinfo": "none",
         "line": {
          "color": "black",
          "width": 0.28500000000000003
         },
         "mode": "lines",
         "showlegend": false,
         "type": "scatter",
         "x": [
          -0.195958639429423,
          -0.4340199537629464
         ],
         "y": [
          0.15260505171850752,
          0.10296669031358728
         ]
        },
        {
         "hoverinfo": "none",
         "line": {
          "color": "black",
          "width": 0.237
         },
         "mode": "lines",
         "showlegend": false,
         "type": "scatter",
         "x": [
          -0.09301064514713922,
          -0.0726408343591828
         ],
         "y": [
          -0.017630502485935555,
          -0.00904158571282708
         ]
        },
        {
         "hoverinfo": "none",
         "line": {
          "color": "black",
          "width": 0.471
         },
         "mode": "lines",
         "showlegend": false,
         "type": "scatter",
         "x": [
          -0.3448284337908818,
          -0.4327964502498065
         ],
         "y": [
          -0.017630502485935555,
          0.030562593102101826
         ]
        },
        {
         "hoverinfo": "skip",
         "mode": "text",
         "showlegend": false,
         "text": [
          "Documentação de Projeto"
         ],
         "textfont": {
          "color": "white",
          "family": "Arial",
          "size": 14
         },
         "type": "scatter",
         "x": [
          -0.11278881552686261
         ],
         "y": [
          0.034346476765431525
         ]
        },
        {
         "hoverinfo": "skip",
         "mode": "text",
         "showlegend": false,
         "text": [
          "Experiência da Equipe"
         ],
         "textfont": {
          "color": "white",
          "family": "Arial",
          "size": 14
         },
         "type": "scatter",
         "x": [
          1
         ],
         "y": [
          0.36650521776604716
         ]
        },
        {
         "hoverinfo": "skip",
         "mode": "text",
         "showlegend": false,
         "text": [
          "Qualidade da Comunicação"
         ],
         "textfont": {
          "color": "white",
          "family": "Arial",
          "size": 14
         },
         "type": "scatter",
         "x": [
          -0.38938265144632356
         ],
         "y": [
          -0.5730108647705521
         ]
        },
        {
         "hoverinfo": "skip",
         "mode": "text",
         "showlegend": false,
         "text": [
          "Disponibilidade de Tempo"
         ],
         "textfont": {
          "color": "white",
          "family": "Arial",
          "size": 14
         },
         "type": "scatter",
         "x": [
          -0.4474736272685329
         ],
         "y": [
          0.5905043555895955
         ]
        },
        {
         "hoverinfo": "skip",
         "mode": "text",
         "showlegend": false,
         "text": [
          "Orçamento Disponível"
         ],
         "textfont": {
          "color": "white",
          "family": "Arial",
          "size": 14
         },
         "type": "scatter",
         "x": [
          -0.1491006400818467
         ],
         "y": [
          -0.19464466593110735
         ]
        },
        {
         "hoverinfo": "skip",
         "mode": "text",
         "showlegend": false,
         "text": [
          "Volume da Câmara"
         ],
         "textfont": {
          "color": "white",
          "family": "Arial",
          "size": 14
         },
         "type": "scatter",
         "x": [
          0.010342835920997157
         ],
         "y": [
          0.8978156674260743
         ]
        },
        {
         "hoverinfo": "skip",
         "mode": "text",
         "showlegend": false,
         "text": [
          "Razão de mistura O/F e controle de vazão do oxigênio"
         ],
         "textfont": {
          "color": "white",
          "family": "Arial",
          "size": 14
         },
         "type": "scatter",
         "x": [
          0.06663804092044816
         ],
         "y": [
          0.04968525669535997
         ]
        },
        {
         "hoverinfo": "skip",
         "mode": "text",
         "showlegend": false,
         "text": [
          "Temperatura do Oxigênio"
         ],
         "textfont": {
          "color": "white",
          "family": "Arial",
          "size": 14
         },
         "type": "scatter",
         "x": [
          0.10459247523056225
         ],
         "y": [
          -0.7316517289268417
         ]
        },
        {
         "hoverinfo": "skip",
         "mode": "text",
         "showlegend": false,
         "text": [
          "Massa de Parafina"
         ],
         "textfont": {
          "color": "white",
          "family": "Arial",
          "size": 14
         },
         "type": "scatter",
         "x": [
          -0.11295863942942298
         ],
         "y": [
          0.16991145031645985
         ]
        },
        {
         "hoverinfo": "skip",
         "mode": "text",
         "showlegend": false,
         "text": [
          "Acabamento Superficial do Grão e pureza da parafina"
         ],
         "textfont": {
          "color": "white",
          "family": "Arial",
          "size": 14
         },
         "type": "scatter",
         "x": [
          -0.23530899074340875
         ],
         "y": [
          -0.07763050248593556
         ]
        },
        {
         "hoverinfo": "skip",
         "mode": "text",
         "showlegend": false,
         "text": [
          "Temperatura Ambiente"
         ],
         "textfont": {
          "color": "white",
          "family": "Arial",
          "size": 14
         },
         "type": "scatter",
         "x": [
          0.7943009432731432
         ],
         "y": [
          -0.6150219822416585
         ]
        },
        {
         "hoverinfo": "skip",
         "mode": "text",
         "showlegend": false,
         "text": [
          "Sucesso do Lançamento"
         ],
         "textfont": {
          "color": "white",
          "family": "Arial",
          "size": 14
         },
         "type": "scatter",
         "x": [
          -0.5288609308487531
         ],
         "y": [
          0.08319131979712663
         ]
        }
       ],
       "layout": {
        "annotations": [
         {
          "arrowcolor": "black",
          "arrowhead": 3,
          "arrowsize": 2.5,
          "arrowwidth": 0.249,
          "ax": -0.10423274987127265,
          "axref": "x",
          "ay": 0.09434647676543154,
          "ayref": "y",
          "showarrow": true,
          "x": 0.003018086779885792,
          "xref": "x",
          "y": 0.8464503593326808,
          "yref": "y"
         },
         {
          "arrowcolor": "black",
          "arrowhead": 3,
          "arrowsize": 2.5,
          "arrowwidth": 0.312,
          "ax": -0.005788815526862598,
          "axref": "x",
          "ay": 0.043493655092017774,
          "ayref": "y",
          "showarrow": true,
          "x": -0.1545676905150788,
          "xref": "x",
          "y": 0.030774899010278557,
          "yref": "y"
         },
         {
          "arrowcolor": "black",
          "arrowhead": 3,
          "arrowsize": 2.5,
          "arrowwidth": 0.333,
          "ax": -0.09576152049076268,
          "axref": "x",
          "ay": -0.02565352323456848,
          "ayref": "y",
          "showarrow": true,
          "x": 0.08973899310203658,
          "xref": "x",
          "y": -0.6793117109837644,
          "yref": "y"
         },
         {
          "arrowcolor": "black",
          "arrowhead": 3,
          "arrowsize": 2.5,
          "arrowwidth": 0.372,
          "ax": -0.11286397826165108,
          "axref": "x",
          "ay": 0.09434647676543154,
          "ayref": "y",
          "showarrow": true,
          "x": -0.11288517493366011,
          "xref": "x",
          "y": 0.11126710005197013,
          "yref": "y"
         },
         {
          "arrowcolor": "black",
          "arrowhead": 3,
          "arrowsize": 2.5,
          "arrowwidth": 0.261,
          "ax": -0.1784381173935498,
          "axref": "x",
          "ay": -0.02565352323456848,
          "ayref": "y",
          "showarrow": true,
          "x": -0.170884890628887,
          "xref": "x",
          "y": -0.018750272278449227,
          "yref": "y"
         },
         {
          "arrowcolor": "black",
          "arrowhead": 3,
          "arrowsize": 2.5,
          "arrowwidth": 0.534,
          "ax": -0.21978881552686264,
          "axref": "x",
          "ay": 0.04690775643770185,
          "ayref": "y",
          "showarrow": true,
          "x": -0.43402165200197196,
          "xref": "x",
          "y": 0.07205764965216543,
          "yref": "y"
         },
         {
          "arrowcolor": "black",
          "arrowhead": 3,
          "arrowsize": 2.5,
          "arrowwidth": 0.44099999999999995,
          "ax": -0.09612177969098484,
          "axref": "x",
          "ay": -0.13464466593110735,
          "ayref": "y",
          "showarrow": true,
          "x": 0.015816567339609247,
          "xref": "x",
          "y": -0.00787144407837536,
          "yref": "y"
         },
         {
          "arrowcolor": "black",
          "arrowhead": 3,
          "arrowsize": 2.5,
          "arrowwidth": 0.44399999999999995,
          "ax": -0.1207554134216427,
          "axref": "x",
          "ay": -0.25464466593110735,
          "ayref": "y",
          "showarrow": true,
          "x": 0.07878417972348234,
          "xref": "x",
          "y": -0.6770217995567991,
          "yref": "y"
         },
         {
          "arrowcolor": "black",
          "arrowhead": 3,
          "arrowsize": 2.5,
          "arrowwidth": 0.46799999999999997,
          "ax": -0.14315225534079137,
          "axref": "x",
          "ay": -0.13464466593110735,
          "ayref": "y",
          "showarrow": true,
          "x": -0.11854560416395409,
          "xref": "x",
          "y": 0.11355701147893552,
          "yref": "y"
         },
         {
          "arrowcolor": "black",
          "arrowhead": 3,
          "arrowsize": 2.5,
          "arrowwidth": 0.495,
          "ax": -0.19330469955125745,
          "axref": "x",
          "ay": -0.13464466593110735,
          "ayref": "y",
          "showarrow": true,
          "x": -0.19196701478061362,
          "xref": "x",
          "y": -0.13646036085148383,
          "yref": "y"
         },
         {
          "arrowcolor": "black",
          "arrowhead": 3,
          "arrowsize": 2.5,
          "arrowwidth": 0.585,
          "ax": -0.23111167758762968,
          "axref": "x",
          "ay": -0.13464466593110735,
          "ayref": "y",
          "showarrow": true,
          "x": -0.45064749625063916,
          "xref": "x",
          "y": 0.025969679654408967,
          "yref": "y"
         },
         {
          "arrowcolor": "black",
          "arrowhead": 3,
          "arrowsize": 2.5,
          "arrowwidth": 0.22499999999999998,
          "ax": -0.15636195907955186,
          "axref": "x",
          "ay": 0.06223246907676076,
          "ayref": "y",
          "showarrow": true,
          "x": -0.4358159205664451,
          "xref": "x",
          "y": 0.07795609331711884,
          "yref": "y"
         },
         {
          "arrowcolor": "black",
          "arrowhead": 3,
          "arrowsize": 2.5,
          "arrowwidth": 0.363,
          "ax": -0.02995863942942298,
          "axref": "x",
          "ay": 0.11434932048693458,
          "ayref": "y",
          "showarrow": true,
          "x": -0.021195385808654335,
          "xref": "x",
          "y": 0.10848299475914897,
          "yref": "y"
         },
         {
          "arrowcolor": "black",
          "arrowhead": 3,
          "arrowsize": 2.5,
          "arrowwidth": 0.22499999999999998,
          "ax": -0.14261430383592963,
          "axref": "x",
          "ay": 0.10991145031645985,
          "ayref": "y",
          "showarrow": true,
          "x": -0.20687682985004197,
          "xref": "x",
          "y": -0.020105922013959512,
          "yref": "y"
         },
         {
          "arrowcolor": "black",
          "arrowhead": 3,
          "arrowsize": 2.5,
          "arrowwidth": 0.28500000000000003,
          "ax": -0.195958639429423,
          "axref": "x",
          "ay": 0.15260505171850752,
          "ayref": "y",
          "showarrow": true,
          "x": -0.4340199537629464,
          "xref": "x",
          "y": 0.10296669031358728,
          "yref": "y"
         },
         {
          "arrowcolor": "black",
          "arrowhead": 3,
          "arrowsize": 2.5,
          "arrowwidth": 0.237,
          "ax": -0.09301064514713922,
          "axref": "x",
          "ay": -0.017630502485935555,
          "ayref": "y",
          "showarrow": true,
          "x": -0.0726408343591828,
          "xref": "x",
          "y": -0.00904158571282708,
          "yref": "y"
         },
         {
          "arrowcolor": "black",
          "arrowhead": 3,
          "arrowsize": 2.5,
          "arrowwidth": 0.471,
          "ax": -0.3448284337908818,
          "axref": "x",
          "ay": -0.017630502485935555,
          "ayref": "y",
          "showarrow": true,
          "x": -0.4327964502498065,
          "xref": "x",
          "y": 0.030562593102101826,
          "yref": "y"
         }
        ],
        "height": 800,
        "plot_bgcolor": "#f7f9fc",
        "shapes": [
         {
          "fillcolor": "rgba(52,152,219,0.85)",
          "layer": "below",
          "line": {
           "color": "rgba(60,60,60,0.9)",
           "width": 1.5
          },
          "type": "rect",
          "x0": -0.2197888155268626,
          "x1": -0.005788815526862612,
          "y0": -0.02565352323456848,
          "y1": 0.09434647676543154
         },
         {
          "fillcolor": "rgba(52,152,219,0.85)",
          "layer": "below",
          "line": {
           "color": "rgba(60,60,60,0.9)",
           "width": 1.5
          },
          "type": "rect",
          "x0": 0.901,
          "x1": 1.099,
          "y0": 0.30650521776604717,
          "y1": 0.42650521776604716
         },
         {
          "fillcolor": "rgba(52,152,219,0.85)",
          "layer": "below",
          "line": {
           "color": "rgba(60,60,60,0.9)",
           "width": 1.5
          },
          "type": "rect",
          "x0": -0.5003826514463235,
          "x1": -0.27838265144632357,
          "y0": -0.6330108647705521,
          "y1": -0.513010864770552
         },
         {
          "fillcolor": "rgba(52,152,219,0.85)",
          "layer": "below",
          "line": {
           "color": "rgba(60,60,60,0.9)",
           "width": 1.5
          },
          "type": "rect",
          "x0": -0.5584736272685329,
          "x1": -0.3364736272685329,
          "y0": 0.5305043555895954,
          "y1": 0.6505043555895955
         },
         {
          "fillcolor": "rgba(52,152,219,0.85)",
          "layer": "below",
          "line": {
           "color": "rgba(60,60,60,0.9)",
           "width": 1.5
          },
          "type": "rect",
          "x0": -0.2441006400818467,
          "x1": -0.0541006400818467,
          "y0": -0.25464466593110735,
          "y1": -0.13464466593110735
         },
         {
          "fillcolor": "rgba(52,152,219,0.85)",
          "layer": "below",
          "line": {
           "color": "rgba(60,60,60,0.9)",
           "width": 1.5
          },
          "type": "rect",
          "x0": -0.06865716407900284,
          "x1": 0.08934283592099716,
          "y0": 0.8378156674260743,
          "y1": 0.9578156674260744
         },
         {
          "fillcolor": "rgba(52,152,219,0.85)",
          "layer": "below",
          "line": {
           "color": "rgba(60,60,60,0.9)",
           "width": 1.5
          },
          "type": "rect",
          "x0": -0.15636195907955186,
          "x1": 0.2896380409204482,
          "y0": -0.010314743304640037,
          "y1": 0.10968525669535997
         },
         {
          "fillcolor": "rgba(52,152,219,0.85)",
          "layer": "below",
          "line": {
           "color": "rgba(60,60,60,0.9)",
           "width": 1.5
          },
          "type": "rect",
          "x0": -0.002407524769437744,
          "x1": 0.21159247523056224,
          "y0": -0.7916517289268418,
          "y1": -0.6716517289268417
         },
         {
          "fillcolor": "rgba(52,152,219,0.85)",
          "layer": "below",
          "line": {
           "color": "rgba(60,60,60,0.9)",
           "width": 1.5
          },
          "type": "rect",
          "x0": -0.195958639429423,
          "x1": -0.02995863942942298,
          "y0": 0.10991145031645985,
          "y1": 0.22991145031645985
         },
         {
          "fillcolor": "rgba(52,152,219,0.85)",
          "layer": "below",
          "line": {
           "color": "rgba(60,60,60,0.9)",
           "width": 1.5
          },
          "type": "rect",
          "x0": -0.4543089907434088,
          "x1": -0.01630899074340872,
          "y0": -0.13763050248593556,
          "y1": -0.017630502485935555
         },
         {
          "fillcolor": "rgba(52,152,219,0.85)",
          "layer": "below",
          "line": {
           "color": "rgba(60,60,60,0.9)",
           "width": 1.5
          },
          "type": "rect",
          "x0": 0.6993009432731432,
          "x1": 0.8893009432731431,
          "y0": -0.6750219822416585,
          "y1": -0.5550219822416584
         },
         {
          "fillcolor": "rgba(52,152,219,0.85)",
          "layer": "below",
          "line": {
           "color": "rgba(60,60,60,0.9)",
           "width": 1.5
          },
          "type": "rect",
          "x0": -0.627860930848753,
          "x1": -0.4298609308487531,
          "y0": 0.023191319797126624,
          "y1": 0.14319131979712663
         }
        ],
        "showlegend": false,
        "template": {
         "data": {
          "bar": [
           {
            "error_x": {
             "color": "#2a3f5f"
            },
            "error_y": {
             "color": "#2a3f5f"
            },
            "marker": {
             "line": {
              "color": "#E5ECF6",
              "width": 0.5
             },
             "pattern": {
              "fillmode": "overlay",
              "size": 10,
              "solidity": 0.2
             }
            },
            "type": "bar"
           }
          ],
          "barpolar": [
           {
            "marker": {
             "line": {
              "color": "#E5ECF6",
              "width": 0.5
             },
             "pattern": {
              "fillmode": "overlay",
              "size": 10,
              "solidity": 0.2
             }
            },
            "type": "barpolar"
           }
          ],
          "carpet": [
           {
            "aaxis": {
             "endlinecolor": "#2a3f5f",
             "gridcolor": "white",
             "linecolor": "white",
             "minorgridcolor": "white",
             "startlinecolor": "#2a3f5f"
            },
            "baxis": {
             "endlinecolor": "#2a3f5f",
             "gridcolor": "white",
             "linecolor": "white",
             "minorgridcolor": "white",
             "startlinecolor": "#2a3f5f"
            },
            "type": "carpet"
           }
          ],
          "choropleth": [
           {
            "colorbar": {
             "outlinewidth": 0,
             "ticks": ""
            },
            "type": "choropleth"
           }
          ],
          "contour": [
           {
            "colorbar": {
             "outlinewidth": 0,
             "ticks": ""
            },
            "colorscale": [
             [
              0,
              "#0d0887"
             ],
             [
              0.1111111111111111,
              "#46039f"
             ],
             [
              0.2222222222222222,
              "#7201a8"
             ],
             [
              0.3333333333333333,
              "#9c179e"
             ],
             [
              0.4444444444444444,
              "#bd3786"
             ],
             [
              0.5555555555555556,
              "#d8576b"
             ],
             [
              0.6666666666666666,
              "#ed7953"
             ],
             [
              0.7777777777777778,
              "#fb9f3a"
             ],
             [
              0.8888888888888888,
              "#fdca26"
             ],
             [
              1,
              "#f0f921"
             ]
            ],
            "type": "contour"
           }
          ],
          "contourcarpet": [
           {
            "colorbar": {
             "outlinewidth": 0,
             "ticks": ""
            },
            "type": "contourcarpet"
           }
          ],
          "heatmap": [
           {
            "colorbar": {
             "outlinewidth": 0,
             "ticks": ""
            },
            "colorscale": [
             [
              0,
              "#0d0887"
             ],
             [
              0.1111111111111111,
              "#46039f"
             ],
             [
              0.2222222222222222,
              "#7201a8"
             ],
             [
              0.3333333333333333,
              "#9c179e"
             ],
             [
              0.4444444444444444,
              "#bd3786"
             ],
             [
              0.5555555555555556,
              "#d8576b"
             ],
             [
              0.6666666666666666,
              "#ed7953"
             ],
             [
              0.7777777777777778,
              "#fb9f3a"
             ],
             [
              0.8888888888888888,
              "#fdca26"
             ],
             [
              1,
              "#f0f921"
             ]
            ],
            "type": "heatmap"
           }
          ],
          "heatmapgl": [
           {
            "colorbar": {
             "outlinewidth": 0,
             "ticks": ""
            },
            "colorscale": [
             [
              0,
              "#0d0887"
             ],
             [
              0.1111111111111111,
              "#46039f"
             ],
             [
              0.2222222222222222,
              "#7201a8"
             ],
             [
              0.3333333333333333,
              "#9c179e"
             ],
             [
              0.4444444444444444,
              "#bd3786"
             ],
             [
              0.5555555555555556,
              "#d8576b"
             ],
             [
              0.6666666666666666,
              "#ed7953"
             ],
             [
              0.7777777777777778,
              "#fb9f3a"
             ],
             [
              0.8888888888888888,
              "#fdca26"
             ],
             [
              1,
              "#f0f921"
             ]
            ],
            "type": "heatmapgl"
           }
          ],
          "histogram": [
           {
            "marker": {
             "pattern": {
              "fillmode": "overlay",
              "size": 10,
              "solidity": 0.2
             }
            },
            "type": "histogram"
           }
          ],
          "histogram2d": [
           {
            "colorbar": {
             "outlinewidth": 0,
             "ticks": ""
            },
            "colorscale": [
             [
              0,
              "#0d0887"
             ],
             [
              0.1111111111111111,
              "#46039f"
             ],
             [
              0.2222222222222222,
              "#7201a8"
             ],
             [
              0.3333333333333333,
              "#9c179e"
             ],
             [
              0.4444444444444444,
              "#bd3786"
             ],
             [
              0.5555555555555556,
              "#d8576b"
             ],
             [
              0.6666666666666666,
              "#ed7953"
             ],
             [
              0.7777777777777778,
              "#fb9f3a"
             ],
             [
              0.8888888888888888,
              "#fdca26"
             ],
             [
              1,
              "#f0f921"
             ]
            ],
            "type": "histogram2d"
           }
          ],
          "histogram2dcontour": [
           {
            "colorbar": {
             "outlinewidth": 0,
             "ticks": ""
            },
            "colorscale": [
             [
              0,
              "#0d0887"
             ],
             [
              0.1111111111111111,
              "#46039f"
             ],
             [
              0.2222222222222222,
              "#7201a8"
             ],
             [
              0.3333333333333333,
              "#9c179e"
             ],
             [
              0.4444444444444444,
              "#bd3786"
             ],
             [
              0.5555555555555556,
              "#d8576b"
             ],
             [
              0.6666666666666666,
              "#ed7953"
             ],
             [
              0.7777777777777778,
              "#fb9f3a"
             ],
             [
              0.8888888888888888,
              "#fdca26"
             ],
             [
              1,
              "#f0f921"
             ]
            ],
            "type": "histogram2dcontour"
           }
          ],
          "mesh3d": [
           {
            "colorbar": {
             "outlinewidth": 0,
             "ticks": ""
            },
            "type": "mesh3d"
           }
          ],
          "parcoords": [
           {
            "line": {
             "colorbar": {
              "outlinewidth": 0,
              "ticks": ""
             }
            },
            "type": "parcoords"
           }
          ],
          "pie": [
           {
            "automargin": true,
            "type": "pie"
           }
          ],
          "scatter": [
           {
            "fillpattern": {
             "fillmode": "overlay",
             "size": 10,
             "solidity": 0.2
            },
            "type": "scatter"
           }
          ],
          "scatter3d": [
           {
            "line": {
             "colorbar": {
              "outlinewidth": 0,
              "ticks": ""
             }
            },
            "marker": {
             "colorbar": {
              "outlinewidth": 0,
              "ticks": ""
             }
            },
            "type": "scatter3d"
           }
          ],
          "scattercarpet": [
           {
            "marker": {
             "colorbar": {
              "outlinewidth": 0,
              "ticks": ""
             }
            },
            "type": "scattercarpet"
           }
          ],
          "scattergeo": [
           {
            "marker": {
             "colorbar": {
              "outlinewidth": 0,
              "ticks": ""
             }
            },
            "type": "scattergeo"
           }
          ],
          "scattergl": [
           {
            "marker": {
             "colorbar": {
              "outlinewidth": 0,
              "ticks": ""
             }
            },
            "type": "scattergl"
           }
          ],
          "scattermapbox": [
           {
            "marker": {
             "colorbar": {
              "outlinewidth": 0,
              "ticks": ""
             }
            },
            "type": "scattermapbox"
           }
          ],
          "scatterpolar": [
           {
            "marker": {
             "colorbar": {
              "outlinewidth": 0,
              "ticks": ""
             }
            },
            "type": "scatterpolar"
           }
          ],
          "scatterpolargl": [
           {
            "marker": {
             "colorbar": {
              "outlinewidth": 0,
              "ticks": ""
             }
            },
            "type": "scatterpolargl"
           }
          ],
          "scatterternary": [
           {
            "marker": {
             "colorbar": {
              "outlinewidth": 0,
              "ticks": ""
             }
            },
            "type": "scatterternary"
           }
          ],
          "surface": [
           {
            "colorbar": {
             "outlinewidth": 0,
             "ticks": ""
            },
            "colorscale": [
             [
              0,
              "#0d0887"
             ],
             [
              0.1111111111111111,
              "#46039f"
             ],
             [
              0.2222222222222222,
              "#7201a8"
             ],
             [
              0.3333333333333333,
              "#9c179e"
             ],
             [
              0.4444444444444444,
              "#bd3786"
             ],
             [
              0.5555555555555556,
              "#d8576b"
             ],
             [
              0.6666666666666666,
              "#ed7953"
             ],
             [
              0.7777777777777778,
              "#fb9f3a"
             ],
             [
              0.8888888888888888,
              "#fdca26"
             ],
             [
              1,
              "#f0f921"
             ]
            ],
            "type": "surface"
           }
          ],
          "table": [
           {
            "cells": {
             "fill": {
              "color": "#EBF0F8"
             },
             "line": {
              "color": "white"
             }
            },
            "header": {
             "fill": {
              "color": "#C8D4E3"
             },
             "line": {
              "color": "white"
             }
            },
            "type": "table"
           }
          ]
         },
         "layout": {
          "annotationdefaults": {
           "arrowcolor": "#2a3f5f",
           "arrowhead": 0,
           "arrowwidth": 1
          },
          "autotypenumbers": "strict",
          "coloraxis": {
           "colorbar": {
            "outlinewidth": 0,
            "ticks": ""
           }
          },
          "colorscale": {
           "diverging": [
            [
             0,
             "#8e0152"
            ],
            [
             0.1,
             "#c51b7d"
            ],
            [
             0.2,
             "#de77ae"
            ],
            [
             0.3,
             "#f1b6da"
            ],
            [
             0.4,
             "#fde0ef"
            ],
            [
             0.5,
             "#f7f7f7"
            ],
            [
             0.6,
             "#e6f5d0"
            ],
            [
             0.7,
             "#b8e186"
            ],
            [
             0.8,
             "#7fbc41"
            ],
            [
             0.9,
             "#4d9221"
            ],
            [
             1,
             "#276419"
            ]
           ],
           "sequential": [
            [
             0,
             "#0d0887"
            ],
            [
             0.1111111111111111,
             "#46039f"
            ],
            [
             0.2222222222222222,
             "#7201a8"
            ],
            [
             0.3333333333333333,
             "#9c179e"
            ],
            [
             0.4444444444444444,
             "#bd3786"
            ],
            [
             0.5555555555555556,
             "#d8576b"
            ],
            [
             0.6666666666666666,
             "#ed7953"
            ],
            [
             0.7777777777777778,
             "#fb9f3a"
            ],
            [
             0.8888888888888888,
             "#fdca26"
            ],
            [
             1,
             "#f0f921"
            ]
           ],
           "sequentialminus": [
            [
             0,
             "#0d0887"
            ],
            [
             0.1111111111111111,
             "#46039f"
            ],
            [
             0.2222222222222222,
             "#7201a8"
            ],
            [
             0.3333333333333333,
             "#9c179e"
            ],
            [
             0.4444444444444444,
             "#bd3786"
            ],
            [
             0.5555555555555556,
             "#d8576b"
            ],
            [
             0.6666666666666666,
             "#ed7953"
            ],
            [
             0.7777777777777778,
             "#fb9f3a"
            ],
            [
             0.8888888888888888,
             "#fdca26"
            ],
            [
             1,
             "#f0f921"
            ]
           ]
          },
          "colorway": [
           "#636efa",
           "#EF553B",
           "#00cc96",
           "#ab63fa",
           "#FFA15A",
           "#19d3f3",
           "#FF6692",
           "#B6E880",
           "#FF97FF",
           "#FECB52"
          ],
          "font": {
           "color": "#2a3f5f"
          },
          "geo": {
           "bgcolor": "white",
           "lakecolor": "white",
           "landcolor": "#E5ECF6",
           "showlakes": true,
           "showland": true,
           "subunitcolor": "white"
          },
          "hoverlabel": {
           "align": "left"
          },
          "hovermode": "closest",
          "mapbox": {
           "style": "light"
          },
          "paper_bgcolor": "white",
          "plot_bgcolor": "#E5ECF6",
          "polar": {
           "angularaxis": {
            "gridcolor": "white",
            "linecolor": "white",
            "ticks": ""
           },
           "bgcolor": "#E5ECF6",
           "radialaxis": {
            "gridcolor": "white",
            "linecolor": "white",
            "ticks": ""
           }
          },
          "scene": {
           "xaxis": {
            "backgroundcolor": "#E5ECF6",
            "gridcolor": "white",
            "gridwidth": 2,
            "linecolor": "white",
            "showbackground": true,
            "ticks": "",
            "zerolinecolor": "white"
           },
           "yaxis": {
            "backgroundcolor": "#E5ECF6",
            "gridcolor": "white",
            "gridwidth": 2,
            "linecolor": "white",
            "showbackground": true,
            "ticks": "",
            "zerolinecolor": "white"
           },
           "zaxis": {
            "backgroundcolor": "#E5ECF6",
            "gridcolor": "white",
            "gridwidth": 2,
            "linecolor": "white",
            "showbackground": true,
            "ticks": "",
            "zerolinecolor": "white"
           }
          },
          "shapedefaults": {
           "line": {
            "color": "#2a3f5f"
           }
          },
          "ternary": {
           "aaxis": {
            "gridcolor": "white",
            "linecolor": "white",
            "ticks": ""
           },
           "baxis": {
            "gridcolor": "white",
            "linecolor": "white",
            "ticks": ""
           },
           "bgcolor": "#E5ECF6",
           "caxis": {
            "gridcolor": "white",
            "linecolor": "white",
            "ticks": ""
           }
          },
          "title": {
           "x": 0.05
          },
          "xaxis": {
           "automargin": true,
           "gridcolor": "white",
           "linecolor": "white",
           "ticks": "",
           "title": {
            "standoff": 15
           },
           "zerolinecolor": "white",
           "zerolinewidth": 2
          },
          "yaxis": {
           "automargin": true,
           "gridcolor": "white",
           "linecolor": "white",
           "ticks": "",
           "title": {
            "standoff": 15
           },
           "zerolinecolor": "white",
           "zerolinewidth": 2
          }
         }
        },
        "title": {
         "text": "Topologia DEMATEL‑LLM (DAG)"
        },
        "xaxis": {
         "visible": false
        },
        "yaxis": {
         "visible": false
        }
       }
      }
     },
     "metadata": {},
     "output_type": "display_data"
    }
   ],
   "source": [
    "import networkx as nx\n",
    "import pandas as pd\n",
    "\n",
    "def plot_network(\n",
    "    G,\n",
    "    rc_sum,\n",
    "    rc_diff,\n",
    "    node_size_scale: float = 50.0,\n",
    "    edge_width_scale: float = 3.0,\n",
    "    title: str | None = None,\n",
    "    hierarchical: bool = True,\n",
    "    hierarchical_pos_fn=None,\n",
    "):\n",
    "    import plotly.graph_objects as go\n",
    "\n",
    "    # Define pos usando layout hierárquico (via função passada) ou spring_layout\n",
    "    if hierarchical:\n",
    "        if hierarchical_pos_fn is not None:\n",
    "            pos = hierarchical_pos_fn(G)\n",
    "        else:\n",
    "            pos = nx.spring_layout(G, seed=42)\n",
    "    else:\n",
    "        pos = nx.spring_layout(G, seed=42)\n",
    "    nx.set_node_attributes(G, pos, \"pos\")\n",
    "\n",
    "    # Cria DataFrame de nós\n",
    "    node_df = pd.DataFrame(\n",
    "        {\n",
    "            \"factor\": list(G.nodes()),\n",
    "            \"x\": [pos[n][0] for n in G.nodes()],\n",
    "            \"y\": [pos[n][1] for n in G.nodes()],\n",
    "            \"RC_sum\": rc_sum,\n",
    "            \"RC_diff\": rc_diff,\n",
    "        }\n",
    "    )\n",
    "\n",
    "    fig = go.Figure()\n",
    "\n",
    "    # 1) Relações bidirecionais → linha vermelha sem seta\n",
    "    drawn_pairs = set()\n",
    "    for u, v in G.edges():\n",
    "        if (v, u) in G.edges() and (v, u) not in drawn_pairs:\n",
    "            fig.add_trace(\n",
    "                go.Scatter(\n",
    "                    x=[pos[u][0], pos[v][0]],\n",
    "                    y=[pos[u][1], pos[v][1]],\n",
    "                    mode=\"lines\",\n",
    "                    line=dict(width=edge_width_scale, color=\"red\"),\n",
    "                    hoverinfo=\"none\",\n",
    "                    showlegend=False,\n",
    "                )\n",
    "            )\n",
    "            drawn_pairs.add((u, v))\n",
    "            drawn_pairs.add((v, u))\n",
    "\n",
    "    # 2) Relações unilaterais → seta preta\n",
    "    bbox = {}  # guarda meio-largura e meio-altura de cada nó\n",
    "    shapes = []\n",
    "    text_traces = []\n",
    "    for _, row in node_df.iterrows():\n",
    "        txt = row[\"factor\"]\n",
    "        x, y = row[\"x\"], row[\"y\"]\n",
    "\n",
    "        # dimensões com padding generoso\n",
    "        txt_len = len(str(txt))\n",
    "        pad = 0.02\n",
    "        w = 0.01 + txt_len * 0.008 + pad\n",
    "        h = 0.1 + pad\n",
    "        bbox[txt] = (w / 2, h / 2)\n",
    "\n",
    "        shapes.append(\n",
    "            dict(\n",
    "                type=\"rect\",\n",
    "                x0=x - w / 2,\n",
    "                x1=x + w / 2,\n",
    "                y0=y - h / 2,\n",
    "                y1=y + h / 2,\n",
    "                line=dict(color=\"rgba(60,60,60,0.9)\", width=1.5),\n",
    "                fillcolor=\"rgba(52,152,219,0.85)\",\n",
    "                layer=\"below\",\n",
    "            )\n",
    "        )\n",
    "\n",
    "        text_traces.append(\n",
    "            go.Scatter(\n",
    "                x=[x],\n",
    "                y=[y],\n",
    "                text=[txt],\n",
    "                mode=\"text\",\n",
    "                textfont=dict(color=\"white\", size=14, family=\"Arial\"),\n",
    "                hoverinfo=\"skip\",\n",
    "                showlegend=False,\n",
    "            )\n",
    "        )\n",
    "\n",
    "    for u, v, d in G.edges(data=True):\n",
    "        if (v, u) in G.edges():  # já tratada como bidirecional\n",
    "            continue\n",
    "        w = d.get(\"weight\", 1)\n",
    "        ux, uy = pos[u]\n",
    "        vx, vy = pos[v]\n",
    "        dx, dy = vx - ux, vy - uy\n",
    "\n",
    "        # Ajusta a saída do nó de origem até a borda do retângulo\n",
    "        sx = hw_u = bbox[u][0] / abs(dx) if dx else float(\"inf\")\n",
    "        sy = hh_u = bbox[u][1] / abs(dy) if dy else float(\"inf\")\n",
    "        t_u = min(sx, sy, 1)\n",
    "        ox = ux + dx * t_u\n",
    "        oy = uy + dy * t_u\n",
    "\n",
    "        # Ajusta o ponto de chegada até a borda do nó destino\n",
    "        scale_x = bbox[v][0] / abs(dx) if dx else float(\"inf\")\n",
    "        scale_y = bbox[v][1] / abs(dy) if dy else float(\"inf\")\n",
    "        t_v = min(scale_x, scale_y) - 0.01  # pequeno deslocamento para sair do nó\n",
    "        tx = vx - dx * t_v\n",
    "        ty = vy - dy * t_v\n",
    "\n",
    "        fig.add_trace(\n",
    "            go.Scatter(\n",
    "                x=[ox, tx],\n",
    "                y=[oy, ty],\n",
    "                mode=\"lines\",\n",
    "                line=dict(width=w * edge_width_scale, color=\"black\"),\n",
    "                hoverinfo=\"none\",\n",
    "                showlegend=False,\n",
    "            )\n",
    "        )\n",
    "        fig.add_annotation(\n",
    "            x=tx,\n",
    "            y=ty,\n",
    "            ax=ox,\n",
    "            ay=oy,\n",
    "            xref=\"x\",\n",
    "            yref=\"y\",\n",
    "            axref=\"x\",\n",
    "            ayref=\"y\",\n",
    "            showarrow=True,\n",
    "            arrowhead=3,\n",
    "            arrowsize=2.5,\n",
    "            arrowwidth=w * edge_width_scale,\n",
    "            arrowcolor=\"black\",\n",
    "        )\n",
    "\n",
    "    # Adiciona os textos e shapes\n",
    "    for tr in text_traces:\n",
    "        fig.add_trace(tr)\n",
    "    fig.update_layout(shapes=shapes)\n",
    "\n",
    "    fig.update_layout(\n",
    "        showlegend=False,\n",
    "        title=title or \"Topologia DEMATEL‑LLM (DAG)\",\n",
    "        plot_bgcolor=\"#f7f9fc\",\n",
    "        height=800,\n",
    "    )\n",
    "    fig.update_xaxes(visible=False)\n",
    "    fig.update_yaxes(visible=False)\n",
    "    fig.show()\n",
    "\n",
    "\n",
    "plot_network(\n",
    "    G,\n",
    "    _dematel(A_silvs)[4],\n",
    "    _dematel(A_silvs)[5],\n",
    "    node_size_scale=50.0,\n",
    "    edge_width_scale=3.0,\n",
    "    title=\"Topologia DEMATEL‑LLM (DAG)\",\n",
    "    hierarchical=True,\n",
    "    hierarchical_pos_fn=None,\n",
    ")"
   ]
  },
  {
   "cell_type": "code",
   "execution_count": null,
   "id": "787a591b",
   "metadata": {},
   "outputs": [
    {
     "data": {
      "application/vnd.plotly.v1+json": {
       "config": {
        "plotlyServerURL": "https://plot.ly"
       },
       "data": [
        {
         "hovertemplate": "R + C  (importância)=%{x}<br>R − C  (efeito líquido)=%{y}<br>Size=%{marker.size}<br>Formatted_Factor=%{text}<extra></extra>",
         "legendgroup": "",
         "marker": {
          "color": "#636efa",
          "size": [
           1586.1710493406079,
           885.9646068345365,
           690.1348177140649,
           824.1746851786531,
           1858.6872048096318,
           824.6722108550221,
           1696.0777262625422,
           1201.379954576084,
           1585.3860747611975,
           2216.381974692342,
           600,
           2599.999997981636
          ],
          "sizemode": "area",
          "sizeref": 0.7222222216615656,
          "symbol": "circle"
         },
         "mode": "markers+text",
         "name": "",
         "orientation": "v",
         "showlegend": false,
         "text": [
          "Documentação de\nProjeto",
          "Experiência da\nEquipe",
          "Qualidade da\nComunicação",
          "Disponibilidade de\nTempo",
          "Orçamento\nDisponível",
          "Volume da Câmara",
          "Razão de mistura\nO/F e controle de\nvazão do oxigênio",
          "Temperatura do\nOxigênio",
          "Massa de Parafina",
          "Acabamento\nSuperficial do\nGrão e pureza da\nparafina",
          "Temperatura\nAmbiente",
          "Sucesso do\nLançamento"
         ],
         "textposition": "middle center",
         "type": "scatter",
         "x": [
          0.6869551477978094,
          0.3400373364523781,
          0.24301331937141224,
          0.30942347305040163,
          0.8219734830665046,
          0.458305199344229,
          0.741408493976035,
          0.496310108967331,
          0.8352014583702497,
          0.9991936272475422,
          0.19835595578665535,
          1.1892574669286928
         ],
         "xaxis": "x",
         "y": [
          0.6869551477978094,
          0.3400373364523781,
          0.24301331937141224,
          0.30942347305040163,
          0.8219734830665046,
          0.005123853264940165,
          -0.502022232768288,
          -0.31850470584748375,
          -0.15726415902622493,
          -0.4378340042194119,
          0.19835595578665535,
          -1.1892574669286928
         ],
         "yaxis": "y"
        }
       ],
       "layout": {
        "legend": {
         "itemsizing": "constant",
         "tracegroupgap": 0
        },
        "shapes": [
         {
          "line": {
           "color": "gray",
           "width": 1
          },
          "type": "line",
          "x0": 0,
          "x1": 0,
          "xref": "x",
          "y0": 0,
          "y1": 1,
          "yref": "y domain"
         },
         {
          "line": {
           "color": "gray",
           "width": 1
          },
          "type": "line",
          "x0": 0,
          "x1": 1,
          "xref": "x domain",
          "y0": 0,
          "y1": 0,
          "yref": "y"
         }
        ],
        "template": {
         "data": {
          "bar": [
           {
            "error_x": {
             "color": "#2a3f5f"
            },
            "error_y": {
             "color": "#2a3f5f"
            },
            "marker": {
             "line": {
              "color": "#E5ECF6",
              "width": 0.5
             },
             "pattern": {
              "fillmode": "overlay",
              "size": 10,
              "solidity": 0.2
             }
            },
            "type": "bar"
           }
          ],
          "barpolar": [
           {
            "marker": {
             "line": {
              "color": "#E5ECF6",
              "width": 0.5
             },
             "pattern": {
              "fillmode": "overlay",
              "size": 10,
              "solidity": 0.2
             }
            },
            "type": "barpolar"
           }
          ],
          "carpet": [
           {
            "aaxis": {
             "endlinecolor": "#2a3f5f",
             "gridcolor": "white",
             "linecolor": "white",
             "minorgridcolor": "white",
             "startlinecolor": "#2a3f5f"
            },
            "baxis": {
             "endlinecolor": "#2a3f5f",
             "gridcolor": "white",
             "linecolor": "white",
             "minorgridcolor": "white",
             "startlinecolor": "#2a3f5f"
            },
            "type": "carpet"
           }
          ],
          "choropleth": [
           {
            "colorbar": {
             "outlinewidth": 0,
             "ticks": ""
            },
            "type": "choropleth"
           }
          ],
          "contour": [
           {
            "colorbar": {
             "outlinewidth": 0,
             "ticks": ""
            },
            "colorscale": [
             [
              0,
              "#0d0887"
             ],
             [
              0.1111111111111111,
              "#46039f"
             ],
             [
              0.2222222222222222,
              "#7201a8"
             ],
             [
              0.3333333333333333,
              "#9c179e"
             ],
             [
              0.4444444444444444,
              "#bd3786"
             ],
             [
              0.5555555555555556,
              "#d8576b"
             ],
             [
              0.6666666666666666,
              "#ed7953"
             ],
             [
              0.7777777777777778,
              "#fb9f3a"
             ],
             [
              0.8888888888888888,
              "#fdca26"
             ],
             [
              1,
              "#f0f921"
             ]
            ],
            "type": "contour"
           }
          ],
          "contourcarpet": [
           {
            "colorbar": {
             "outlinewidth": 0,
             "ticks": ""
            },
            "type": "contourcarpet"
           }
          ],
          "heatmap": [
           {
            "colorbar": {
             "outlinewidth": 0,
             "ticks": ""
            },
            "colorscale": [
             [
              0,
              "#0d0887"
             ],
             [
              0.1111111111111111,
              "#46039f"
             ],
             [
              0.2222222222222222,
              "#7201a8"
             ],
             [
              0.3333333333333333,
              "#9c179e"
             ],
             [
              0.4444444444444444,
              "#bd3786"
             ],
             [
              0.5555555555555556,
              "#d8576b"
             ],
             [
              0.6666666666666666,
              "#ed7953"
             ],
             [
              0.7777777777777778,
              "#fb9f3a"
             ],
             [
              0.8888888888888888,
              "#fdca26"
             ],
             [
              1,
              "#f0f921"
             ]
            ],
            "type": "heatmap"
           }
          ],
          "heatmapgl": [
           {
            "colorbar": {
             "outlinewidth": 0,
             "ticks": ""
            },
            "colorscale": [
             [
              0,
              "#0d0887"
             ],
             [
              0.1111111111111111,
              "#46039f"
             ],
             [
              0.2222222222222222,
              "#7201a8"
             ],
             [
              0.3333333333333333,
              "#9c179e"
             ],
             [
              0.4444444444444444,
              "#bd3786"
             ],
             [
              0.5555555555555556,
              "#d8576b"
             ],
             [
              0.6666666666666666,
              "#ed7953"
             ],
             [
              0.7777777777777778,
              "#fb9f3a"
             ],
             [
              0.8888888888888888,
              "#fdca26"
             ],
             [
              1,
              "#f0f921"
             ]
            ],
            "type": "heatmapgl"
           }
          ],
          "histogram": [
           {
            "marker": {
             "pattern": {
              "fillmode": "overlay",
              "size": 10,
              "solidity": 0.2
             }
            },
            "type": "histogram"
           }
          ],
          "histogram2d": [
           {
            "colorbar": {
             "outlinewidth": 0,
             "ticks": ""
            },
            "colorscale": [
             [
              0,
              "#0d0887"
             ],
             [
              0.1111111111111111,
              "#46039f"
             ],
             [
              0.2222222222222222,
              "#7201a8"
             ],
             [
              0.3333333333333333,
              "#9c179e"
             ],
             [
              0.4444444444444444,
              "#bd3786"
             ],
             [
              0.5555555555555556,
              "#d8576b"
             ],
             [
              0.6666666666666666,
              "#ed7953"
             ],
             [
              0.7777777777777778,
              "#fb9f3a"
             ],
             [
              0.8888888888888888,
              "#fdca26"
             ],
             [
              1,
              "#f0f921"
             ]
            ],
            "type": "histogram2d"
           }
          ],
          "histogram2dcontour": [
           {
            "colorbar": {
             "outlinewidth": 0,
             "ticks": ""
            },
            "colorscale": [
             [
              0,
              "#0d0887"
             ],
             [
              0.1111111111111111,
              "#46039f"
             ],
             [
              0.2222222222222222,
              "#7201a8"
             ],
             [
              0.3333333333333333,
              "#9c179e"
             ],
             [
              0.4444444444444444,
              "#bd3786"
             ],
             [
              0.5555555555555556,
              "#d8576b"
             ],
             [
              0.6666666666666666,
              "#ed7953"
             ],
             [
              0.7777777777777778,
              "#fb9f3a"
             ],
             [
              0.8888888888888888,
              "#fdca26"
             ],
             [
              1,
              "#f0f921"
             ]
            ],
            "type": "histogram2dcontour"
           }
          ],
          "mesh3d": [
           {
            "colorbar": {
             "outlinewidth": 0,
             "ticks": ""
            },
            "type": "mesh3d"
           }
          ],
          "parcoords": [
           {
            "line": {
             "colorbar": {
              "outlinewidth": 0,
              "ticks": ""
             }
            },
            "type": "parcoords"
           }
          ],
          "pie": [
           {
            "automargin": true,
            "type": "pie"
           }
          ],
          "scatter": [
           {
            "fillpattern": {
             "fillmode": "overlay",
             "size": 10,
             "solidity": 0.2
            },
            "type": "scatter"
           }
          ],
          "scatter3d": [
           {
            "line": {
             "colorbar": {
              "outlinewidth": 0,
              "ticks": ""
             }
            },
            "marker": {
             "colorbar": {
              "outlinewidth": 0,
              "ticks": ""
             }
            },
            "type": "scatter3d"
           }
          ],
          "scattercarpet": [
           {
            "marker": {
             "colorbar": {
              "outlinewidth": 0,
              "ticks": ""
             }
            },
            "type": "scattercarpet"
           }
          ],
          "scattergeo": [
           {
            "marker": {
             "colorbar": {
              "outlinewidth": 0,
              "ticks": ""
             }
            },
            "type": "scattergeo"
           }
          ],
          "scattergl": [
           {
            "marker": {
             "colorbar": {
              "outlinewidth": 0,
              "ticks": ""
             }
            },
            "type": "scattergl"
           }
          ],
          "scattermapbox": [
           {
            "marker": {
             "colorbar": {
              "outlinewidth": 0,
              "ticks": ""
             }
            },
            "type": "scattermapbox"
           }
          ],
          "scatterpolar": [
           {
            "marker": {
             "colorbar": {
              "outlinewidth": 0,
              "ticks": ""
             }
            },
            "type": "scatterpolar"
           }
          ],
          "scatterpolargl": [
           {
            "marker": {
             "colorbar": {
              "outlinewidth": 0,
              "ticks": ""
             }
            },
            "type": "scatterpolargl"
           }
          ],
          "scatterternary": [
           {
            "marker": {
             "colorbar": {
              "outlinewidth": 0,
              "ticks": ""
             }
            },
            "type": "scatterternary"
           }
          ],
          "surface": [
           {
            "colorbar": {
             "outlinewidth": 0,
             "ticks": ""
            },
            "colorscale": [
             [
              0,
              "#0d0887"
             ],
             [
              0.1111111111111111,
              "#46039f"
             ],
             [
              0.2222222222222222,
              "#7201a8"
             ],
             [
              0.3333333333333333,
              "#9c179e"
             ],
             [
              0.4444444444444444,
              "#bd3786"
             ],
             [
              0.5555555555555556,
              "#d8576b"
             ],
             [
              0.6666666666666666,
              "#ed7953"
             ],
             [
              0.7777777777777778,
              "#fb9f3a"
             ],
             [
              0.8888888888888888,
              "#fdca26"
             ],
             [
              1,
              "#f0f921"
             ]
            ],
            "type": "surface"
           }
          ],
          "table": [
           {
            "cells": {
             "fill": {
              "color": "#EBF0F8"
             },
             "line": {
              "color": "white"
             }
            },
            "header": {
             "fill": {
              "color": "#C8D4E3"
             },
             "line": {
              "color": "white"
             }
            },
            "type": "table"
           }
          ]
         },
         "layout": {
          "annotationdefaults": {
           "arrowcolor": "#2a3f5f",
           "arrowhead": 0,
           "arrowwidth": 1
          },
          "autotypenumbers": "strict",
          "coloraxis": {
           "colorbar": {
            "outlinewidth": 0,
            "ticks": ""
           }
          },
          "colorscale": {
           "diverging": [
            [
             0,
             "#8e0152"
            ],
            [
             0.1,
             "#c51b7d"
            ],
            [
             0.2,
             "#de77ae"
            ],
            [
             0.3,
             "#f1b6da"
            ],
            [
             0.4,
             "#fde0ef"
            ],
            [
             0.5,
             "#f7f7f7"
            ],
            [
             0.6,
             "#e6f5d0"
            ],
            [
             0.7,
             "#b8e186"
            ],
            [
             0.8,
             "#7fbc41"
            ],
            [
             0.9,
             "#4d9221"
            ],
            [
             1,
             "#276419"
            ]
           ],
           "sequential": [
            [
             0,
             "#0d0887"
            ],
            [
             0.1111111111111111,
             "#46039f"
            ],
            [
             0.2222222222222222,
             "#7201a8"
            ],
            [
             0.3333333333333333,
             "#9c179e"
            ],
            [
             0.4444444444444444,
             "#bd3786"
            ],
            [
             0.5555555555555556,
             "#d8576b"
            ],
            [
             0.6666666666666666,
             "#ed7953"
            ],
            [
             0.7777777777777778,
             "#fb9f3a"
            ],
            [
             0.8888888888888888,
             "#fdca26"
            ],
            [
             1,
             "#f0f921"
            ]
           ],
           "sequentialminus": [
            [
             0,
             "#0d0887"
            ],
            [
             0.1111111111111111,
             "#46039f"
            ],
            [
             0.2222222222222222,
             "#7201a8"
            ],
            [
             0.3333333333333333,
             "#9c179e"
            ],
            [
             0.4444444444444444,
             "#bd3786"
            ],
            [
             0.5555555555555556,
             "#d8576b"
            ],
            [
             0.6666666666666666,
             "#ed7953"
            ],
            [
             0.7777777777777778,
             "#fb9f3a"
            ],
            [
             0.8888888888888888,
             "#fdca26"
            ],
            [
             1,
             "#f0f921"
            ]
           ]
          },
          "colorway": [
           "#636efa",
           "#EF553B",
           "#00cc96",
           "#ab63fa",
           "#FFA15A",
           "#19d3f3",
           "#FF6692",
           "#B6E880",
           "#FF97FF",
           "#FECB52"
          ],
          "font": {
           "color": "#2a3f5f"
          },
          "geo": {
           "bgcolor": "white",
           "lakecolor": "white",
           "landcolor": "#E5ECF6",
           "showlakes": true,
           "showland": true,
           "subunitcolor": "white"
          },
          "hoverlabel": {
           "align": "left"
          },
          "hovermode": "closest",
          "mapbox": {
           "style": "light"
          },
          "paper_bgcolor": "white",
          "plot_bgcolor": "#E5ECF6",
          "polar": {
           "angularaxis": {
            "gridcolor": "white",
            "linecolor": "white",
            "ticks": ""
           },
           "bgcolor": "#E5ECF6",
           "radialaxis": {
            "gridcolor": "white",
            "linecolor": "white",
            "ticks": ""
           }
          },
          "scene": {
           "xaxis": {
            "backgroundcolor": "#E5ECF6",
            "gridcolor": "white",
            "gridwidth": 2,
            "linecolor": "white",
            "showbackground": true,
            "ticks": "",
            "zerolinecolor": "white"
           },
           "yaxis": {
            "backgroundcolor": "#E5ECF6",
            "gridcolor": "white",
            "gridwidth": 2,
            "linecolor": "white",
            "showbackground": true,
            "ticks": "",
            "zerolinecolor": "white"
           },
           "zaxis": {
            "backgroundcolor": "#E5ECF6",
            "gridcolor": "white",
            "gridwidth": 2,
            "linecolor": "white",
            "showbackground": true,
            "ticks": "",
            "zerolinecolor": "white"
           }
          },
          "shapedefaults": {
           "line": {
            "color": "#2a3f5f"
           }
          },
          "ternary": {
           "aaxis": {
            "gridcolor": "white",
            "linecolor": "white",
            "ticks": ""
           },
           "baxis": {
            "gridcolor": "white",
            "linecolor": "white",
            "ticks": ""
           },
           "bgcolor": "#E5ECF6",
           "caxis": {
            "gridcolor": "white",
            "linecolor": "white",
            "ticks": ""
           }
          },
          "title": {
           "x": 0.05
          },
          "xaxis": {
           "automargin": true,
           "gridcolor": "white",
           "linecolor": "white",
           "ticks": "",
           "title": {
            "standoff": 15
           },
           "zerolinecolor": "white",
           "zerolinewidth": 2
          },
          "yaxis": {
           "automargin": true,
           "gridcolor": "white",
           "linecolor": "white",
           "ticks": "",
           "title": {
            "standoff": 15
           },
           "zerolinecolor": "white",
           "zerolinewidth": 2
          }
         }
        },
        "title": {
         "text": "Diagrama de influências DEMATEL"
        },
        "xaxis": {
         "anchor": "y",
         "domain": [
          0,
          1
         ],
         "showgrid": true,
         "title": {
          "text": "R + C  (importância)"
         }
        },
        "yaxis": {
         "anchor": "x",
         "domain": [
          0,
          1
         ],
         "showgrid": true,
         "title": {
          "text": "R − C  (efeito líquido)"
         }
        }
       }
      }
     },
     "metadata": {},
     "output_type": "display_data"
    }
   ],
   "source": []
  },
  {
   "cell_type": "markdown",
   "id": "1012ac60",
   "metadata": {},
   "source": [
    "# Classe Dematel"
   ]
  },
  {
   "cell_type": "code",
   "execution_count": null,
   "id": "6b2a79d4",
   "metadata": {},
   "outputs": [],
   "source": [
    "import networkx as nx\n",
    "\n",
    "class Dematel:\n",
    "    def __init__(\n",
    "        self,\n",
    "        factors: list[str],\n",
    "    ):\n",
    "        \"\"\"\n",
    "        Parameters\n",
    "        ----------\n",
    "        factors : list[str]\n",
    "            Lista de fatores que irão compor a matriz DEMATEL.\n",
    "        provider : {\"openai\", \"gemini\"}\n",
    "            Provedor de LLM; default vem de `DEFAULT_PROVIDER`.\n",
    "        api_key : str | None\n",
    "            Chave da API; se None, é lida das variáveis de ambiente.\n",
    "        model : str | None\n",
    "            Nome do modelo; se None, usa o default do provedor.\n",
    "        cache : dict | None\n",
    "            Cache opcional para evitar consultas repetidas à LLM.\n",
    "        \"\"\"\n",
    "        self.cache = cache or {}\n",
    "\n",
    "\n",
    "        # Atributos de domínio DEMATEL -------------------\n",
    "        self.factors = factors\n",
    "        self.n = len(factors)\n",
    "        self.A = np.zeros((self.n, self.n), dtype=float)\n",
    "\n",
    "        # --- Pipeline DEMATEL ---------------------------\n",
    "        self._build_direct_matrix()\n",
    "        self._dematel()\n",
    "        self.G = self._build_graph(numeric_filter=True)\n",
    "\n",
    "  \n",
    "    def _build_direct_matrix(self) -> None:\n",
    "        \n",
    "        for i, src in enumerate(self.factors):\n",
    "            for j, tgt in enumerate(self.factors):\n",
    "                if i == j: continue\n",
    "                self.A[i, j] = self._ask_llm(src, tgt)\n",
    "        \n",
    "        print('Matriz formada:', self.A)\n",
    "\n",
    "    # ---------- PASSO 2: normalização (M) e matriz de relação total (T) -----\n",
    "    def _dematel(self) -> None:\n",
    "        row_sums = self.A.sum(axis=1)\n",
    "        col_sums = self.A.sum(axis=0)\n",
    "        k = min(1/row_sums.max(), 1/col_sums.max())\n",
    "        self.M = self.A * k\n",
    "        self.T = self.M @ np.linalg.inv(np.eye(self.n) - self.M)\n",
    "        self.R = self.T.sum(axis=1)            # influência exercida\n",
    "        self.C = self.T.sum(axis=0)            # influência recebida\n",
    "        self.rc_sum = self.R + self.C\n",
    "        self.rc_diff= self.R - self.C\n",
    "\n",
    "    # ---------- util: garante que o grafo seja DAG -----------------\n",
    "    def _ensure_dag(self, G: nx.DiGraph) -> nx.DiGraph:\n",
    "        \"\"\"\n",
    "        Remove arestas até que o grafo fique acíclico.\n",
    "        Estratégia: enquanto houver ciclo, encontra um deles e\n",
    "        remove a aresta de menor peso no ciclo.\n",
    "        \"\"\"\n",
    "        G = G.copy()\n",
    "        try:\n",
    "            find_cycle = nx.find_cycle  # networkx ≥ 3\n",
    "        except AttributeError:\n",
    "            from networkx.algorithms.cycles import find_cycle  # retro‑compat\n",
    "\n",
    "        while True:\n",
    "            try:\n",
    "                cycle_edges = find_cycle(G, orientation=\"original\")\n",
    "            except nx.exception.NetworkXNoCycle:\n",
    "                break  # já é DAG\n",
    "            # menor peso dentro do ciclo\n",
    "            min_edge = min(\n",
    "                cycle_edges,\n",
    "                key=lambda e: G.get_edge_data(e[0], e[1]).get(\"weight\", 1)\n",
    "            )\n",
    "            G.remove_edge(*min_edge[:2])\n",
    "        return G\n",
    "\n",
    "    # ---------- util: layout hierárquico (top‑down) -----------------\n",
    "    def _hierarchical_pos(self, G: nx.DiGraph, layer_gap: float = 0.25) -> dict:\n",
    "        \"\"\"\n",
    "        Retorna um dicionário {nó: (x, y)} onde y decresce de 0 para -1\n",
    "        conforme a profundidade no DAG. Usado para plotar pais acima dos filhos.\n",
    "        \"\"\"\n",
    "        # nível (profundidade) de cada nó = distância máxima até uma raiz\n",
    "        roots = [n for n, d in G.in_degree() if d == 0] or list(G.nodes())\n",
    "        level = {root: 0 for root in roots}\n",
    "        for node in nx.topological_sort(G):\n",
    "            for child in G.successors(node):\n",
    "                level[child] = max(level.get(child, 0), level[node] + 1)\n",
    "\n",
    "        # nós por nível\n",
    "        max_level = max(level.values())\n",
    "        nodes_by_lvl = {l: [n for n, lv in level.items() if lv == l]\n",
    "                        for l in range(max_level + 1)}\n",
    "\n",
    "        pos = {}\n",
    "        for l, nodes in nodes_by_lvl.items():\n",
    "            # x espaçado uniformemente em cada nível\n",
    "            if len(nodes) == 1:\n",
    "                xs = [0.5]\n",
    "            else:\n",
    "                xs = np.linspace(0.1, 0.9, len(nodes))\n",
    "            y = -l * layer_gap\n",
    "            for x, n in zip(xs, nodes):\n",
    "                pos[n] = (x, y)\n",
    "        return pos\n",
    "\n",
    "    # ---------- PASSO 3: constrói grafo usando threshold --------------------\n",
    "    def _build_graph(self,\n",
    "                 threshold: float | None = None,\n",
    "                 include_weights: bool = True,\n",
    "                 enforce_dag: bool = True,\n",
    "                 numeric_filter: bool = False) -> nx.DiGraph:\n",
    "        if threshold is None:\n",
    "            threshold = self.T.mean()          # heurística simples\n",
    "        G = nx.DiGraph()\n",
    "        G.add_nodes_from(self.factors)\n",
    "        # --- Filtro DEMATEL numérico opcional ---------------------------\n",
    "        if numeric_filter:\n",
    "            prom_threshold = np.percentile(self.rc_sum, 50)\n",
    "            # mantém arestas cujo peso esteja acima de (μ + 0.5·σ)\n",
    "            edge_threshold = self.T.mean() + 0.5 * self.T.std()\n",
    "        else:\n",
    "            prom_threshold = None\n",
    "            edge_threshold = None\n",
    "            \n",
    "            \n",
    "        for i, j in itertools.product(range(self.n), repeat=2):\n",
    "            if i == j:\n",
    "                continue\n",
    "            if self.T[i, j] <= threshold:\n",
    "                continue\n",
    "            if numeric_filter:\n",
    "                # só mantém se nó de origem é proeminente E peso é alto\n",
    "                if not (self.rc_sum[i] > prom_threshold and self.T[i, j] > edge_threshold):\n",
    "                    continue\n",
    "            # passou em todos os filtros → adiciona aresta\n",
    "            w = round(self.T[i, j], 3) if include_weights else 1\n",
    "            G.add_edge(self.factors[i], self.factors[j], weight=w)\n",
    "        if enforce_dag:\n",
    "            G = self._ensure_dag(G)\n",
    "        return G\n",
    "\n",
    "    # ---------- PASSO 4: plota em plotly express ----------------------------\n",
    "    def plot(\n",
    "        self,\n",
    "        node_size_scale: float = 50.0,\n",
    "        edge_width_scale: float = 3.0,\n",
    "        title: str | None = None,\n",
    "        hierarchical: bool = True,\n",
    "    ):\n",
    "        if hierarchical:\n",
    "            pos = self._hierarchical_pos(self.G)\n",
    "        else:\n",
    "            pos = nx.spring_layout(self.G, seed=42)\n",
    "        nx.set_node_attributes(self.G, pos, \"pos\")\n",
    "\n",
    "        # -----------------------------------------\n",
    "        # DataFrame de nós\n",
    "        node_df = pd.DataFrame(\n",
    "            {\n",
    "                \"factor\": list(self.G.nodes()),\n",
    "                \"x\": [pos[n][0] for n in self.G.nodes()],\n",
    "                \"y\": [pos[n][1] for n in self.G.nodes()],\n",
    "                \"RC_sum\": self.rc_sum,\n",
    "                \"RC_diff\": self.rc_diff,\n",
    "            }\n",
    "        )\n",
    "\n",
    "        fig = go.Figure()\n",
    "\n",
    "        # -----------------------------------------\n",
    "        # 1) Relações bidirecionais → linha vermelha sem seta\n",
    "        drawn_pairs = set()\n",
    "        for u, v in self.G.edges():\n",
    "            if (v, u) in self.G.edges() and (v, u) not in drawn_pairs:\n",
    "                fig.add_trace(\n",
    "                    go.Scatter(\n",
    "                        x=[pos[u][0], pos[v][0]],\n",
    "                        y=[pos[u][1], pos[v][1]],\n",
    "                        mode=\"lines\",\n",
    "                        line=dict(width=edge_width_scale, color=\"red\"),\n",
    "                        hoverinfo=\"none\",\n",
    "                        showlegend=False,\n",
    "                    )\n",
    "                )\n",
    "                drawn_pairs.add((u, v))\n",
    "                drawn_pairs.add((v, u))\n",
    "\n",
    "        # -----------------------------------------\n",
    "        # 2) Relações unilaterais → seta preta\n",
    "        bbox = {}  # guarda meio-largura e meio-altura de cada nó\n",
    "        # shapes e textos também usam bbox, então preenche junto com shapes/textos\n",
    "        shapes = []\n",
    "        text_traces = []\n",
    "        for _, row in node_df.iterrows():\n",
    "            txt = row[\"factor\"]\n",
    "            x, y = row[\"x\"], row[\"y\"]\n",
    "\n",
    "            # --- dimensões com padding generoso ---\n",
    "            txt_len = len(txt)\n",
    "            pad = 0.02\n",
    "            w = 0.01 + txt_len * 0.008 + pad   # largura\n",
    "            h = 0.1 + pad                     # altura\n",
    "            bbox[txt] = (w / 2, h / 2)\n",
    "\n",
    "            shapes.append(\n",
    "                dict(\n",
    "                    type=\"rect\",\n",
    "                    x0=x - w / 2,\n",
    "                    x1=x + w / 2,\n",
    "                    y0=y - h / 2,\n",
    "                    y1=y + h / 2,\n",
    "                    line=dict(color=\"rgba(60,60,60,0.9)\", width=1.5),\n",
    "                    fillcolor=\"rgba(52,152,219,0.85)\",  # azul mais vibrante\n",
    "                    layer=\"below\",\n",
    "                )\n",
    "            )\n",
    "\n",
    "            text_traces.append(\n",
    "                go.Scatter(\n",
    "                    x=[x],\n",
    "                    y=[y],\n",
    "                    text=[txt],\n",
    "                    mode=\"text\",\n",
    "                    textfont=dict(color=\"white\", size=14, family=\"Arial\"),\n",
    "                    hoverinfo=\"skip\",\n",
    "                    showlegend=False,\n",
    "                )\n",
    "            )\n",
    "\n",
    "        for u, v, d in self.G.edges(data=True):\n",
    "            if (v, u) in self.G.edges():  # já tratada como bidirecional\n",
    "                continue\n",
    "            w = d.get(\"weight\", 1)\n",
    "            # vetores direção\n",
    "            ux, uy = pos[u]\n",
    "            vx, vy = pos[v]\n",
    "            dx, dy = vx - ux, vy - uy\n",
    "            # desloca saída até borda do retângulo de origem\n",
    "            hw_u, hh_u = bbox[u]\n",
    "            sx = hw_u / abs(dx) if dx else float(\"inf\")\n",
    "            sy = hh_u / abs(dy) if dy else float(\"inf\")\n",
    "            t_u = min(sx, sy, 1)  # escalonamento máximo 1\n",
    "            ox = ux + dx * t_u\n",
    "            oy = uy + dy * t_u\n",
    "            # desloca ponto de chegada até borda do retângulo de destino\n",
    "            hw_v, hh_v = bbox[v]\n",
    "            scale_x = hw_v / abs(dx) if dx else float(\"inf\")\n",
    "            scale_y = hh_v / abs(dy) if dy else float(\"inf\")\n",
    "            t_v = min(scale_x, scale_y) - 0.01  # -0.01 para garantir fora\n",
    "            tx = vx - dx * t_v\n",
    "            ty = vy - dy * t_v\n",
    "\n",
    "            fig.add_trace(\n",
    "                go.Scatter(\n",
    "                    x=[ox, tx],\n",
    "                    y=[oy, ty],\n",
    "                    mode=\"lines\",\n",
    "                    line=dict(width=w * edge_width_scale, color=\"black\"),\n",
    "                    hoverinfo=\"none\",\n",
    "                    showlegend=False,\n",
    "                )\n",
    "            )\n",
    "            fig.add_annotation(\n",
    "                x=tx,\n",
    "                y=ty,\n",
    "                ax=ox,\n",
    "                ay=oy,\n",
    "                xref=\"x\",\n",
    "                yref=\"y\",\n",
    "                axref=\"x\",\n",
    "                ayref=\"y\",\n",
    "                showarrow=True,\n",
    "                arrowhead=3,\n",
    "                arrowsize=2.5,\n",
    "                arrowwidth=w * edge_width_scale,\n",
    "                arrowcolor=\"black\",\n",
    "            )\n",
    "\n",
    "        # -----------------------------------------\n",
    "        # 3) Nós como retângulos azuis (shapes/texts já preenchidos acima)\n",
    "        # adiciona os textos ao gráfico\n",
    "        for tr in text_traces:\n",
    "            fig.add_trace(tr)\n",
    "        # adicionar os shapes\n",
    "        fig.update_layout(shapes=shapes)\n",
    "\n",
    "        fig.update_layout(\n",
    "            showlegend=False,\n",
    "            title=title or \"Topologia DEMATEL‑LLM (DAG)\",\n",
    "            plot_bgcolor=\"#f7f9fc\",\n",
    "        )\n",
    "        fig.update_xaxes(visible=False)\n",
    "        fig.update_yaxes(visible=False)\n",
    "        fig.show()\n",
    "\n",
    "\n",
    "\n",
    "def plot_influence_diagram(self, title=\"Diagrama de influências DEMATEL\"):\n",
    "    \"\"\"\n",
    "    Scatter (R+C  vs  R−C) com tamanho proporcional a R+C.\n",
    "    R + C  → importância/prominence\n",
    "    R − C  → tipo:\n",
    "        positivo  → fator mais causador\n",
    "        negativo → fator mais resultante\n",
    "    \"\"\"\n",
    "\n",
    "    x = self.rc_sum            # Prominence\n",
    "    y = self.rc_diff           # Net effect\n",
    "    sizes = (x - x.min()) / (x.max() - x.min() + 1e-9) * 2000 + 300\n",
    "\n",
    "    # Prepara os dados para o plot\n",
    "    df = pd.DataFrame({\n",
    "        \"R_plus_C\": x,\n",
    "        \"R_minus_C\": y,\n",
    "        \"Factor\": self.factors,\n",
    "        \"Size\": sizes\n",
    "    })\n",
    "\n",
    "    # Formata o texto dos rótulos para múltiplas linhas se necessário\n",
    "    def format_label(label):\n",
    "        max_char = 1000\n",
    "        return label if len(label) < max_char else \"\\n\".join([label[i:i+max_char] for i in range(0, len(label), max_char)])\n",
    "    df[\"Formatted_Factor\"] = df[\"Factor\"].apply(format_label)\n",
    "\n",
    "    fig = px.scatter(\n",
    "        df,\n",
    "        x=\"R_plus_C\",\n",
    "        y=\"R_minus_C\",\n",
    "        size=\"Size\",\n",
    "        text=\"Formatted_Factor\",\n",
    "        title=title,\n",
    "        labels={\"R_plus_C\": \"R + C  (importância)\", \"R_minus_C\": \"R − C  (efeito líquido)\"},\n",
    "        size_max=60\n",
    "    )\n",
    "    fig.update_traces(textposition=\"middle center\")\n",
    "    \n",
    "    # Adiciona linhas de referência em x=0 e y=0\n",
    "    fig.add_vline(x=0, line_width=1, line_color=\"gray\")\n",
    "    fig.add_hline(y=0, line_width=1, line_color=\"gray\")\n",
    "    \n",
    "    fig.update_traces(textposition='middle center')\n",
    "    fig.update_layout(\n",
    "        xaxis=dict(showgrid=True),\n",
    "        yaxis=dict(showgrid=True)\n",
    "    )\n",
    "\n",
    "    \n",
    "    fig.show()\n",
    "\n",
    "# --- use dentro da classe ---\n",
    "Dematel.plot_influence_diagram = plot_influence_diagram\n",
    "# ------------------ EXEMPLO DE USO ------------------------------------------"
   ]
  },
  {
   "cell_type": "code",
   "execution_count": null,
   "id": "ccb471a9",
   "metadata": {},
   "outputs": [],
   "source": []
  }
 ],
 "metadata": {
  "kernelspec": {
   "display_name": "Python 3",
   "language": "python",
   "name": "python3"
  },
  "language_info": {
   "codemirror_mode": {
    "name": "ipython",
    "version": 3
   },
   "file_extension": ".py",
   "mimetype": "text/x-python",
   "name": "python",
   "nbconvert_exporter": "python",
   "pygments_lexer": "ipython3",
   "version": "3.12.1"
  }
 },
 "nbformat": 4,
 "nbformat_minor": 5
}
