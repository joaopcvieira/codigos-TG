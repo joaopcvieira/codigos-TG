{
 "cells": [
  {
   "cell_type": "code",
   "execution_count": 51,
   "metadata": {},
   "outputs": [
    {
     "name": "stdout",
     "output_type": "stream",
     "text": [
      "Dataset ASIA:\n",
      "   asia  tub  smoke  lung  bronc  either  xray  dysp\n",
      "0     1    1      0     1      1       1     1     1\n",
      "1     1    1      1     1      0       1     1     1\n",
      "2     1    1      1     1      0       1     1     1\n",
      "3     1    1      1     1      1       1     1     1\n",
      "4     1    1      1     1      1       1     1     1\n"
     ]
    },
    {
     "data": {
      "application/vnd.jupyter.widget-view+json": {
       "model_id": "2bc362b496df42eb9215d1708aa78fc6",
       "version_major": 2,
       "version_minor": 0
      },
      "text/plain": [
       "  0%|          | 0/1000000 [00:00<?, ?it/s]"
      ]
     },
     "metadata": {},
     "output_type": "display_data"
    },
    {
     "name": "stderr",
     "output_type": "stream",
     "text": [
      "25-03-25 14:04:49 [pgmpy            ]> WARNING > BayesianModel has been renamed to BayesianNetwork. Please use BayesianNetwork class, BayesianModel will be removed in future.\n"
     ]
    },
    {
     "name": "stdout",
     "output_type": "stream",
     "text": [
      "Arestas aprendidas: [('asia', 'tub'), ('tub', 'either'), ('tub', 'bronc'), ('lung', 'either'), ('lung', 'smoke'), ('bronc', 'smoke'), ('bronc', 'dysp'), ('either', 'xray'), ('either', 'dysp'), ('either', 'bronc')]\n",
      "\n",
      "Estrutura da rede aprendida (arestas):\n",
      "[('asia', 'tub'), ('tub', 'either'), ('tub', 'bronc'), ('lung', 'either'), ('lung', 'smoke'), ('bronc', 'smoke'), ('bronc', 'dysp'), ('either', 'xray'), ('either', 'dysp'), ('either', 'bronc')]\n",
      "\n",
      "CPDs da rede:\n",
      "+---------+--------+\n",
      "| asia(0) | 0.0089 |\n",
      "+---------+--------+\n",
      "| asia(1) | 0.9911 |\n",
      "+---------+--------+ \n",
      "\n",
      "+--------+----------------------+----------------------+\n",
      "| asia   | asia(0)              | asia(1)              |\n",
      "+--------+----------------------+----------------------+\n",
      "| tub(0) | 0.056179775280898875 | 0.011098779134295227 |\n",
      "+--------+----------------------+----------------------+\n",
      "| tub(1) | 0.9438202247191011   | 0.9889012208657048   |\n",
      "+--------+----------------------+----------------------+ \n",
      "\n",
      "+-----------+---------+---------+---------+---------+\n",
      "| lung      | lung(0) | lung(0) | lung(1) | lung(1) |\n",
      "+-----------+---------+---------+---------+---------+\n",
      "| tub       | tub(0)  | tub(1)  | tub(0)  | tub(1)  |\n",
      "+-----------+---------+---------+---------+---------+\n",
      "| either(0) | 1.0     | 1.0     | 1.0     | 0.0     |\n",
      "+-----------+---------+---------+---------+---------+\n",
      "| either(1) | 0.0     | 0.0     | 0.0     | 1.0     |\n",
      "+-----------+---------+---------+---------+---------+ \n",
      "\n",
      "+----------+---------------------+-----+-----------+--------------------+\n",
      "| either   | either(0)           | ... | either(1) | either(1)          |\n",
      "+----------+---------------------+-----+-----------+--------------------+\n",
      "| tub      | tub(0)              | ... | tub(0)    | tub(1)             |\n",
      "+----------+---------------------+-----+-----------+--------------------+\n",
      "| bronc(0) | 0.40869565217391307 | ... | 0.5       | 0.4642205771912885 |\n",
      "+----------+---------------------+-----+-----------+--------------------+\n",
      "| bronc(1) | 0.591304347826087   | ... | 0.5       | 0.5357794228087115 |\n",
      "+----------+---------------------+-----+-----------+--------------------+ \n",
      "\n",
      "+---------+--------+\n",
      "| lung(0) | 0.0573 |\n",
      "+---------+--------+\n",
      "| lung(1) | 0.9427 |\n",
      "+---------+--------+ \n",
      "\n",
      "+----------+----------------------+-----+---------------------+\n",
      "| bronc    | bronc(0)             | ... | bronc(1)            |\n",
      "+----------+----------------------+-----+---------------------+\n",
      "| lung     | lung(0)              | ... | lung(1)             |\n",
      "+----------+----------------------+-----+---------------------+\n",
      "| smoke(0) | 0.945619335347432    | ... | 0.33860759493670883 |\n",
      "+----------+----------------------+-----+---------------------+\n",
      "| smoke(1) | 0.054380664652567974 | ... | 0.6613924050632911  |\n",
      "+----------+----------------------+-----+---------------------+ \n",
      "\n",
      "+---------+---------------------+-----+---------------------+\n",
      "| bronc   | bronc(0)            | ... | bronc(1)            |\n",
      "+---------+---------------------+-----+---------------------+\n",
      "| either  | either(0)           | ... | either(1)           |\n",
      "+---------+---------------------+-----+---------------------+\n",
      "| dysp(0) | 0.9013333333333333  | ... | 0.10092110532639167 |\n",
      "+---------+---------------------+-----+---------------------+\n",
      "| dysp(1) | 0.09866666666666667 | ... | 0.8990788946736084  |\n",
      "+---------+---------------------+-----+---------------------+ \n",
      "\n",
      "+---------+----------------------+---------------------+\n",
      "| either  | either(0)            | either(1)           |\n",
      "+---------+----------------------+---------------------+\n",
      "| xray(0) | 0.9779086892488954   | 0.05031648964703358 |\n",
      "+---------+----------------------+---------------------+\n",
      "| xray(1) | 0.022091310751104567 | 0.9496835103529664  |\n",
      "+---------+----------------------+---------------------+ \n",
      "\n"
     ]
    }
   ],
   "source": [
    "# Importar bibliotecas necessárias\n",
    "import pandas as pd\n",
    "import numpy as np\n",
    "import matplotlib.pyplot as plt\n",
    "import networkx as nx\n",
    "\n",
    "# Para estrutura de rede e aprendizado dos parâmetros\n",
    "from pgmpy.estimators import HillClimbSearch, BDeuScore, MaximumLikelihoodEstimator\n",
    "from pgmpy.models import BayesianModel\n",
    "from pgmpy.inference import VariableElimination\n",
    "\n",
    "# Exemplo: Carregar o dataset \"asia\"\n",
    "import bnlearn as bn\n",
    "data = bn.import_example('asia')\n",
    "\n",
    "\n",
    "# Visualizar as primeiras linhas do dataset\n",
    "print(\"Dataset ASIA:\")\n",
    "print(data.head())\n",
    "\n",
    "from pgmpy.estimators import HillClimbSearch, K2Score\n",
    "\n",
    "hc = HillClimbSearch(data)\n",
    "best_model = hc.estimate(scoring_method=K2Score(data))\n",
    "print(\"Arestas aprendidas:\", best_model.edges())\n",
    "\n",
    "print(\"\\nEstrutura da rede aprendida (arestas):\")\n",
    "print(best_model.edges())\n",
    "\n",
    "# Criar o modelo bayesiano com base na estrutura aprendida\n",
    "model = BayesianModel(best_model.edges())\n",
    "\n",
    "# Aprender os CPDs (tabelas de probabilidades condicionais) com estimador de máxima verossimilhança\n",
    "model.fit(data, estimator=MaximumLikelihoodEstimator)\n",
    "\n",
    "print(\"\\nCPDs da rede:\")\n",
    "for cpd in model.get_cpds():\n",
    "    print(cpd, \"\\n\")\n"
   ]
  },
  {
   "cell_type": "code",
   "execution_count": 52,
   "metadata": {},
   "outputs": [
    {
     "name": "stdout",
     "output_type": "stream",
     "text": [
      "Nodos do modelo: ['asia', 'tub', 'either', 'bronc', 'lung', 'smoke', 'dysp', 'xray']\n",
      "Arestas do modelo: [('asia', 'tub'), ('tub', 'either'), ('tub', 'bronc'), ('either', 'xray'), ('either', 'dysp'), ('either', 'bronc'), ('bronc', 'smoke'), ('bronc', 'dysp'), ('lung', 'either'), ('lung', 'smoke')]\n"
     ]
    }
   ],
   "source": [
    "print(\"Nodos do modelo:\", model.nodes())\n",
    "print(\"Arestas do modelo:\", model.edges())"
   ]
  },
  {
   "cell_type": "code",
   "execution_count": 66,
   "metadata": {},
   "outputs": [
    {
     "data": {
      "application/vnd.plotly.v1+json": {
       "config": {
        "plotlyServerURL": "https://plot.ly"
       },
       "data": [
        {
         "hoverinfo": "none",
         "line": {
          "color": "#888",
          "width": 2
         },
         "mode": "lines",
         "type": "scatter",
         "x": [
          -0.11671082990758254,
          -0.07008227703111404,
          null,
          -0.07008227703111404,
          -0.3053913945240272,
          null,
          -0.07008227703111404,
          0.15184924147098414,
          null,
          -0.3053913945240272,
          -0.30878717890662793,
          null,
          -0.3053913945240272,
          -0.7021116657855097,
          null,
          -0.3053913945240272,
          0.15184924147098414,
          null,
          0.15184924147098414,
          1,
          null,
          0.15184924147098414,
          -0.7021116657855097,
          null,
          0.3512341046838773,
          -0.3053913945240272,
          null,
          0.3512341046838773,
          1,
          null
         ],
         "y": [
          -0.16268937372154954,
          -0.03744141267597672,
          null,
          -0.03744141267597672,
          0.032375766023552584,
          null,
          -0.03744141267597672,
          -0.14317241740610928,
          null,
          0.032375766023552584,
          0.5472574103887865,
          null,
          0.032375766023552584,
          -0.3166685776777156,
          null,
          0.032375766023552584,
          -0.14317241740610928,
          null,
          -0.14317241740610928,
          0.04052558561435137,
          null,
          -0.14317241740610928,
          -0.3166685776777156,
          null,
          0.03981301945466065,
          0.032375766023552584,
          null,
          0.03981301945466065,
          0.04052558561435137,
          null
         ]
        },
        {
         "hoverinfo": "text",
         "marker": {
          "color": "lightblue",
          "line": {
           "width": 2
          },
          "size": 20
         },
         "mode": "markers+text",
         "text": [
          "asia\n1% | 99%",
          "tub\n6% | 1%\n94% | 99%",
          "either\n100% | 100%\n100% | 0%\n0% | 0%\n0% | 100%",
          "bronc\n41% | 58%\n50% | 46%\n59% | 42%\n50% | 54%",
          "lung\n6% | 94%",
          "smoke\n95% | 66%\n81% | 34%\n5% | 34%\n19% | 66%",
          "dysp\n90% | 79%\n71% | 10%\n10% | 21%\n29% | 90%",
          "xray\n98% | 5%\n2% | 95%"
         ],
         "textposition": "bottom center",
         "type": "scatter",
         "x": [
          -0.11671082990758254,
          -0.07008227703111404,
          -0.3053913945240272,
          0.15184924147098414,
          0.3512341046838773,
          1,
          -0.7021116657855097,
          -0.30878717890662793
         ],
         "y": [
          -0.16268937372154954,
          -0.03744141267597672,
          0.032375766023552584,
          -0.14317241740610928,
          0.03981301945466065,
          0.04052558561435137,
          -0.3166685776777156,
          0.5472574103887865
         ]
        }
       ],
       "layout": {
        "hovermode": "closest",
        "margin": {
         "b": 20,
         "l": 5,
         "r": 5,
         "t": 40
        },
        "showlegend": false,
        "template": {
         "data": {
          "bar": [
           {
            "error_x": {
             "color": "#2a3f5f"
            },
            "error_y": {
             "color": "#2a3f5f"
            },
            "marker": {
             "line": {
              "color": "#E5ECF6",
              "width": 0.5
             },
             "pattern": {
              "fillmode": "overlay",
              "size": 10,
              "solidity": 0.2
             }
            },
            "type": "bar"
           }
          ],
          "barpolar": [
           {
            "marker": {
             "line": {
              "color": "#E5ECF6",
              "width": 0.5
             },
             "pattern": {
              "fillmode": "overlay",
              "size": 10,
              "solidity": 0.2
             }
            },
            "type": "barpolar"
           }
          ],
          "carpet": [
           {
            "aaxis": {
             "endlinecolor": "#2a3f5f",
             "gridcolor": "white",
             "linecolor": "white",
             "minorgridcolor": "white",
             "startlinecolor": "#2a3f5f"
            },
            "baxis": {
             "endlinecolor": "#2a3f5f",
             "gridcolor": "white",
             "linecolor": "white",
             "minorgridcolor": "white",
             "startlinecolor": "#2a3f5f"
            },
            "type": "carpet"
           }
          ],
          "choropleth": [
           {
            "colorbar": {
             "outlinewidth": 0,
             "ticks": ""
            },
            "type": "choropleth"
           }
          ],
          "contour": [
           {
            "colorbar": {
             "outlinewidth": 0,
             "ticks": ""
            },
            "colorscale": [
             [
              0,
              "#0d0887"
             ],
             [
              0.1111111111111111,
              "#46039f"
             ],
             [
              0.2222222222222222,
              "#7201a8"
             ],
             [
              0.3333333333333333,
              "#9c179e"
             ],
             [
              0.4444444444444444,
              "#bd3786"
             ],
             [
              0.5555555555555556,
              "#d8576b"
             ],
             [
              0.6666666666666666,
              "#ed7953"
             ],
             [
              0.7777777777777778,
              "#fb9f3a"
             ],
             [
              0.8888888888888888,
              "#fdca26"
             ],
             [
              1,
              "#f0f921"
             ]
            ],
            "type": "contour"
           }
          ],
          "contourcarpet": [
           {
            "colorbar": {
             "outlinewidth": 0,
             "ticks": ""
            },
            "type": "contourcarpet"
           }
          ],
          "heatmap": [
           {
            "colorbar": {
             "outlinewidth": 0,
             "ticks": ""
            },
            "colorscale": [
             [
              0,
              "#0d0887"
             ],
             [
              0.1111111111111111,
              "#46039f"
             ],
             [
              0.2222222222222222,
              "#7201a8"
             ],
             [
              0.3333333333333333,
              "#9c179e"
             ],
             [
              0.4444444444444444,
              "#bd3786"
             ],
             [
              0.5555555555555556,
              "#d8576b"
             ],
             [
              0.6666666666666666,
              "#ed7953"
             ],
             [
              0.7777777777777778,
              "#fb9f3a"
             ],
             [
              0.8888888888888888,
              "#fdca26"
             ],
             [
              1,
              "#f0f921"
             ]
            ],
            "type": "heatmap"
           }
          ],
          "heatmapgl": [
           {
            "colorbar": {
             "outlinewidth": 0,
             "ticks": ""
            },
            "colorscale": [
             [
              0,
              "#0d0887"
             ],
             [
              0.1111111111111111,
              "#46039f"
             ],
             [
              0.2222222222222222,
              "#7201a8"
             ],
             [
              0.3333333333333333,
              "#9c179e"
             ],
             [
              0.4444444444444444,
              "#bd3786"
             ],
             [
              0.5555555555555556,
              "#d8576b"
             ],
             [
              0.6666666666666666,
              "#ed7953"
             ],
             [
              0.7777777777777778,
              "#fb9f3a"
             ],
             [
              0.8888888888888888,
              "#fdca26"
             ],
             [
              1,
              "#f0f921"
             ]
            ],
            "type": "heatmapgl"
           }
          ],
          "histogram": [
           {
            "marker": {
             "pattern": {
              "fillmode": "overlay",
              "size": 10,
              "solidity": 0.2
             }
            },
            "type": "histogram"
           }
          ],
          "histogram2d": [
           {
            "colorbar": {
             "outlinewidth": 0,
             "ticks": ""
            },
            "colorscale": [
             [
              0,
              "#0d0887"
             ],
             [
              0.1111111111111111,
              "#46039f"
             ],
             [
              0.2222222222222222,
              "#7201a8"
             ],
             [
              0.3333333333333333,
              "#9c179e"
             ],
             [
              0.4444444444444444,
              "#bd3786"
             ],
             [
              0.5555555555555556,
              "#d8576b"
             ],
             [
              0.6666666666666666,
              "#ed7953"
             ],
             [
              0.7777777777777778,
              "#fb9f3a"
             ],
             [
              0.8888888888888888,
              "#fdca26"
             ],
             [
              1,
              "#f0f921"
             ]
            ],
            "type": "histogram2d"
           }
          ],
          "histogram2dcontour": [
           {
            "colorbar": {
             "outlinewidth": 0,
             "ticks": ""
            },
            "colorscale": [
             [
              0,
              "#0d0887"
             ],
             [
              0.1111111111111111,
              "#46039f"
             ],
             [
              0.2222222222222222,
              "#7201a8"
             ],
             [
              0.3333333333333333,
              "#9c179e"
             ],
             [
              0.4444444444444444,
              "#bd3786"
             ],
             [
              0.5555555555555556,
              "#d8576b"
             ],
             [
              0.6666666666666666,
              "#ed7953"
             ],
             [
              0.7777777777777778,
              "#fb9f3a"
             ],
             [
              0.8888888888888888,
              "#fdca26"
             ],
             [
              1,
              "#f0f921"
             ]
            ],
            "type": "histogram2dcontour"
           }
          ],
          "mesh3d": [
           {
            "colorbar": {
             "outlinewidth": 0,
             "ticks": ""
            },
            "type": "mesh3d"
           }
          ],
          "parcoords": [
           {
            "line": {
             "colorbar": {
              "outlinewidth": 0,
              "ticks": ""
             }
            },
            "type": "parcoords"
           }
          ],
          "pie": [
           {
            "automargin": true,
            "type": "pie"
           }
          ],
          "scatter": [
           {
            "fillpattern": {
             "fillmode": "overlay",
             "size": 10,
             "solidity": 0.2
            },
            "type": "scatter"
           }
          ],
          "scatter3d": [
           {
            "line": {
             "colorbar": {
              "outlinewidth": 0,
              "ticks": ""
             }
            },
            "marker": {
             "colorbar": {
              "outlinewidth": 0,
              "ticks": ""
             }
            },
            "type": "scatter3d"
           }
          ],
          "scattercarpet": [
           {
            "marker": {
             "colorbar": {
              "outlinewidth": 0,
              "ticks": ""
             }
            },
            "type": "scattercarpet"
           }
          ],
          "scattergeo": [
           {
            "marker": {
             "colorbar": {
              "outlinewidth": 0,
              "ticks": ""
             }
            },
            "type": "scattergeo"
           }
          ],
          "scattergl": [
           {
            "marker": {
             "colorbar": {
              "outlinewidth": 0,
              "ticks": ""
             }
            },
            "type": "scattergl"
           }
          ],
          "scattermapbox": [
           {
            "marker": {
             "colorbar": {
              "outlinewidth": 0,
              "ticks": ""
             }
            },
            "type": "scattermapbox"
           }
          ],
          "scatterpolar": [
           {
            "marker": {
             "colorbar": {
              "outlinewidth": 0,
              "ticks": ""
             }
            },
            "type": "scatterpolar"
           }
          ],
          "scatterpolargl": [
           {
            "marker": {
             "colorbar": {
              "outlinewidth": 0,
              "ticks": ""
             }
            },
            "type": "scatterpolargl"
           }
          ],
          "scatterternary": [
           {
            "marker": {
             "colorbar": {
              "outlinewidth": 0,
              "ticks": ""
             }
            },
            "type": "scatterternary"
           }
          ],
          "surface": [
           {
            "colorbar": {
             "outlinewidth": 0,
             "ticks": ""
            },
            "colorscale": [
             [
              0,
              "#0d0887"
             ],
             [
              0.1111111111111111,
              "#46039f"
             ],
             [
              0.2222222222222222,
              "#7201a8"
             ],
             [
              0.3333333333333333,
              "#9c179e"
             ],
             [
              0.4444444444444444,
              "#bd3786"
             ],
             [
              0.5555555555555556,
              "#d8576b"
             ],
             [
              0.6666666666666666,
              "#ed7953"
             ],
             [
              0.7777777777777778,
              "#fb9f3a"
             ],
             [
              0.8888888888888888,
              "#fdca26"
             ],
             [
              1,
              "#f0f921"
             ]
            ],
            "type": "surface"
           }
          ],
          "table": [
           {
            "cells": {
             "fill": {
              "color": "#EBF0F8"
             },
             "line": {
              "color": "white"
             }
            },
            "header": {
             "fill": {
              "color": "#C8D4E3"
             },
             "line": {
              "color": "white"
             }
            },
            "type": "table"
           }
          ]
         },
         "layout": {
          "annotationdefaults": {
           "arrowcolor": "#2a3f5f",
           "arrowhead": 0,
           "arrowwidth": 1
          },
          "autotypenumbers": "strict",
          "coloraxis": {
           "colorbar": {
            "outlinewidth": 0,
            "ticks": ""
           }
          },
          "colorscale": {
           "diverging": [
            [
             0,
             "#8e0152"
            ],
            [
             0.1,
             "#c51b7d"
            ],
            [
             0.2,
             "#de77ae"
            ],
            [
             0.3,
             "#f1b6da"
            ],
            [
             0.4,
             "#fde0ef"
            ],
            [
             0.5,
             "#f7f7f7"
            ],
            [
             0.6,
             "#e6f5d0"
            ],
            [
             0.7,
             "#b8e186"
            ],
            [
             0.8,
             "#7fbc41"
            ],
            [
             0.9,
             "#4d9221"
            ],
            [
             1,
             "#276419"
            ]
           ],
           "sequential": [
            [
             0,
             "#0d0887"
            ],
            [
             0.1111111111111111,
             "#46039f"
            ],
            [
             0.2222222222222222,
             "#7201a8"
            ],
            [
             0.3333333333333333,
             "#9c179e"
            ],
            [
             0.4444444444444444,
             "#bd3786"
            ],
            [
             0.5555555555555556,
             "#d8576b"
            ],
            [
             0.6666666666666666,
             "#ed7953"
            ],
            [
             0.7777777777777778,
             "#fb9f3a"
            ],
            [
             0.8888888888888888,
             "#fdca26"
            ],
            [
             1,
             "#f0f921"
            ]
           ],
           "sequentialminus": [
            [
             0,
             "#0d0887"
            ],
            [
             0.1111111111111111,
             "#46039f"
            ],
            [
             0.2222222222222222,
             "#7201a8"
            ],
            [
             0.3333333333333333,
             "#9c179e"
            ],
            [
             0.4444444444444444,
             "#bd3786"
            ],
            [
             0.5555555555555556,
             "#d8576b"
            ],
            [
             0.6666666666666666,
             "#ed7953"
            ],
            [
             0.7777777777777778,
             "#fb9f3a"
            ],
            [
             0.8888888888888888,
             "#fdca26"
            ],
            [
             1,
             "#f0f921"
            ]
           ]
          },
          "colorway": [
           "#636efa",
           "#EF553B",
           "#00cc96",
           "#ab63fa",
           "#FFA15A",
           "#19d3f3",
           "#FF6692",
           "#B6E880",
           "#FF97FF",
           "#FECB52"
          ],
          "font": {
           "color": "#2a3f5f"
          },
          "geo": {
           "bgcolor": "white",
           "lakecolor": "white",
           "landcolor": "#E5ECF6",
           "showlakes": true,
           "showland": true,
           "subunitcolor": "white"
          },
          "hoverlabel": {
           "align": "left"
          },
          "hovermode": "closest",
          "mapbox": {
           "style": "light"
          },
          "paper_bgcolor": "white",
          "plot_bgcolor": "#E5ECF6",
          "polar": {
           "angularaxis": {
            "gridcolor": "white",
            "linecolor": "white",
            "ticks": ""
           },
           "bgcolor": "#E5ECF6",
           "radialaxis": {
            "gridcolor": "white",
            "linecolor": "white",
            "ticks": ""
           }
          },
          "scene": {
           "xaxis": {
            "backgroundcolor": "#E5ECF6",
            "gridcolor": "white",
            "gridwidth": 2,
            "linecolor": "white",
            "showbackground": true,
            "ticks": "",
            "zerolinecolor": "white"
           },
           "yaxis": {
            "backgroundcolor": "#E5ECF6",
            "gridcolor": "white",
            "gridwidth": 2,
            "linecolor": "white",
            "showbackground": true,
            "ticks": "",
            "zerolinecolor": "white"
           },
           "zaxis": {
            "backgroundcolor": "#E5ECF6",
            "gridcolor": "white",
            "gridwidth": 2,
            "linecolor": "white",
            "showbackground": true,
            "ticks": "",
            "zerolinecolor": "white"
           }
          },
          "shapedefaults": {
           "line": {
            "color": "#2a3f5f"
           }
          },
          "ternary": {
           "aaxis": {
            "gridcolor": "white",
            "linecolor": "white",
            "ticks": ""
           },
           "baxis": {
            "gridcolor": "white",
            "linecolor": "white",
            "ticks": ""
           },
           "bgcolor": "#E5ECF6",
           "caxis": {
            "gridcolor": "white",
            "linecolor": "white",
            "ticks": ""
           }
          },
          "title": {
           "x": 0.05
          },
          "xaxis": {
           "automargin": true,
           "gridcolor": "white",
           "linecolor": "white",
           "ticks": "",
           "title": {
            "standoff": 15
           },
           "zerolinecolor": "white",
           "zerolinewidth": 2
          },
          "yaxis": {
           "automargin": true,
           "gridcolor": "white",
           "linecolor": "white",
           "ticks": "",
           "title": {
            "standoff": 15
           },
           "zerolinecolor": "white",
           "zerolinewidth": 2
          }
         }
        },
        "title": {
         "text": "Interactive DAG da Rede Bayesiana com CPTs"
        }
       }
      }
     },
     "metadata": {},
     "output_type": "display_data"
    }
   ],
   "source": [
    "import plotly.graph_objects as go\n",
    "\n",
    "G = nx.DiGraph(best_model.edges())\n",
    "\n",
    "pos = nx.spring_layout(G)\n",
    "\n",
    "# Prepare edge coordinates\n",
    "edge_x = []\n",
    "edge_y = []\n",
    "for edge in G.edges():\n",
    "    x0, y0 = pos[edge[0]]\n",
    "    x1, y1 = pos[edge[1]]\n",
    "    edge_x.extend([x0, x1, None])\n",
    "    edge_y.extend([y0, y1, None])\n",
    "\n",
    "edge_trace = go.Scatter(\n",
    "    x=edge_x, y=edge_y,\n",
    "    line=dict(width=2, color='#888'),\n",
    "    hoverinfo='none',\n",
    "    mode='lines'\n",
    ")\n",
    "\n",
    "# Prepare node coordinates and texts (including CPT if available)\n",
    "node_x = []\n",
    "node_y = []\n",
    "node_text = []\n",
    "for node in G.nodes():\n",
    "    x, y = pos[node]\n",
    "    node_x.append(x)\n",
    "    node_y.append(y)\n",
    "    # Search for the CPD corresponding to the node.\n",
    "    cpd_str = None\n",
    "    for cpd in model.get_cpds():\n",
    "        if cpd.variable == node:\n",
    "            percent_values = np.array(cpd.values) * 100\n",
    "            # Format the CPD as a table-like string\n",
    "            if percent_values.ndim == 0:\n",
    "                rows = [f\"{percent_values.item():.0f}%\"]\n",
    "            elif percent_values.ndim == 1:\n",
    "                rows = [\" | \".join(f\"{val:.0f}%\" for val in percent_values)]\n",
    "            elif percent_values.ndim == 2:\n",
    "                rows = []\n",
    "                for row in percent_values:\n",
    "                    rows.append(\" | \".join(f\"{val:.0f}%\" for val in row))\n",
    "            elif percent_values.ndim == 3:\n",
    "                rows = []\n",
    "                for matrix in percent_values:\n",
    "                    rows.append(\"\\n\".join(\" | \".join(f\"{val:.0f}%\" for val in row) for row in matrix))\n",
    "            else:\n",
    "                rows = [str(percent_values)]\n",
    "            cpd_str = \"\\n\".join(rows)\n",
    "            break\n",
    "    if cpd_str:\n",
    "        node_text.append(f\"{node}\\n{cpd_str}\")\n",
    "    else:\n",
    "        node_text.append(node)\n",
    "\n",
    "node_trace = go.Scatter(\n",
    "    x=node_x, \n",
    "    y=node_y,\n",
    "    mode='markers+text',\n",
    "    text=node_text,\n",
    "    textposition='bottom center',\n",
    "    marker=dict(\n",
    "        size=20,\n",
    "        color='lightblue',\n",
    "        line_width=2\n",
    "    ),\n",
    "    hoverinfo='text'\n",
    ")\n",
    "\n",
    "fig = go.Figure(data=[edge_trace, node_trace],\n",
    "                layout=go.Layout(\n",
    "                    title=\"Interactive DAG da Rede Bayesiana com CPTs\",\n",
    "                    showlegend=False,\n",
    "                    hovermode='closest',\n",
    "                    margin=dict(b=20, l=5, r=5, t=40)\n",
    "                )\n",
    ")\n",
    "\n",
    "fig.show()\n"
   ]
  },
  {
   "cell_type": "code",
   "execution_count": null,
   "metadata": {},
   "outputs": [
    {
     "name": "stderr",
     "output_type": "stream",
     "text": [
      "25-03-25 14:04:50 [pgmpy            ]> WARNING > BayesianModel has been renamed to BayesianNetwork. Please use BayesianNetwork class, BayesianModel will be removed in future.\n",
      "25-03-25 14:04:50 [pgmpy            ]> WARNING > BayesianModel has been renamed to BayesianNetwork. Please use BayesianNetwork class, BayesianModel will be removed in future.\n",
      "25-03-25 14:04:50 [pgmpy            ]> WARNING > BayesianModel has been renamed to BayesianNetwork. Please use BayesianNetwork class, BayesianModel will be removed in future.\n",
      "25-03-25 14:04:50 [pgmpy            ]> WARNING > BayesianModel has been renamed to BayesianNetwork. Please use BayesianNetwork class, BayesianModel will be removed in future.\n"
     ]
    },
    {
     "name": "stdout",
     "output_type": "stream",
     "text": [
      "\n",
      "Marginais para 'dysp':\n",
      "+---------+-------------+\n",
      "| dysp    |   phi(dysp) |\n",
      "+=========+=============+\n",
      "| dysp(0) |      0.4467 |\n",
      "+---------+-------------+\n",
      "| dysp(1) |      0.5533 |\n",
      "+---------+-------------+\n",
      "\n",
      "Marginais para 'dysp' com intervenção (tub=1):\n",
      "+---------+-------------+\n",
      "| dysp    |   phi(dysp) |\n",
      "+=========+=============+\n",
      "| dysp(0) |      0.4427 |\n",
      "+---------+-------------+\n",
      "| dysp(1) |      0.5573 |\n",
      "+---------+-------------+\n"
     ]
    }
   ],
   "source": [
    "# Criar o motor de inferência (equivalente ao InferenceEngine)\n",
    "inference = VariableElimination(model)\n",
    "\n",
    "# Consultar as marginais para a variável 'dysp'\n",
    "marginal_dysp = inference.query(variables=['dysp'])\n",
    "print(\"\\nMarginais para 'dysp':\")\n",
    "print(marginal_dysp)\n",
    "\n",
    "# Exemplo de intervenção: fixar o valor da variável 'tub' para 1 e ver o efeito em 'dysp'\n",
    "marginal_dysp_intervened = inference.query(variables=['dysp'], evidence={'tub': 1})\n",
    "print(\"\\nMarginais para 'dysp' com intervenção (tub=1):\")\n",
    "print(marginal_dysp_intervened)\n"
   ]
  },
  {
   "cell_type": "code",
   "execution_count": 55,
   "metadata": {},
   "outputs": [
    {
     "name": "stdout",
     "output_type": "stream",
     "text": [
      "\n",
      "Dataset com dados imputados:\n",
      "   asia  tub  smoke  lung  bronc  either  xray      dysp\n",
      "0   1.0  1.0    0.0   1.0    1.0     1.0   1.0  0.876489\n",
      "1   1.0  1.0    1.0   1.0    0.0     1.0   1.0  1.000000\n",
      "2   1.0  1.0    1.0   1.0    0.0     1.0   1.0  1.000000\n",
      "3   1.0  1.0    1.0   1.0    1.0     1.0   1.0  0.893497\n",
      "4   1.0  1.0    1.0   1.0    1.0     1.0   1.0  1.000000\n"
     ]
    }
   ],
   "source": [
    "# ============================================================\n",
    "# Imputação de Dados Faltantes\n",
    "# ============================================================\n",
    "# Para imputação de dados faltantes, podemos utilizar o IterativeImputer do scikit-learn\n",
    "from sklearn.experimental import enable_iterative_imputer  # noqa\n",
    "from sklearn.impute import IterativeImputer\n",
    "\n",
    "# Simular dados faltantes: introduzindo NaN em 10% das linhas da coluna 'dysp'\n",
    "data_missing = data.copy()\n",
    "missing_indices = data_missing.sample(frac=0.1, random_state=42).index\n",
    "data_missing.loc[missing_indices, 'dysp'] = np.nan\n",
    "\n",
    "# Aplicar imputação iterativa\n",
    "imputer = IterativeImputer(random_state=0)\n",
    "data_imputed = pd.DataFrame(imputer.fit_transform(data_missing), columns=data_missing.columns)\n",
    "print(\"\\nDataset com dados imputados:\")\n",
    "print(data_imputed.head())\n"
   ]
  },
  {
   "cell_type": "code",
   "execution_count": 56,
   "metadata": {},
   "outputs": [
    {
     "name": "stdout",
     "output_type": "stream",
     "text": [
      "\n",
      "Exemplo de dataset bootstrapped:\n",
      "      asia  tub  smoke  lung  bronc  either  xray  dysp\n",
      "2732     1    1      0     1      0       1     1     0\n",
      "9845     1    1      0     1      0       1     1     0\n",
      "3264     1    1      1     1      0       1     1     1\n",
      "4859     1    1      1     1      1       1     1     0\n",
      "9225     1    1      1     1      1       1     1     1\n"
     ]
    }
   ],
   "source": [
    "# ============================================================\n",
    "# Bootstrapping do Dataset\n",
    "# ============================================================\n",
    "# Para realizar bootstrapping, podemos usar a função 'resample' do scikit-learn\n",
    "from sklearn.utils import resample\n",
    "\n",
    "data_bootstrap = resample(data, n_samples=len(data), random_state=0)\n",
    "print(\"\\nExemplo de dataset bootstrapped:\")\n",
    "print(data_bootstrap.head())"
   ]
  },
  {
   "cell_type": "code",
   "execution_count": null,
   "metadata": {},
   "outputs": [],
   "source": []
  }
 ],
 "metadata": {
  "kernelspec": {
   "display_name": "Python 3",
   "language": "python",
   "name": "python3"
  },
  "language_info": {
   "codemirror_mode": {
    "name": "ipython",
    "version": 3
   },
   "file_extension": ".py",
   "mimetype": "text/x-python",
   "name": "python",
   "nbconvert_exporter": "python",
   "pygments_lexer": "ipython3",
   "version": "3.12.1"
  }
 },
 "nbformat": 4,
 "nbformat_minor": 2
}
