{
 "cells": [
  {
   "cell_type": "code",
   "execution_count": 2,
   "metadata": {},
   "outputs": [
    {
     "data": {
      "application/vnd.jupyter.widget-view+json": {
       "model_id": "d53d74d2eb4a438494ab6e9efb17c3e4",
       "version_major": 2,
       "version_minor": 0
      },
      "text/plain": [
       "  0%|          | 0/1000000 [00:00<?, ?it/s]"
      ]
     },
     "metadata": {},
     "output_type": "display_data"
    },
    {
     "name": "stdout",
     "output_type": "stream",
     "text": [
      "Nós: ['A', 'B', 'C']\n",
      "Arestas: []\n"
     ]
    },
    {
     "data": {
      "image/png": "[encoded data removed]",
      "text/plain": [
       "<Figure size 600x400 with 1 Axes>"
      ]
     },
     "metadata": {},
     "output_type": "display_data"
    },
    {
     "name": "stdout",
     "output_type": "stream",
     "text": [
      "\n",
      "Consulta marginal de C:\n",
      "+------+----------+\n",
      "| C    |   phi(C) |\n",
      "+======+==========+\n",
      "| C(0) |   0.5100 |\n",
      "+------+----------+\n",
      "| C(1) |   0.4900 |\n",
      "+------+----------+\n"
     ]
    }
   ],
   "source": [
    "import pandas as pd\n",
    "import numpy as np\n",
    "import matplotlib.pyplot as plt\n",
    "import networkx as nx\n",
    "\n",
    "from pgmpy.models import BayesianNetwork\n",
    "from pgmpy.estimators import HillClimbSearch, BDeuScore, MaximumLikelihoodEstimator\n",
    "from pgmpy.inference import VariableElimination\n",
    "\n",
    "# Gera um dataset de exemplo simples (categorias 0/1)\n",
    "data = pd.DataFrame({\n",
    "    \"A\": np.random.choice([0, 1], size=1000),\n",
    "    \"B\": np.random.choice([0, 1], size=1000),\n",
    "    \"C\": np.random.choice([0, 1], size=1000),\n",
    "})\n",
    "\n",
    "# Aprender estrutura\n",
    "hc = HillClimbSearch(data)\n",
    "best_model = hc.estimate(scoring_method=BDeuScore(data))\n",
    "\n",
    "# Criar modelo\n",
    "model = BayesianNetwork(best_model.edges())\n",
    "\n",
    "# Adicionar nós ausentes (por exemplo, nós isolados)\n",
    "model.add_nodes_from(data.columns)\n",
    "\n",
    "# Ajustar CPDs\n",
    "model.fit(data, estimator=MaximumLikelihoodEstimator)\n",
    "\n",
    "# Visualizar nós e arestas\n",
    "print(\"Nós:\", model.nodes())\n",
    "print(\"Arestas:\", model.edges())\n",
    "\n",
    "# Plotar\n",
    "plt.figure(figsize=(6, 4))\n",
    "pos = nx.spring_layout(model, seed=42)\n",
    "nx.draw_networkx(model, pos, node_color='lightblue', arrows=True, arrowstyle='->')\n",
    "plt.title(\"DAG da Rede Bayesiana\")\n",
    "plt.axis('off')\n",
    "plt.show()\n",
    "\n",
    "# Inferência\n",
    "inference = VariableElimination(model)\n",
    "print(\"\\nConsulta marginal de C:\")\n",
    "print(inference.query(variables=[\"C\"]))"
   ]
  },
  {
   "cell_type": "code",
   "execution_count": null,
   "metadata": {},
   "outputs": [],
   "source": [
    "\n"
   ]
  }
 ],
 "metadata": {
  "kernelspec": {
   "display_name": "Python 3",
   "language": "python",
   "name": "python3"
  },
  "language_info": {
   "codemirror_mode": {
    "name": "ipython",
    "version": 3
   },
   "file_extension": ".py",
   "mimetype": "text/x-python",
   "name": "python",
   "nbconvert_exporter": "python",
   "pygments_lexer": "ipython3",
   "version": "3.12.1"
  }
 },
 "nbformat": 4,
 "nbformat_minor": 2
}
